{
 "cells": [
  {
   "cell_type": "markdown",
   "metadata": {},
   "source": [
    "### Importing packages"
   ]
  },
  {
   "cell_type": "code",
   "execution_count": 1,
   "metadata": {
    "collapsed": true
   },
   "outputs": [],
   "source": [
    "import numpy as ap\n",
    "import pandas as pd\n",
    "import matplotlib.pyplot as plt\n",
    "import mpl_toolkits\n",
    "%matplotlib inline"
   ]
  },
  {
   "cell_type": "markdown",
   "metadata": {},
   "source": [
    "### Reading a csv file from a local file and storing the details in the variable data"
   ]
  },
  {
   "cell_type": "code",
   "execution_count": 2,
   "metadata": {
    "collapsed": true
   },
   "outputs": [],
   "source": [
    "data = pd.read_csv(\"C:/datasets/kc_house_data.csv\")"
   ]
  },
  {
   "cell_type": "markdown",
   "metadata": {},
   "source": [
    "Reading the data stored in data, head() function will list the first 5 from the csv file"
   ]
  },
  {
   "cell_type": "code",
   "execution_count": 3,
   "metadata": {
    "collapsed": false
   },
   "outputs": [
    {
     "data": {
      "text/html": [
       "<div>\n",
       "<table border=\"1\" class=\"dataframe\">\n",
       "  <thead>\n",
       "    <tr style=\"text-align: right;\">\n",
       "      <th></th>\n",
       "      <th>id</th>\n",
       "      <th>date</th>\n",
       "      <th>price</th>\n",
       "      <th>bedrooms</th>\n",
       "      <th>bathrooms</th>\n",
       "      <th>sqft_living</th>\n",
       "      <th>sqft_lot</th>\n",
       "      <th>floors</th>\n",
       "      <th>waterfront</th>\n",
       "      <th>view</th>\n",
       "      <th>...</th>\n",
       "      <th>grade</th>\n",
       "      <th>sqft_above</th>\n",
       "      <th>sqft_basement</th>\n",
       "      <th>yr_built</th>\n",
       "      <th>yr_renovated</th>\n",
       "      <th>zipcode</th>\n",
       "      <th>lat</th>\n",
       "      <th>long</th>\n",
       "      <th>sqft_living15</th>\n",
       "      <th>sqft_lot15</th>\n",
       "    </tr>\n",
       "  </thead>\n",
       "  <tbody>\n",
       "    <tr>\n",
       "      <th>0</th>\n",
       "      <td>7129300520</td>\n",
       "      <td>20141013T000000</td>\n",
       "      <td>221900</td>\n",
       "      <td>3</td>\n",
       "      <td>1.00</td>\n",
       "      <td>1180</td>\n",
       "      <td>5650</td>\n",
       "      <td>1</td>\n",
       "      <td>0</td>\n",
       "      <td>0</td>\n",
       "      <td>...</td>\n",
       "      <td>7</td>\n",
       "      <td>1180</td>\n",
       "      <td>0</td>\n",
       "      <td>1955</td>\n",
       "      <td>0</td>\n",
       "      <td>98178</td>\n",
       "      <td>47.5112</td>\n",
       "      <td>-122.257</td>\n",
       "      <td>1340</td>\n",
       "      <td>5650</td>\n",
       "    </tr>\n",
       "    <tr>\n",
       "      <th>1</th>\n",
       "      <td>6414100192</td>\n",
       "      <td>20141209T000000</td>\n",
       "      <td>538000</td>\n",
       "      <td>3</td>\n",
       "      <td>2.25</td>\n",
       "      <td>2570</td>\n",
       "      <td>7242</td>\n",
       "      <td>2</td>\n",
       "      <td>0</td>\n",
       "      <td>0</td>\n",
       "      <td>...</td>\n",
       "      <td>7</td>\n",
       "      <td>2170</td>\n",
       "      <td>400</td>\n",
       "      <td>1951</td>\n",
       "      <td>1991</td>\n",
       "      <td>98125</td>\n",
       "      <td>47.7210</td>\n",
       "      <td>-122.319</td>\n",
       "      <td>1690</td>\n",
       "      <td>7639</td>\n",
       "    </tr>\n",
       "    <tr>\n",
       "      <th>2</th>\n",
       "      <td>5631500400</td>\n",
       "      <td>20150225T000000</td>\n",
       "      <td>180000</td>\n",
       "      <td>2</td>\n",
       "      <td>1.00</td>\n",
       "      <td>770</td>\n",
       "      <td>10000</td>\n",
       "      <td>1</td>\n",
       "      <td>0</td>\n",
       "      <td>0</td>\n",
       "      <td>...</td>\n",
       "      <td>6</td>\n",
       "      <td>770</td>\n",
       "      <td>0</td>\n",
       "      <td>1933</td>\n",
       "      <td>0</td>\n",
       "      <td>98028</td>\n",
       "      <td>47.7379</td>\n",
       "      <td>-122.233</td>\n",
       "      <td>2720</td>\n",
       "      <td>8062</td>\n",
       "    </tr>\n",
       "    <tr>\n",
       "      <th>3</th>\n",
       "      <td>2487200875</td>\n",
       "      <td>20141209T000000</td>\n",
       "      <td>604000</td>\n",
       "      <td>4</td>\n",
       "      <td>3.00</td>\n",
       "      <td>1960</td>\n",
       "      <td>5000</td>\n",
       "      <td>1</td>\n",
       "      <td>0</td>\n",
       "      <td>0</td>\n",
       "      <td>...</td>\n",
       "      <td>7</td>\n",
       "      <td>1050</td>\n",
       "      <td>910</td>\n",
       "      <td>1965</td>\n",
       "      <td>0</td>\n",
       "      <td>98136</td>\n",
       "      <td>47.5208</td>\n",
       "      <td>-122.393</td>\n",
       "      <td>1360</td>\n",
       "      <td>5000</td>\n",
       "    </tr>\n",
       "    <tr>\n",
       "      <th>4</th>\n",
       "      <td>1954400510</td>\n",
       "      <td>20150218T000000</td>\n",
       "      <td>510000</td>\n",
       "      <td>3</td>\n",
       "      <td>2.00</td>\n",
       "      <td>1680</td>\n",
       "      <td>8080</td>\n",
       "      <td>1</td>\n",
       "      <td>0</td>\n",
       "      <td>0</td>\n",
       "      <td>...</td>\n",
       "      <td>8</td>\n",
       "      <td>1680</td>\n",
       "      <td>0</td>\n",
       "      <td>1987</td>\n",
       "      <td>0</td>\n",
       "      <td>98074</td>\n",
       "      <td>47.6168</td>\n",
       "      <td>-122.045</td>\n",
       "      <td>1800</td>\n",
       "      <td>7503</td>\n",
       "    </tr>\n",
       "  </tbody>\n",
       "</table>\n",
       "<p>5 rows × 21 columns</p>\n",
       "</div>"
      ],
      "text/plain": [
       "           id             date   price  bedrooms  bathrooms  sqft_living  \\\n",
       "0  7129300520  20141013T000000  221900         3       1.00         1180   \n",
       "1  6414100192  20141209T000000  538000         3       2.25         2570   \n",
       "2  5631500400  20150225T000000  180000         2       1.00          770   \n",
       "3  2487200875  20141209T000000  604000         4       3.00         1960   \n",
       "4  1954400510  20150218T000000  510000         3       2.00         1680   \n",
       "\n",
       "   sqft_lot  floors  waterfront  view     ...      grade  sqft_above  \\\n",
       "0      5650       1           0     0     ...          7        1180   \n",
       "1      7242       2           0     0     ...          7        2170   \n",
       "2     10000       1           0     0     ...          6         770   \n",
       "3      5000       1           0     0     ...          7        1050   \n",
       "4      8080       1           0     0     ...          8        1680   \n",
       "\n",
       "   sqft_basement  yr_built  yr_renovated  zipcode      lat     long  \\\n",
       "0              0      1955             0    98178  47.5112 -122.257   \n",
       "1            400      1951          1991    98125  47.7210 -122.319   \n",
       "2              0      1933             0    98028  47.7379 -122.233   \n",
       "3            910      1965             0    98136  47.5208 -122.393   \n",
       "4              0      1987             0    98074  47.6168 -122.045   \n",
       "\n",
       "   sqft_living15  sqft_lot15  \n",
       "0           1340        5650  \n",
       "1           1690        7639  \n",
       "2           2720        8062  \n",
       "3           1360        5000  \n",
       "4           1800        7503  \n",
       "\n",
       "[5 rows x 21 columns]"
      ]
     },
     "execution_count": 3,
     "metadata": {},
     "output_type": "execute_result"
    }
   ],
   "source": [
    "data.head()"
   ]
  },
  {
   "cell_type": "markdown",
   "metadata": {},
   "source": [
    "### Deleting columns from the dataset, (del variableName['columnName'] )"
   ]
  },
  {
   "cell_type": "markdown",
   "metadata": {},
   "source": [
    "deleting columns that are not needed for the project i.e. sqft_living, waterfront"
   ]
  },
  {
   "cell_type": "code",
   "execution_count": 4,
   "metadata": {
    "collapsed": false
   },
   "outputs": [],
   "source": [
    "del data['id']"
   ]
  },
  {
   "cell_type": "code",
   "execution_count": 5,
   "metadata": {
    "collapsed": true
   },
   "outputs": [],
   "source": [
    "del data['date']"
   ]
  },
  {
   "cell_type": "code",
   "execution_count": 6,
   "metadata": {
    "collapsed": true
   },
   "outputs": [],
   "source": [
    "del data['sqft_lot']"
   ]
  },
  {
   "cell_type": "code",
   "execution_count": 7,
   "metadata": {
    "collapsed": true
   },
   "outputs": [],
   "source": [
    "del data['waterfront']"
   ]
  },
  {
   "cell_type": "code",
   "execution_count": 8,
   "metadata": {
    "collapsed": true
   },
   "outputs": [],
   "source": [
    "del data['sqft_above']\n",
    "del data['sqft_basement']\n",
    "del data['sqft_living15']"
   ]
  },
  {
   "cell_type": "code",
   "execution_count": 9,
   "metadata": {
    "collapsed": true
   },
   "outputs": [],
   "source": [
    "del data['sqft_lot15']"
   ]
  },
  {
   "cell_type": "code",
   "execution_count": 10,
   "metadata": {
    "collapsed": true
   },
   "outputs": [],
   "source": [
    "del data['view']"
   ]
  },
  {
   "cell_type": "code",
   "execution_count": 11,
   "metadata": {
    "collapsed": false
   },
   "outputs": [
    {
     "data": {
      "text/html": [
       "<div>\n",
       "<table border=\"1\" class=\"dataframe\">\n",
       "  <thead>\n",
       "    <tr style=\"text-align: right;\">\n",
       "      <th></th>\n",
       "      <th>price</th>\n",
       "      <th>bedrooms</th>\n",
       "      <th>bathrooms</th>\n",
       "      <th>sqft_living</th>\n",
       "      <th>floors</th>\n",
       "      <th>condition</th>\n",
       "      <th>grade</th>\n",
       "      <th>yr_built</th>\n",
       "      <th>yr_renovated</th>\n",
       "      <th>zipcode</th>\n",
       "      <th>lat</th>\n",
       "      <th>long</th>\n",
       "    </tr>\n",
       "  </thead>\n",
       "  <tbody>\n",
       "    <tr>\n",
       "      <th>0</th>\n",
       "      <td>221900</td>\n",
       "      <td>3</td>\n",
       "      <td>1.00</td>\n",
       "      <td>1180</td>\n",
       "      <td>1</td>\n",
       "      <td>3</td>\n",
       "      <td>7</td>\n",
       "      <td>1955</td>\n",
       "      <td>0</td>\n",
       "      <td>98178</td>\n",
       "      <td>47.5112</td>\n",
       "      <td>-122.257</td>\n",
       "    </tr>\n",
       "    <tr>\n",
       "      <th>1</th>\n",
       "      <td>538000</td>\n",
       "      <td>3</td>\n",
       "      <td>2.25</td>\n",
       "      <td>2570</td>\n",
       "      <td>2</td>\n",
       "      <td>3</td>\n",
       "      <td>7</td>\n",
       "      <td>1951</td>\n",
       "      <td>1991</td>\n",
       "      <td>98125</td>\n",
       "      <td>47.7210</td>\n",
       "      <td>-122.319</td>\n",
       "    </tr>\n",
       "    <tr>\n",
       "      <th>2</th>\n",
       "      <td>180000</td>\n",
       "      <td>2</td>\n",
       "      <td>1.00</td>\n",
       "      <td>770</td>\n",
       "      <td>1</td>\n",
       "      <td>3</td>\n",
       "      <td>6</td>\n",
       "      <td>1933</td>\n",
       "      <td>0</td>\n",
       "      <td>98028</td>\n",
       "      <td>47.7379</td>\n",
       "      <td>-122.233</td>\n",
       "    </tr>\n",
       "    <tr>\n",
       "      <th>3</th>\n",
       "      <td>604000</td>\n",
       "      <td>4</td>\n",
       "      <td>3.00</td>\n",
       "      <td>1960</td>\n",
       "      <td>1</td>\n",
       "      <td>5</td>\n",
       "      <td>7</td>\n",
       "      <td>1965</td>\n",
       "      <td>0</td>\n",
       "      <td>98136</td>\n",
       "      <td>47.5208</td>\n",
       "      <td>-122.393</td>\n",
       "    </tr>\n",
       "    <tr>\n",
       "      <th>4</th>\n",
       "      <td>510000</td>\n",
       "      <td>3</td>\n",
       "      <td>2.00</td>\n",
       "      <td>1680</td>\n",
       "      <td>1</td>\n",
       "      <td>3</td>\n",
       "      <td>8</td>\n",
       "      <td>1987</td>\n",
       "      <td>0</td>\n",
       "      <td>98074</td>\n",
       "      <td>47.6168</td>\n",
       "      <td>-122.045</td>\n",
       "    </tr>\n",
       "  </tbody>\n",
       "</table>\n",
       "</div>"
      ],
      "text/plain": [
       "    price  bedrooms  bathrooms  sqft_living  floors  condition  grade  \\\n",
       "0  221900         3       1.00         1180       1          3      7   \n",
       "1  538000         3       2.25         2570       2          3      7   \n",
       "2  180000         2       1.00          770       1          3      6   \n",
       "3  604000         4       3.00         1960       1          5      7   \n",
       "4  510000         3       2.00         1680       1          3      8   \n",
       "\n",
       "   yr_built  yr_renovated  zipcode      lat     long  \n",
       "0      1955             0    98178  47.5112 -122.257  \n",
       "1      1951          1991    98125  47.7210 -122.319  \n",
       "2      1933             0    98028  47.7379 -122.233  \n",
       "3      1965             0    98136  47.5208 -122.393  \n",
       "4      1987             0    98074  47.6168 -122.045  "
      ]
     },
     "execution_count": 11,
     "metadata": {},
     "output_type": "execute_result"
    }
   ],
   "source": [
    "data.head()"
   ]
  },
  {
   "cell_type": "code",
   "execution_count": 12,
   "metadata": {
    "collapsed": false
   },
   "outputs": [
    {
     "data": {
      "text/html": [
       "<div>\n",
       "<table border=\"1\" class=\"dataframe\">\n",
       "  <thead>\n",
       "    <tr style=\"text-align: right;\">\n",
       "      <th></th>\n",
       "      <th>price</th>\n",
       "      <th>bedrooms</th>\n",
       "      <th>bathrooms</th>\n",
       "      <th>sqft_living</th>\n",
       "      <th>floors</th>\n",
       "      <th>condition</th>\n",
       "      <th>grade</th>\n",
       "      <th>yr_built</th>\n",
       "      <th>yr_renovated</th>\n",
       "      <th>zipcode</th>\n",
       "      <th>lat</th>\n",
       "      <th>long</th>\n",
       "    </tr>\n",
       "  </thead>\n",
       "  <tbody>\n",
       "    <tr>\n",
       "      <th>0</th>\n",
       "      <td>221900</td>\n",
       "      <td>3</td>\n",
       "      <td>1.00</td>\n",
       "      <td>1180</td>\n",
       "      <td>1</td>\n",
       "      <td>3</td>\n",
       "      <td>7</td>\n",
       "      <td>1955</td>\n",
       "      <td>0</td>\n",
       "      <td>98178</td>\n",
       "      <td>47.5112</td>\n",
       "      <td>-122.257</td>\n",
       "    </tr>\n",
       "    <tr>\n",
       "      <th>1</th>\n",
       "      <td>538000</td>\n",
       "      <td>3</td>\n",
       "      <td>2.25</td>\n",
       "      <td>2570</td>\n",
       "      <td>2</td>\n",
       "      <td>3</td>\n",
       "      <td>7</td>\n",
       "      <td>1951</td>\n",
       "      <td>1991</td>\n",
       "      <td>98125</td>\n",
       "      <td>47.7210</td>\n",
       "      <td>-122.319</td>\n",
       "    </tr>\n",
       "    <tr>\n",
       "      <th>2</th>\n",
       "      <td>180000</td>\n",
       "      <td>2</td>\n",
       "      <td>1.00</td>\n",
       "      <td>770</td>\n",
       "      <td>1</td>\n",
       "      <td>3</td>\n",
       "      <td>6</td>\n",
       "      <td>1933</td>\n",
       "      <td>0</td>\n",
       "      <td>98028</td>\n",
       "      <td>47.7379</td>\n",
       "      <td>-122.233</td>\n",
       "    </tr>\n",
       "    <tr>\n",
       "      <th>3</th>\n",
       "      <td>604000</td>\n",
       "      <td>4</td>\n",
       "      <td>3.00</td>\n",
       "      <td>1960</td>\n",
       "      <td>1</td>\n",
       "      <td>5</td>\n",
       "      <td>7</td>\n",
       "      <td>1965</td>\n",
       "      <td>0</td>\n",
       "      <td>98136</td>\n",
       "      <td>47.5208</td>\n",
       "      <td>-122.393</td>\n",
       "    </tr>\n",
       "    <tr>\n",
       "      <th>4</th>\n",
       "      <td>510000</td>\n",
       "      <td>3</td>\n",
       "      <td>2.00</td>\n",
       "      <td>1680</td>\n",
       "      <td>1</td>\n",
       "      <td>3</td>\n",
       "      <td>8</td>\n",
       "      <td>1987</td>\n",
       "      <td>0</td>\n",
       "      <td>98074</td>\n",
       "      <td>47.6168</td>\n",
       "      <td>-122.045</td>\n",
       "    </tr>\n",
       "    <tr>\n",
       "      <th>5</th>\n",
       "      <td>1225000</td>\n",
       "      <td>4</td>\n",
       "      <td>4.50</td>\n",
       "      <td>5420</td>\n",
       "      <td>1</td>\n",
       "      <td>3</td>\n",
       "      <td>11</td>\n",
       "      <td>2001</td>\n",
       "      <td>0</td>\n",
       "      <td>98053</td>\n",
       "      <td>47.6561</td>\n",
       "      <td>-122.005</td>\n",
       "    </tr>\n",
       "    <tr>\n",
       "      <th>6</th>\n",
       "      <td>257500</td>\n",
       "      <td>3</td>\n",
       "      <td>2.25</td>\n",
       "      <td>1715</td>\n",
       "      <td>2</td>\n",
       "      <td>3</td>\n",
       "      <td>7</td>\n",
       "      <td>1995</td>\n",
       "      <td>0</td>\n",
       "      <td>98003</td>\n",
       "      <td>47.3097</td>\n",
       "      <td>-122.327</td>\n",
       "    </tr>\n",
       "    <tr>\n",
       "      <th>7</th>\n",
       "      <td>291850</td>\n",
       "      <td>3</td>\n",
       "      <td>1.50</td>\n",
       "      <td>1060</td>\n",
       "      <td>1</td>\n",
       "      <td>3</td>\n",
       "      <td>7</td>\n",
       "      <td>1963</td>\n",
       "      <td>0</td>\n",
       "      <td>98198</td>\n",
       "      <td>47.4095</td>\n",
       "      <td>-122.315</td>\n",
       "    </tr>\n",
       "    <tr>\n",
       "      <th>8</th>\n",
       "      <td>229500</td>\n",
       "      <td>3</td>\n",
       "      <td>1.00</td>\n",
       "      <td>1780</td>\n",
       "      <td>1</td>\n",
       "      <td>3</td>\n",
       "      <td>7</td>\n",
       "      <td>1960</td>\n",
       "      <td>0</td>\n",
       "      <td>98146</td>\n",
       "      <td>47.5123</td>\n",
       "      <td>-122.337</td>\n",
       "    </tr>\n",
       "    <tr>\n",
       "      <th>9</th>\n",
       "      <td>323000</td>\n",
       "      <td>3</td>\n",
       "      <td>2.50</td>\n",
       "      <td>1890</td>\n",
       "      <td>2</td>\n",
       "      <td>3</td>\n",
       "      <td>7</td>\n",
       "      <td>2003</td>\n",
       "      <td>0</td>\n",
       "      <td>98038</td>\n",
       "      <td>47.3684</td>\n",
       "      <td>-122.031</td>\n",
       "    </tr>\n",
       "  </tbody>\n",
       "</table>\n",
       "</div>"
      ],
      "text/plain": [
       "     price  bedrooms  bathrooms  sqft_living  floors  condition  grade  \\\n",
       "0   221900         3       1.00         1180       1          3      7   \n",
       "1   538000         3       2.25         2570       2          3      7   \n",
       "2   180000         2       1.00          770       1          3      6   \n",
       "3   604000         4       3.00         1960       1          5      7   \n",
       "4   510000         3       2.00         1680       1          3      8   \n",
       "5  1225000         4       4.50         5420       1          3     11   \n",
       "6   257500         3       2.25         1715       2          3      7   \n",
       "7   291850         3       1.50         1060       1          3      7   \n",
       "8   229500         3       1.00         1780       1          3      7   \n",
       "9   323000         3       2.50         1890       2          3      7   \n",
       "\n",
       "   yr_built  yr_renovated  zipcode      lat     long  \n",
       "0      1955             0    98178  47.5112 -122.257  \n",
       "1      1951          1991    98125  47.7210 -122.319  \n",
       "2      1933             0    98028  47.7379 -122.233  \n",
       "3      1965             0    98136  47.5208 -122.393  \n",
       "4      1987             0    98074  47.6168 -122.045  \n",
       "5      2001             0    98053  47.6561 -122.005  \n",
       "6      1995             0    98003  47.3097 -122.327  \n",
       "7      1963             0    98198  47.4095 -122.315  \n",
       "8      1960             0    98146  47.5123 -122.337  \n",
       "9      2003             0    98038  47.3684 -122.031  "
      ]
     },
     "execution_count": 12,
     "metadata": {},
     "output_type": "execute_result"
    }
   ],
   "source": [
    "data.head(10)"
   ]
  },
  {
   "cell_type": "markdown",
   "metadata": {},
   "source": [
    "### Converting a columns from a float to an int"
   ]
  },
  {
   "cell_type": "code",
   "execution_count": 13,
   "metadata": {
    "collapsed": false
   },
   "outputs": [],
   "source": [
    "import numpy as np"
   ]
  },
  {
   "cell_type": "code",
   "execution_count": 14,
   "metadata": {
    "collapsed": false
   },
   "outputs": [],
   "source": [
    "data1 = pd.DataFrame(data)"
   ]
  },
  {
   "cell_type": "code",
   "execution_count": 15,
   "metadata": {
    "collapsed": true
   },
   "outputs": [],
   "source": [
    "data1['bathrooms'] = data1.bathrooms.astype(int)"
   ]
  },
  {
   "cell_type": "markdown",
   "metadata": {},
   "source": [
    "### Trial with random data and columns"
   ]
  },
  {
   "cell_type": "code",
   "execution_count": 16,
   "metadata": {
    "collapsed": false
   },
   "outputs": [
    {
     "data": {
      "text/html": [
       "<div>\n",
       "<table border=\"1\" class=\"dataframe\">\n",
       "  <thead>\n",
       "    <tr style=\"text-align: right;\">\n",
       "      <th></th>\n",
       "      <th>Actual latitude</th>\n",
       "      <th>Actual longitude</th>\n",
       "      <th>Actual price</th>\n",
       "      <th>Actual rooms</th>\n",
       "      <th>Desired latitude</th>\n",
       "      <th>Desired longitude</th>\n",
       "      <th>Desired price</th>\n",
       "      <th>Desired rooms</th>\n",
       "      <th>Ratings</th>\n",
       "    </tr>\n",
       "  </thead>\n",
       "  <tbody>\n",
       "    <tr>\n",
       "      <th>0</th>\n",
       "      <td>47.5111</td>\n",
       "      <td>-122.334</td>\n",
       "      <td>200,000</td>\n",
       "      <td>2</td>\n",
       "      <td>47.5112</td>\n",
       "      <td>-122.333</td>\n",
       "      <td>250,000</td>\n",
       "      <td>3</td>\n",
       "      <td>1</td>\n",
       "    </tr>\n",
       "    <tr>\n",
       "      <th>1</th>\n",
       "      <td>47.7346</td>\n",
       "      <td>-122.077</td>\n",
       "      <td>300,000</td>\n",
       "      <td>3</td>\n",
       "      <td>47.7346</td>\n",
       "      <td>-122.076</td>\n",
       "      <td>200,000</td>\n",
       "      <td>2</td>\n",
       "      <td>2</td>\n",
       "    </tr>\n",
       "    <tr>\n",
       "      <th>2</th>\n",
       "      <td>47.3333</td>\n",
       "      <td>-122.333</td>\n",
       "      <td>400,000</td>\n",
       "      <td>4</td>\n",
       "      <td>47.6567</td>\n",
       "      <td>-122.543</td>\n",
       "      <td>300,000</td>\n",
       "      <td>4</td>\n",
       "      <td>3</td>\n",
       "    </tr>\n",
       "    <tr>\n",
       "      <th>3</th>\n",
       "      <td>47.764</td>\n",
       "      <td>-122.543</td>\n",
       "      <td>350,000</td>\n",
       "      <td>1</td>\n",
       "      <td>47.1124</td>\n",
       "      <td>-122.456</td>\n",
       "      <td>400,000</td>\n",
       "      <td>1</td>\n",
       "      <td>4</td>\n",
       "    </tr>\n",
       "    <tr>\n",
       "      <th>4</th>\n",
       "      <td>47.764</td>\n",
       "      <td>-122.334</td>\n",
       "      <td>400,000</td>\n",
       "      <td>4</td>\n",
       "      <td>47.6567</td>\n",
       "      <td>-122.456</td>\n",
       "      <td>250,000</td>\n",
       "      <td>1</td>\n",
       "      <td>4</td>\n",
       "    </tr>\n",
       "  </tbody>\n",
       "</table>\n",
       "</div>"
      ],
      "text/plain": [
       "  Actual latitude Actual longitude Actual price Actual rooms Desired latitude  \\\n",
       "0         47.5111         -122.334      200,000            2          47.5112   \n",
       "1         47.7346         -122.077      300,000            3          47.7346   \n",
       "2         47.3333         -122.333      400,000            4          47.6567   \n",
       "3          47.764         -122.543      350,000            1          47.1124   \n",
       "4          47.764         -122.334      400,000            4          47.6567   \n",
       "\n",
       "  Desired longitude Desired price Desired rooms Ratings  \n",
       "0          -122.333       250,000             3       1  \n",
       "1          -122.076       200,000             2       2  \n",
       "2          -122.543       300,000             4       3  \n",
       "3          -122.456       400,000             1       4  \n",
       "4          -122.456       250,000             1       4  "
      ]
     },
     "execution_count": 16,
     "metadata": {},
     "output_type": "execute_result"
    }
   ],
   "source": [
    "import numpy as np\n",
    "import pandas as pd\n",
    "desired_price=['250,000','200,000','300,000','400,000']\n",
    "actual_price=['200,000','300,000','400,000','350,000']\n",
    "desired_location_lat=['47.5112','47.7346','47.6567','47.1124']\n",
    "actual_location_lat=['47.5111','47.7346','47.3333','47.764']\n",
    "desired_location_lon=['-122.333','-122.076','-122.543','-122.456']\n",
    "actual_location_lon=['-122.334','-122.077','-122.333','-122.543']\n",
    "desired_rooms=['3','2','4','1']\n",
    "actual_rooms=['2','3','4','1']\n",
    "ratings=['1','2','3','4']\n",
    "for i in range(1,101):\n",
    "    desired_location_lat.append(np.random.choice(desired_location_lat))\n",
    "    actual_location_lat.append(np.random.choice(actual_location_lat))\n",
    "    desired_location_lon.append(np.random.choice(desired_location_lon))\n",
    "    actual_location_lon.append(np.random.choice(actual_location_lon))\n",
    "    desired_price.append(np.random.choice(desired_price))\n",
    "    actual_price.append(np.random.choice(actual_price))\n",
    "    desired_rooms.append(np.random.choice(desired_rooms))\n",
    "    actual_rooms.append(np.random.choice(actual_rooms))\n",
    "    ratings.append(np.random.choice(ratings))\n",
    "    \n",
    "df=pd.DataFrame({'Desired latitude':desired_location_lat,'Actual latitude':actual_location_lat,\n",
    "                 'Desired longitude':desired_location_lon,'Actual longitude':actual_location_lon,\n",
    "                 'Desired price':desired_price,'Actual price':actual_price,\n",
    "                 'Desired rooms':desired_rooms,'Actual rooms':actual_rooms,\n",
    "                 'Ratings':ratings})\n",
    "df.head()   \n"
   ]
  },
  {
   "cell_type": "code",
   "execution_count": null,
   "metadata": {
    "collapsed": true
   },
   "outputs": [],
   "source": []
  },
  {
   "cell_type": "code",
   "execution_count": 17,
   "metadata": {
    "collapsed": false
   },
   "outputs": [
    {
     "name": "stdout",
     "output_type": "stream",
     "text": [
      "Please enter max number of bedrooms: 4\n",
      "Please enter min number of bedrooms: 3\n",
      "Please enter min number of floors: 2\n",
      "Please enter max number of floors: 2\n",
      "Please enter min year for house built: 1940\n",
      "Please enter max year for house built: 1990\n",
      "Please enter min price of house: 350000\n",
      "Please enter max price of house: 450000\n"
     ]
    }
   ],
   "source": [
    "import csv\n",
    "import numpy as ap\n",
    "import pandas as pd\n",
    "\n",
    "data = pd.read_csv(\"C:/datasets/kc_house_data.csv\")\n",
    "\n",
    "bedroomMin = input(\"Please enter max number of bedrooms: \")\n",
    "bedroomMax = input(\"Please enter min number of bedrooms: \")\n",
    "floorsMin = input(\"Please enter min number of floors: \")\n",
    "floorsMax = input(\"Please enter max number of floors: \")\n",
    "yearBuiltMin = input(\"Please enter min year for house built: \")\n",
    "yearBuiltMax = input(\"Please enter max year for house built: \")\n",
    "priceMin = input(\"Please enter min price of house: \")\n",
    "priceMax = input(\"Please enter max price of house: \")\n",
    "\n",
    "#price = input(\"Please enter your desired price: \")\n",
    "#bedrooms = input(\"Please enter your desired bedrooms: \")\n",
    "#yearBuilt = input(\"Please enter your desired year built: \")\n",
    "\n",
    "#def desiredInputs(price, bedrooms, yearBuilt):\n",
    "    #if(price - price == 0 and bedrooms - bedrooms == 0 and yearBuilt - yearBuilt == 0):\n",
    "        #desiredResults = 100\n",
    "        #print('found')\n",
    "\n",
    "with open(\"C:/datasets/kc_house_data.csv\") as csvfile:\n",
    "    reader = csv.DictReader(csvfile)\n",
    "    for row in reader:\n",
    "        if(row['bedrooms'] >= bedroomMin and row['bedrooms'] <= bedroomMax and row['floors'] >= floorsMin \n",
    "           and row['floors'] <= floorsMax and row['yr_built'] >= yearBuiltMin and row['yr_built'] <= yearBuiltMax\n",
    "           and row['price'] >= priceMin and row['price'] <= priceMax):\n",
    "            \n",
    "            \n",
    "            \n",
    "            print (row['price'], row['bedrooms'], row['floors'], row['yr_built'])\n",
    "            \n",
    "            \n",
    "            #print row[1]\n",
    "            #print (\"we have a match\".join(row))\n",
    "            #print (\" \".join(row))\n",
    "            #print (\"House price %d, number of bedrooms %d, number of floors %d, Year %d.\") % (price, bedrooms, floors, yr_built)\n",
    "            \n",
    "        #else:\n",
    "            #print (\"We could not find a house\")"
   ]
  },
  {
   "cell_type": "code",
   "execution_count": 18,
   "metadata": {
    "collapsed": true
   },
   "outputs": [],
   "source": [
    "import csv\n",
    "import numpy as ap\n",
    "import pandas as pd\n",
    "\n",
    "d = pd.read_csv(\"C:/datasets/kc_house_data.csv\")"
   ]
  },
  {
   "cell_type": "code",
   "execution_count": 19,
   "metadata": {
    "collapsed": false
   },
   "outputs": [
    {
     "data": {
      "text/html": [
       "<div>\n",
       "<table border=\"1\" class=\"dataframe\">\n",
       "  <thead>\n",
       "    <tr style=\"text-align: right;\">\n",
       "      <th></th>\n",
       "      <th>id</th>\n",
       "      <th>date</th>\n",
       "      <th>price</th>\n",
       "      <th>bedrooms</th>\n",
       "      <th>bathrooms</th>\n",
       "      <th>sqft_living</th>\n",
       "      <th>sqft_lot</th>\n",
       "      <th>floors</th>\n",
       "      <th>waterfront</th>\n",
       "      <th>view</th>\n",
       "      <th>...</th>\n",
       "      <th>grade</th>\n",
       "      <th>sqft_above</th>\n",
       "      <th>sqft_basement</th>\n",
       "      <th>yr_built</th>\n",
       "      <th>yr_renovated</th>\n",
       "      <th>zipcode</th>\n",
       "      <th>lat</th>\n",
       "      <th>long</th>\n",
       "      <th>sqft_living15</th>\n",
       "      <th>sqft_lot15</th>\n",
       "    </tr>\n",
       "  </thead>\n",
       "  <tbody>\n",
       "    <tr>\n",
       "      <th>0</th>\n",
       "      <td>7129300520</td>\n",
       "      <td>20141013T000000</td>\n",
       "      <td>221900</td>\n",
       "      <td>3</td>\n",
       "      <td>1.00</td>\n",
       "      <td>1180</td>\n",
       "      <td>5650</td>\n",
       "      <td>1</td>\n",
       "      <td>0</td>\n",
       "      <td>0</td>\n",
       "      <td>...</td>\n",
       "      <td>7</td>\n",
       "      <td>1180</td>\n",
       "      <td>0</td>\n",
       "      <td>1955</td>\n",
       "      <td>0</td>\n",
       "      <td>98178</td>\n",
       "      <td>47.5112</td>\n",
       "      <td>-122.257</td>\n",
       "      <td>1340</td>\n",
       "      <td>5650</td>\n",
       "    </tr>\n",
       "    <tr>\n",
       "      <th>1</th>\n",
       "      <td>6414100192</td>\n",
       "      <td>20141209T000000</td>\n",
       "      <td>538000</td>\n",
       "      <td>3</td>\n",
       "      <td>2.25</td>\n",
       "      <td>2570</td>\n",
       "      <td>7242</td>\n",
       "      <td>2</td>\n",
       "      <td>0</td>\n",
       "      <td>0</td>\n",
       "      <td>...</td>\n",
       "      <td>7</td>\n",
       "      <td>2170</td>\n",
       "      <td>400</td>\n",
       "      <td>1951</td>\n",
       "      <td>1991</td>\n",
       "      <td>98125</td>\n",
       "      <td>47.7210</td>\n",
       "      <td>-122.319</td>\n",
       "      <td>1690</td>\n",
       "      <td>7639</td>\n",
       "    </tr>\n",
       "    <tr>\n",
       "      <th>2</th>\n",
       "      <td>5631500400</td>\n",
       "      <td>20150225T000000</td>\n",
       "      <td>180000</td>\n",
       "      <td>2</td>\n",
       "      <td>1.00</td>\n",
       "      <td>770</td>\n",
       "      <td>10000</td>\n",
       "      <td>1</td>\n",
       "      <td>0</td>\n",
       "      <td>0</td>\n",
       "      <td>...</td>\n",
       "      <td>6</td>\n",
       "      <td>770</td>\n",
       "      <td>0</td>\n",
       "      <td>1933</td>\n",
       "      <td>0</td>\n",
       "      <td>98028</td>\n",
       "      <td>47.7379</td>\n",
       "      <td>-122.233</td>\n",
       "      <td>2720</td>\n",
       "      <td>8062</td>\n",
       "    </tr>\n",
       "    <tr>\n",
       "      <th>3</th>\n",
       "      <td>2487200875</td>\n",
       "      <td>20141209T000000</td>\n",
       "      <td>604000</td>\n",
       "      <td>4</td>\n",
       "      <td>3.00</td>\n",
       "      <td>1960</td>\n",
       "      <td>5000</td>\n",
       "      <td>1</td>\n",
       "      <td>0</td>\n",
       "      <td>0</td>\n",
       "      <td>...</td>\n",
       "      <td>7</td>\n",
       "      <td>1050</td>\n",
       "      <td>910</td>\n",
       "      <td>1965</td>\n",
       "      <td>0</td>\n",
       "      <td>98136</td>\n",
       "      <td>47.5208</td>\n",
       "      <td>-122.393</td>\n",
       "      <td>1360</td>\n",
       "      <td>5000</td>\n",
       "    </tr>\n",
       "    <tr>\n",
       "      <th>4</th>\n",
       "      <td>1954400510</td>\n",
       "      <td>20150218T000000</td>\n",
       "      <td>510000</td>\n",
       "      <td>3</td>\n",
       "      <td>2.00</td>\n",
       "      <td>1680</td>\n",
       "      <td>8080</td>\n",
       "      <td>1</td>\n",
       "      <td>0</td>\n",
       "      <td>0</td>\n",
       "      <td>...</td>\n",
       "      <td>8</td>\n",
       "      <td>1680</td>\n",
       "      <td>0</td>\n",
       "      <td>1987</td>\n",
       "      <td>0</td>\n",
       "      <td>98074</td>\n",
       "      <td>47.6168</td>\n",
       "      <td>-122.045</td>\n",
       "      <td>1800</td>\n",
       "      <td>7503</td>\n",
       "    </tr>\n",
       "  </tbody>\n",
       "</table>\n",
       "<p>5 rows × 21 columns</p>\n",
       "</div>"
      ],
      "text/plain": [
       "           id             date   price  bedrooms  bathrooms  sqft_living  \\\n",
       "0  7129300520  20141013T000000  221900         3       1.00         1180   \n",
       "1  6414100192  20141209T000000  538000         3       2.25         2570   \n",
       "2  5631500400  20150225T000000  180000         2       1.00          770   \n",
       "3  2487200875  20141209T000000  604000         4       3.00         1960   \n",
       "4  1954400510  20150218T000000  510000         3       2.00         1680   \n",
       "\n",
       "   sqft_lot  floors  waterfront  view     ...      grade  sqft_above  \\\n",
       "0      5650       1           0     0     ...          7        1180   \n",
       "1      7242       2           0     0     ...          7        2170   \n",
       "2     10000       1           0     0     ...          6         770   \n",
       "3      5000       1           0     0     ...          7        1050   \n",
       "4      8080       1           0     0     ...          8        1680   \n",
       "\n",
       "   sqft_basement  yr_built  yr_renovated  zipcode      lat     long  \\\n",
       "0              0      1955             0    98178  47.5112 -122.257   \n",
       "1            400      1951          1991    98125  47.7210 -122.319   \n",
       "2              0      1933             0    98028  47.7379 -122.233   \n",
       "3            910      1965             0    98136  47.5208 -122.393   \n",
       "4              0      1987             0    98074  47.6168 -122.045   \n",
       "\n",
       "   sqft_living15  sqft_lot15  \n",
       "0           1340        5650  \n",
       "1           1690        7639  \n",
       "2           2720        8062  \n",
       "3           1360        5000  \n",
       "4           1800        7503  \n",
       "\n",
       "[5 rows x 21 columns]"
      ]
     },
     "execution_count": 19,
     "metadata": {},
     "output_type": "execute_result"
    }
   ],
   "source": [
    "d.head()"
   ]
  },
  {
   "cell_type": "markdown",
   "metadata": {},
   "source": [
    "### Deleting columns"
   ]
  },
  {
   "cell_type": "code",
   "execution_count": 20,
   "metadata": {
    "collapsed": false
   },
   "outputs": [],
   "source": [
    "del d['date']"
   ]
  },
  {
   "cell_type": "code",
   "execution_count": 21,
   "metadata": {
    "collapsed": true
   },
   "outputs": [],
   "source": [
    "del d['sqft_living']"
   ]
  },
  {
   "cell_type": "code",
   "execution_count": 22,
   "metadata": {
    "collapsed": true
   },
   "outputs": [],
   "source": [
    "del d['sqft_lot']"
   ]
  },
  {
   "cell_type": "code",
   "execution_count": 23,
   "metadata": {
    "collapsed": true
   },
   "outputs": [],
   "source": [
    "del d['waterfront']"
   ]
  },
  {
   "cell_type": "code",
   "execution_count": 24,
   "metadata": {
    "collapsed": true
   },
   "outputs": [],
   "source": [
    "del d['view']"
   ]
  },
  {
   "cell_type": "code",
   "execution_count": 25,
   "metadata": {
    "collapsed": true
   },
   "outputs": [],
   "source": [
    "del d['condition']"
   ]
  },
  {
   "cell_type": "code",
   "execution_count": 26,
   "metadata": {
    "collapsed": true
   },
   "outputs": [],
   "source": [
    "del d['grade']"
   ]
  },
  {
   "cell_type": "code",
   "execution_count": 27,
   "metadata": {
    "collapsed": false
   },
   "outputs": [
    {
     "data": {
      "text/html": [
       "<div>\n",
       "<table border=\"1\" class=\"dataframe\">\n",
       "  <thead>\n",
       "    <tr style=\"text-align: right;\">\n",
       "      <th></th>\n",
       "      <th>id</th>\n",
       "      <th>price</th>\n",
       "      <th>bedrooms</th>\n",
       "      <th>bathrooms</th>\n",
       "      <th>floors</th>\n",
       "      <th>sqft_above</th>\n",
       "      <th>sqft_basement</th>\n",
       "      <th>yr_built</th>\n",
       "      <th>yr_renovated</th>\n",
       "      <th>zipcode</th>\n",
       "      <th>lat</th>\n",
       "      <th>long</th>\n",
       "      <th>sqft_living15</th>\n",
       "      <th>sqft_lot15</th>\n",
       "    </tr>\n",
       "  </thead>\n",
       "  <tbody>\n",
       "    <tr>\n",
       "      <th>0</th>\n",
       "      <td>7129300520</td>\n",
       "      <td>221900</td>\n",
       "      <td>3</td>\n",
       "      <td>1.00</td>\n",
       "      <td>1</td>\n",
       "      <td>1180</td>\n",
       "      <td>0</td>\n",
       "      <td>1955</td>\n",
       "      <td>0</td>\n",
       "      <td>98178</td>\n",
       "      <td>47.5112</td>\n",
       "      <td>-122.257</td>\n",
       "      <td>1340</td>\n",
       "      <td>5650</td>\n",
       "    </tr>\n",
       "    <tr>\n",
       "      <th>1</th>\n",
       "      <td>6414100192</td>\n",
       "      <td>538000</td>\n",
       "      <td>3</td>\n",
       "      <td>2.25</td>\n",
       "      <td>2</td>\n",
       "      <td>2170</td>\n",
       "      <td>400</td>\n",
       "      <td>1951</td>\n",
       "      <td>1991</td>\n",
       "      <td>98125</td>\n",
       "      <td>47.7210</td>\n",
       "      <td>-122.319</td>\n",
       "      <td>1690</td>\n",
       "      <td>7639</td>\n",
       "    </tr>\n",
       "    <tr>\n",
       "      <th>2</th>\n",
       "      <td>5631500400</td>\n",
       "      <td>180000</td>\n",
       "      <td>2</td>\n",
       "      <td>1.00</td>\n",
       "      <td>1</td>\n",
       "      <td>770</td>\n",
       "      <td>0</td>\n",
       "      <td>1933</td>\n",
       "      <td>0</td>\n",
       "      <td>98028</td>\n",
       "      <td>47.7379</td>\n",
       "      <td>-122.233</td>\n",
       "      <td>2720</td>\n",
       "      <td>8062</td>\n",
       "    </tr>\n",
       "    <tr>\n",
       "      <th>3</th>\n",
       "      <td>2487200875</td>\n",
       "      <td>604000</td>\n",
       "      <td>4</td>\n",
       "      <td>3.00</td>\n",
       "      <td>1</td>\n",
       "      <td>1050</td>\n",
       "      <td>910</td>\n",
       "      <td>1965</td>\n",
       "      <td>0</td>\n",
       "      <td>98136</td>\n",
       "      <td>47.5208</td>\n",
       "      <td>-122.393</td>\n",
       "      <td>1360</td>\n",
       "      <td>5000</td>\n",
       "    </tr>\n",
       "    <tr>\n",
       "      <th>4</th>\n",
       "      <td>1954400510</td>\n",
       "      <td>510000</td>\n",
       "      <td>3</td>\n",
       "      <td>2.00</td>\n",
       "      <td>1</td>\n",
       "      <td>1680</td>\n",
       "      <td>0</td>\n",
       "      <td>1987</td>\n",
       "      <td>0</td>\n",
       "      <td>98074</td>\n",
       "      <td>47.6168</td>\n",
       "      <td>-122.045</td>\n",
       "      <td>1800</td>\n",
       "      <td>7503</td>\n",
       "    </tr>\n",
       "  </tbody>\n",
       "</table>\n",
       "</div>"
      ],
      "text/plain": [
       "           id   price  bedrooms  bathrooms  floors  sqft_above  sqft_basement  \\\n",
       "0  7129300520  221900         3       1.00       1        1180              0   \n",
       "1  6414100192  538000         3       2.25       2        2170            400   \n",
       "2  5631500400  180000         2       1.00       1         770              0   \n",
       "3  2487200875  604000         4       3.00       1        1050            910   \n",
       "4  1954400510  510000         3       2.00       1        1680              0   \n",
       "\n",
       "   yr_built  yr_renovated  zipcode      lat     long  sqft_living15  \\\n",
       "0      1955             0    98178  47.5112 -122.257           1340   \n",
       "1      1951          1991    98125  47.7210 -122.319           1690   \n",
       "2      1933             0    98028  47.7379 -122.233           2720   \n",
       "3      1965             0    98136  47.5208 -122.393           1360   \n",
       "4      1987             0    98074  47.6168 -122.045           1800   \n",
       "\n",
       "   sqft_lot15  \n",
       "0        5650  \n",
       "1        7639  \n",
       "2        8062  \n",
       "3        5000  \n",
       "4        7503  "
      ]
     },
     "execution_count": 27,
     "metadata": {},
     "output_type": "execute_result"
    }
   ],
   "source": [
    "d.head()"
   ]
  },
  {
   "cell_type": "code",
   "execution_count": 28,
   "metadata": {
    "collapsed": true
   },
   "outputs": [],
   "source": [
    "del d['sqft_above']"
   ]
  },
  {
   "cell_type": "code",
   "execution_count": 29,
   "metadata": {
    "collapsed": true
   },
   "outputs": [],
   "source": [
    "del d['sqft_basement']"
   ]
  },
  {
   "cell_type": "code",
   "execution_count": 30,
   "metadata": {
    "collapsed": true
   },
   "outputs": [],
   "source": [
    "del d['yr_built']"
   ]
  },
  {
   "cell_type": "code",
   "execution_count": 31,
   "metadata": {
    "collapsed": true
   },
   "outputs": [],
   "source": [
    "del d['yr_renovated']"
   ]
  },
  {
   "cell_type": "code",
   "execution_count": 32,
   "metadata": {
    "collapsed": false
   },
   "outputs": [
    {
     "data": {
      "text/html": [
       "<div>\n",
       "<table border=\"1\" class=\"dataframe\">\n",
       "  <thead>\n",
       "    <tr style=\"text-align: right;\">\n",
       "      <th></th>\n",
       "      <th>id</th>\n",
       "      <th>price</th>\n",
       "      <th>bedrooms</th>\n",
       "      <th>bathrooms</th>\n",
       "      <th>floors</th>\n",
       "      <th>zipcode</th>\n",
       "      <th>lat</th>\n",
       "      <th>long</th>\n",
       "      <th>sqft_living15</th>\n",
       "      <th>sqft_lot15</th>\n",
       "    </tr>\n",
       "  </thead>\n",
       "  <tbody>\n",
       "    <tr>\n",
       "      <th>0</th>\n",
       "      <td>7129300520</td>\n",
       "      <td>221900</td>\n",
       "      <td>3</td>\n",
       "      <td>1.00</td>\n",
       "      <td>1</td>\n",
       "      <td>98178</td>\n",
       "      <td>47.5112</td>\n",
       "      <td>-122.257</td>\n",
       "      <td>1340</td>\n",
       "      <td>5650</td>\n",
       "    </tr>\n",
       "    <tr>\n",
       "      <th>1</th>\n",
       "      <td>6414100192</td>\n",
       "      <td>538000</td>\n",
       "      <td>3</td>\n",
       "      <td>2.25</td>\n",
       "      <td>2</td>\n",
       "      <td>98125</td>\n",
       "      <td>47.7210</td>\n",
       "      <td>-122.319</td>\n",
       "      <td>1690</td>\n",
       "      <td>7639</td>\n",
       "    </tr>\n",
       "    <tr>\n",
       "      <th>2</th>\n",
       "      <td>5631500400</td>\n",
       "      <td>180000</td>\n",
       "      <td>2</td>\n",
       "      <td>1.00</td>\n",
       "      <td>1</td>\n",
       "      <td>98028</td>\n",
       "      <td>47.7379</td>\n",
       "      <td>-122.233</td>\n",
       "      <td>2720</td>\n",
       "      <td>8062</td>\n",
       "    </tr>\n",
       "    <tr>\n",
       "      <th>3</th>\n",
       "      <td>2487200875</td>\n",
       "      <td>604000</td>\n",
       "      <td>4</td>\n",
       "      <td>3.00</td>\n",
       "      <td>1</td>\n",
       "      <td>98136</td>\n",
       "      <td>47.5208</td>\n",
       "      <td>-122.393</td>\n",
       "      <td>1360</td>\n",
       "      <td>5000</td>\n",
       "    </tr>\n",
       "    <tr>\n",
       "      <th>4</th>\n",
       "      <td>1954400510</td>\n",
       "      <td>510000</td>\n",
       "      <td>3</td>\n",
       "      <td>2.00</td>\n",
       "      <td>1</td>\n",
       "      <td>98074</td>\n",
       "      <td>47.6168</td>\n",
       "      <td>-122.045</td>\n",
       "      <td>1800</td>\n",
       "      <td>7503</td>\n",
       "    </tr>\n",
       "  </tbody>\n",
       "</table>\n",
       "</div>"
      ],
      "text/plain": [
       "           id   price  bedrooms  bathrooms  floors  zipcode      lat     long  \\\n",
       "0  7129300520  221900         3       1.00       1    98178  47.5112 -122.257   \n",
       "1  6414100192  538000         3       2.25       2    98125  47.7210 -122.319   \n",
       "2  5631500400  180000         2       1.00       1    98028  47.7379 -122.233   \n",
       "3  2487200875  604000         4       3.00       1    98136  47.5208 -122.393   \n",
       "4  1954400510  510000         3       2.00       1    98074  47.6168 -122.045   \n",
       "\n",
       "   sqft_living15  sqft_lot15  \n",
       "0           1340        5650  \n",
       "1           1690        7639  \n",
       "2           2720        8062  \n",
       "3           1360        5000  \n",
       "4           1800        7503  "
      ]
     },
     "execution_count": 32,
     "metadata": {},
     "output_type": "execute_result"
    }
   ],
   "source": [
    "d.head()"
   ]
  },
  {
   "cell_type": "code",
   "execution_count": 33,
   "metadata": {
    "collapsed": true
   },
   "outputs": [],
   "source": [
    "del d['sqft_living15']"
   ]
  },
  {
   "cell_type": "code",
   "execution_count": 34,
   "metadata": {
    "collapsed": true
   },
   "outputs": [],
   "source": [
    "del d['sqft_lot15']"
   ]
  },
  {
   "cell_type": "code",
   "execution_count": 35,
   "metadata": {
    "collapsed": false
   },
   "outputs": [
    {
     "data": {
      "text/html": [
       "<div>\n",
       "<table border=\"1\" class=\"dataframe\">\n",
       "  <thead>\n",
       "    <tr style=\"text-align: right;\">\n",
       "      <th></th>\n",
       "      <th>id</th>\n",
       "      <th>price</th>\n",
       "      <th>bedrooms</th>\n",
       "      <th>bathrooms</th>\n",
       "      <th>floors</th>\n",
       "      <th>zipcode</th>\n",
       "      <th>lat</th>\n",
       "      <th>long</th>\n",
       "    </tr>\n",
       "  </thead>\n",
       "  <tbody>\n",
       "    <tr>\n",
       "      <th>0</th>\n",
       "      <td>7129300520</td>\n",
       "      <td>221900</td>\n",
       "      <td>3</td>\n",
       "      <td>1.00</td>\n",
       "      <td>1</td>\n",
       "      <td>98178</td>\n",
       "      <td>47.5112</td>\n",
       "      <td>-122.257</td>\n",
       "    </tr>\n",
       "    <tr>\n",
       "      <th>1</th>\n",
       "      <td>6414100192</td>\n",
       "      <td>538000</td>\n",
       "      <td>3</td>\n",
       "      <td>2.25</td>\n",
       "      <td>2</td>\n",
       "      <td>98125</td>\n",
       "      <td>47.7210</td>\n",
       "      <td>-122.319</td>\n",
       "    </tr>\n",
       "    <tr>\n",
       "      <th>2</th>\n",
       "      <td>5631500400</td>\n",
       "      <td>180000</td>\n",
       "      <td>2</td>\n",
       "      <td>1.00</td>\n",
       "      <td>1</td>\n",
       "      <td>98028</td>\n",
       "      <td>47.7379</td>\n",
       "      <td>-122.233</td>\n",
       "    </tr>\n",
       "    <tr>\n",
       "      <th>3</th>\n",
       "      <td>2487200875</td>\n",
       "      <td>604000</td>\n",
       "      <td>4</td>\n",
       "      <td>3.00</td>\n",
       "      <td>1</td>\n",
       "      <td>98136</td>\n",
       "      <td>47.5208</td>\n",
       "      <td>-122.393</td>\n",
       "    </tr>\n",
       "    <tr>\n",
       "      <th>4</th>\n",
       "      <td>1954400510</td>\n",
       "      <td>510000</td>\n",
       "      <td>3</td>\n",
       "      <td>2.00</td>\n",
       "      <td>1</td>\n",
       "      <td>98074</td>\n",
       "      <td>47.6168</td>\n",
       "      <td>-122.045</td>\n",
       "    </tr>\n",
       "  </tbody>\n",
       "</table>\n",
       "</div>"
      ],
      "text/plain": [
       "           id   price  bedrooms  bathrooms  floors  zipcode      lat     long\n",
       "0  7129300520  221900         3       1.00       1    98178  47.5112 -122.257\n",
       "1  6414100192  538000         3       2.25       2    98125  47.7210 -122.319\n",
       "2  5631500400  180000         2       1.00       1    98028  47.7379 -122.233\n",
       "3  2487200875  604000         4       3.00       1    98136  47.5208 -122.393\n",
       "4  1954400510  510000         3       2.00       1    98074  47.6168 -122.045"
      ]
     },
     "execution_count": 35,
     "metadata": {},
     "output_type": "execute_result"
    }
   ],
   "source": [
    "d.head()"
   ]
  },
  {
   "cell_type": "code",
   "execution_count": 36,
   "metadata": {
    "collapsed": true
   },
   "outputs": [],
   "source": [
    "del d['lat']"
   ]
  },
  {
   "cell_type": "code",
   "execution_count": 37,
   "metadata": {
    "collapsed": true
   },
   "outputs": [],
   "source": [
    "del d['long']"
   ]
  },
  {
   "cell_type": "code",
   "execution_count": 38,
   "metadata": {
    "collapsed": false
   },
   "outputs": [
    {
     "data": {
      "text/html": [
       "<div>\n",
       "<table border=\"1\" class=\"dataframe\">\n",
       "  <thead>\n",
       "    <tr style=\"text-align: right;\">\n",
       "      <th></th>\n",
       "      <th>id</th>\n",
       "      <th>price</th>\n",
       "      <th>bedrooms</th>\n",
       "      <th>bathrooms</th>\n",
       "      <th>floors</th>\n",
       "      <th>zipcode</th>\n",
       "    </tr>\n",
       "  </thead>\n",
       "  <tbody>\n",
       "    <tr>\n",
       "      <th>0</th>\n",
       "      <td>7129300520</td>\n",
       "      <td>221900</td>\n",
       "      <td>3</td>\n",
       "      <td>1.00</td>\n",
       "      <td>1</td>\n",
       "      <td>98178</td>\n",
       "    </tr>\n",
       "    <tr>\n",
       "      <th>1</th>\n",
       "      <td>6414100192</td>\n",
       "      <td>538000</td>\n",
       "      <td>3</td>\n",
       "      <td>2.25</td>\n",
       "      <td>2</td>\n",
       "      <td>98125</td>\n",
       "    </tr>\n",
       "    <tr>\n",
       "      <th>2</th>\n",
       "      <td>5631500400</td>\n",
       "      <td>180000</td>\n",
       "      <td>2</td>\n",
       "      <td>1.00</td>\n",
       "      <td>1</td>\n",
       "      <td>98028</td>\n",
       "    </tr>\n",
       "    <tr>\n",
       "      <th>3</th>\n",
       "      <td>2487200875</td>\n",
       "      <td>604000</td>\n",
       "      <td>4</td>\n",
       "      <td>3.00</td>\n",
       "      <td>1</td>\n",
       "      <td>98136</td>\n",
       "    </tr>\n",
       "    <tr>\n",
       "      <th>4</th>\n",
       "      <td>1954400510</td>\n",
       "      <td>510000</td>\n",
       "      <td>3</td>\n",
       "      <td>2.00</td>\n",
       "      <td>1</td>\n",
       "      <td>98074</td>\n",
       "    </tr>\n",
       "  </tbody>\n",
       "</table>\n",
       "</div>"
      ],
      "text/plain": [
       "           id   price  bedrooms  bathrooms  floors  zipcode\n",
       "0  7129300520  221900         3       1.00       1    98178\n",
       "1  6414100192  538000         3       2.25       2    98125\n",
       "2  5631500400  180000         2       1.00       1    98028\n",
       "3  2487200875  604000         4       3.00       1    98136\n",
       "4  1954400510  510000         3       2.00       1    98074"
      ]
     },
     "execution_count": 38,
     "metadata": {},
     "output_type": "execute_result"
    }
   ],
   "source": [
    "d.head()"
   ]
  },
  {
   "cell_type": "code",
   "execution_count": 39,
   "metadata": {
    "collapsed": false
   },
   "outputs": [],
   "source": [
    "d['bathrooms'] = d.bathrooms.astype(int)"
   ]
  },
  {
   "cell_type": "code",
   "execution_count": 40,
   "metadata": {
    "collapsed": false
   },
   "outputs": [
    {
     "data": {
      "text/html": [
       "<div>\n",
       "<table border=\"1\" class=\"dataframe\">\n",
       "  <thead>\n",
       "    <tr style=\"text-align: right;\">\n",
       "      <th></th>\n",
       "      <th>id</th>\n",
       "      <th>price</th>\n",
       "      <th>bedrooms</th>\n",
       "      <th>bathrooms</th>\n",
       "      <th>floors</th>\n",
       "      <th>zipcode</th>\n",
       "    </tr>\n",
       "  </thead>\n",
       "  <tbody>\n",
       "    <tr>\n",
       "      <th>0</th>\n",
       "      <td>7129300520</td>\n",
       "      <td>221900</td>\n",
       "      <td>3</td>\n",
       "      <td>1</td>\n",
       "      <td>1</td>\n",
       "      <td>98178</td>\n",
       "    </tr>\n",
       "    <tr>\n",
       "      <th>1</th>\n",
       "      <td>6414100192</td>\n",
       "      <td>538000</td>\n",
       "      <td>3</td>\n",
       "      <td>2</td>\n",
       "      <td>2</td>\n",
       "      <td>98125</td>\n",
       "    </tr>\n",
       "    <tr>\n",
       "      <th>2</th>\n",
       "      <td>5631500400</td>\n",
       "      <td>180000</td>\n",
       "      <td>2</td>\n",
       "      <td>1</td>\n",
       "      <td>1</td>\n",
       "      <td>98028</td>\n",
       "    </tr>\n",
       "    <tr>\n",
       "      <th>3</th>\n",
       "      <td>2487200875</td>\n",
       "      <td>604000</td>\n",
       "      <td>4</td>\n",
       "      <td>3</td>\n",
       "      <td>1</td>\n",
       "      <td>98136</td>\n",
       "    </tr>\n",
       "    <tr>\n",
       "      <th>4</th>\n",
       "      <td>1954400510</td>\n",
       "      <td>510000</td>\n",
       "      <td>3</td>\n",
       "      <td>2</td>\n",
       "      <td>1</td>\n",
       "      <td>98074</td>\n",
       "    </tr>\n",
       "  </tbody>\n",
       "</table>\n",
       "</div>"
      ],
      "text/plain": [
       "           id   price  bedrooms  bathrooms  floors  zipcode\n",
       "0  7129300520  221900         3          1       1    98178\n",
       "1  6414100192  538000         3          2       2    98125\n",
       "2  5631500400  180000         2          1       1    98028\n",
       "3  2487200875  604000         4          3       1    98136\n",
       "4  1954400510  510000         3          2       1    98074"
      ]
     },
     "execution_count": 40,
     "metadata": {},
     "output_type": "execute_result"
    }
   ],
   "source": [
    "d.head()"
   ]
  },
  {
   "cell_type": "code",
   "execution_count": 41,
   "metadata": {
    "collapsed": true
   },
   "outputs": [],
   "source": [
    "del d['id']"
   ]
  },
  {
   "cell_type": "code",
   "execution_count": 42,
   "metadata": {
    "collapsed": false
   },
   "outputs": [
    {
     "data": {
      "text/html": [
       "<div>\n",
       "<table border=\"1\" class=\"dataframe\">\n",
       "  <thead>\n",
       "    <tr style=\"text-align: right;\">\n",
       "      <th></th>\n",
       "      <th>price</th>\n",
       "      <th>bedrooms</th>\n",
       "      <th>bathrooms</th>\n",
       "      <th>floors</th>\n",
       "      <th>zipcode</th>\n",
       "    </tr>\n",
       "  </thead>\n",
       "  <tbody>\n",
       "    <tr>\n",
       "      <th>0</th>\n",
       "      <td>221900</td>\n",
       "      <td>3</td>\n",
       "      <td>1</td>\n",
       "      <td>1</td>\n",
       "      <td>98178</td>\n",
       "    </tr>\n",
       "    <tr>\n",
       "      <th>1</th>\n",
       "      <td>538000</td>\n",
       "      <td>3</td>\n",
       "      <td>2</td>\n",
       "      <td>2</td>\n",
       "      <td>98125</td>\n",
       "    </tr>\n",
       "    <tr>\n",
       "      <th>2</th>\n",
       "      <td>180000</td>\n",
       "      <td>2</td>\n",
       "      <td>1</td>\n",
       "      <td>1</td>\n",
       "      <td>98028</td>\n",
       "    </tr>\n",
       "    <tr>\n",
       "      <th>3</th>\n",
       "      <td>604000</td>\n",
       "      <td>4</td>\n",
       "      <td>3</td>\n",
       "      <td>1</td>\n",
       "      <td>98136</td>\n",
       "    </tr>\n",
       "    <tr>\n",
       "      <th>4</th>\n",
       "      <td>510000</td>\n",
       "      <td>3</td>\n",
       "      <td>2</td>\n",
       "      <td>1</td>\n",
       "      <td>98074</td>\n",
       "    </tr>\n",
       "  </tbody>\n",
       "</table>\n",
       "</div>"
      ],
      "text/plain": [
       "    price  bedrooms  bathrooms  floors  zipcode\n",
       "0  221900         3          1       1    98178\n",
       "1  538000         3          2       2    98125\n",
       "2  180000         2          1       1    98028\n",
       "3  604000         4          3       1    98136\n",
       "4  510000         3          2       1    98074"
      ]
     },
     "execution_count": 42,
     "metadata": {},
     "output_type": "execute_result"
    }
   ],
   "source": [
    "d.head()"
   ]
  },
  {
   "cell_type": "code",
   "execution_count": 55,
   "metadata": {
    "collapsed": false
   },
   "outputs": [
    {
     "ename": "TypeError",
     "evalue": "invalid file:          price  bedrooms  bathrooms  floors  zipcode\n0       221900         3          1     1.0    98178\n1       538000         3          2     2.0    98125\n2       180000         2          1     1.0    98028\n3       604000         4          3     1.0    98136\n4       510000         3          2     1.0    98074\n5      1225000         4          4     1.0    98053\n6       257500         3          2     2.0    98003\n7       291850         3          1     1.0    98198\n8       229500         3          1     1.0    98146\n9       323000         3          2     2.0    98038\n10      662500         3          2     1.0    98007\n11      468000         2          1     1.0    98115\n12      310000         3          1     1.5    98028\n13      400000         3          1     1.0    98074\n14      530000         5          2     1.5    98107\n15      650000         4          3     2.0    98126\n16      395000         3          2     2.0    98019\n17      485000         4          1     1.5    98103\n18      189000         2          1     1.0    98002\n19      230000         3          1     1.0    98003\n20      385000         4          1     1.0    98133\n21     2000000         3          2     1.0    98040\n22      285000         5          2     2.0    98092\n23      252700         2          1     1.0    98030\n24      329000         3          2     2.0    98030\n25      233000         3          2     1.5    98002\n26      937000         3          1     2.0    98119\n27      667000         3          1     1.5    98112\n28      438000         3          1     1.0    98115\n29      719000         4          2     2.0    98052\n...        ...       ...        ...     ...      ...\n21583   399950         2          1     2.0    98102\n21584   380000         3          2     2.0    98116\n21585   270000         3          2     2.0    98042\n21586   505000         2          2     3.0    98107\n21587   385000         3          2     3.0    98125\n21588   414500         2          1     2.0    98117\n21589   347500         3          2     2.0    98038\n21590  1222500         4          3     1.5    98074\n21591   572000         4          2     2.0    98178\n21592   475000         3          2     3.0    98103\n21593  1088000         5          3     2.0    98056\n21594   350000         4          2     2.0    98042\n21595   520000         2          2     3.0    98103\n21596   679950         5          2     2.0    98059\n21597  1575000         4          3     2.0    98040\n21598   541800         4          2     2.0    98001\n21599   810000         4          3     2.0    98053\n21600  1537000         5          3     2.0    98004\n21601   467000         3          2     3.0    98125\n21602   224000         3          1     1.0    98010\n21603   507250         3          2     2.0    98065\n21604   429000         3          2     3.0    98144\n21605   610685         4          2     2.0    98056\n21606  1007500         4          3     2.0    98136\n21607   475000         3          2     2.0    98116\n21608   360000         3          2     3.0    98103\n21609   400000         4          2     2.0    98146\n21610   402101         2          0     2.0    98144\n21611   400000         3          2     2.0    98027\n21612   325000         2          0     2.0    98144\n\n[21613 rows x 5 columns]",
     "output_type": "error",
     "traceback": [
      "\u001b[1;31m---------------------------------------------------------------------------\u001b[0m",
      "\u001b[1;31mTypeError\u001b[0m                                 Traceback (most recent call last)",
      "\u001b[1;32m<ipython-input-55-d96c5cd4342c>\u001b[0m in \u001b[0;36m<module>\u001b[1;34m()\u001b[0m\n\u001b[0;32m      1\u001b[0m \u001b[1;32mimport\u001b[0m \u001b[0mcsv\u001b[0m\u001b[1;33m\u001b[0m\u001b[0m\n\u001b[0;32m      2\u001b[0m \u001b[1;33m\u001b[0m\u001b[0m\n\u001b[1;32m----> 3\u001b[1;33m \u001b[1;32mwith\u001b[0m \u001b[0mopen\u001b[0m\u001b[1;33m(\u001b[0m\u001b[0md\u001b[0m\u001b[1;33m,\u001b[0m \u001b[1;34m\"r\"\u001b[0m\u001b[1;33m)\u001b[0m \u001b[1;32mas\u001b[0m \u001b[0mf\u001b[0m\u001b[1;33m:\u001b[0m\u001b[1;33m\u001b[0m\u001b[0m\n\u001b[0m\u001b[0;32m      4\u001b[0m     \u001b[0mreader\u001b[0m \u001b[1;33m=\u001b[0m \u001b[0mcsv\u001b[0m\u001b[1;33m.\u001b[0m\u001b[0mreader\u001b[0m\u001b[1;33m(\u001b[0m\u001b[0mf\u001b[0m\u001b[1;33m)\u001b[0m\u001b[1;33m\u001b[0m\u001b[0m\n\u001b[0;32m      5\u001b[0m     \u001b[0md\u001b[0m \u001b[1;33m=\u001b[0m \u001b[0mlist\u001b[0m\u001b[1;33m(\u001b[0m\u001b[0mreader\u001b[0m\u001b[1;33m)\u001b[0m\u001b[1;33m\u001b[0m\u001b[0m\n",
      "\u001b[1;31mTypeError\u001b[0m: invalid file:          price  bedrooms  bathrooms  floors  zipcode\n0       221900         3          1     1.0    98178\n1       538000         3          2     2.0    98125\n2       180000         2          1     1.0    98028\n3       604000         4          3     1.0    98136\n4       510000         3          2     1.0    98074\n5      1225000         4          4     1.0    98053\n6       257500         3          2     2.0    98003\n7       291850         3          1     1.0    98198\n8       229500         3          1     1.0    98146\n9       323000         3          2     2.0    98038\n10      662500         3          2     1.0    98007\n11      468000         2          1     1.0    98115\n12      310000         3          1     1.5    98028\n13      400000         3          1     1.0    98074\n14      530000         5          2     1.5    98107\n15      650000         4          3     2.0    98126\n16      395000         3          2     2.0    98019\n17      485000         4          1     1.5    98103\n18      189000         2          1     1.0    98002\n19      230000         3          1     1.0    98003\n20      385000         4          1     1.0    98133\n21     2000000         3          2     1.0    98040\n22      285000         5          2     2.0    98092\n23      252700         2          1     1.0    98030\n24      329000         3          2     2.0    98030\n25      233000         3          2     1.5    98002\n26      937000         3          1     2.0    98119\n27      667000         3          1     1.5    98112\n28      438000         3          1     1.0    98115\n29      719000         4          2     2.0    98052\n...        ...       ...        ...     ...      ...\n21583   399950         2          1     2.0    98102\n21584   380000         3          2     2.0    98116\n21585   270000         3          2     2.0    98042\n21586   505000         2          2     3.0    98107\n21587   385000         3          2     3.0    98125\n21588   414500         2          1     2.0    98117\n21589   347500         3          2     2.0    98038\n21590  1222500         4          3     1.5    98074\n21591   572000         4          2     2.0    98178\n21592   475000         3          2     3.0    98103\n21593  1088000         5          3     2.0    98056\n21594   350000         4          2     2.0    98042\n21595   520000         2          2     3.0    98103\n21596   679950         5          2     2.0    98059\n21597  1575000         4          3     2.0    98040\n21598   541800         4          2     2.0    98001\n21599   810000         4          3     2.0    98053\n21600  1537000         5          3     2.0    98004\n21601   467000         3          2     3.0    98125\n21602   224000         3          1     1.0    98010\n21603   507250         3          2     2.0    98065\n21604   429000         3          2     3.0    98144\n21605   610685         4          2     2.0    98056\n21606  1007500         4          3     2.0    98136\n21607   475000         3          2     2.0    98116\n21608   360000         3          2     3.0    98103\n21609   400000         4          2     2.0    98146\n21610   402101         2          0     2.0    98144\n21611   400000         3          2     2.0    98027\n21612   325000         2          0     2.0    98144\n\n[21613 rows x 5 columns]"
     ]
    }
   ],
   "source": [
    "import csv\n",
    "\n",
    "with open(d, \"r\") as f:\n",
    "    reader = csv.reader(f)\n",
    "    d = list(reader)\n",
    "    \n",
    "print(d)"
   ]
  },
  {
   "cell_type": "code",
   "execution_count": null,
   "metadata": {
    "collapsed": true
   },
   "outputs": [],
   "source": []
  },
  {
   "cell_type": "code",
   "execution_count": null,
   "metadata": {
    "collapsed": true
   },
   "outputs": [],
   "source": []
  },
  {
   "cell_type": "code",
   "execution_count": null,
   "metadata": {
    "collapsed": true
   },
   "outputs": [],
   "source": []
  },
  {
   "cell_type": "code",
   "execution_count": 43,
   "metadata": {
    "collapsed": false
   },
   "outputs": [],
   "source": [
    "reader = csv.reader(d)\n",
    "test_list = list(reader)"
   ]
  },
  {
   "cell_type": "code",
   "execution_count": 44,
   "metadata": {
    "collapsed": false
   },
   "outputs": [
    {
     "name": "stdout",
     "output_type": "stream",
     "text": [
      "[['price'], ['bedrooms'], ['bathrooms'], ['floors'], ['zipcode']]\n"
     ]
    }
   ],
   "source": [
    "print(test_list)"
   ]
  },
  {
   "cell_type": "code",
   "execution_count": null,
   "metadata": {
    "collapsed": true
   },
   "outputs": [],
   "source": []
  },
  {
   "cell_type": "code",
   "execution_count": null,
   "metadata": {
    "collapsed": true
   },
   "outputs": [],
   "source": []
  },
  {
   "cell_type": "code",
   "execution_count": null,
   "metadata": {
    "collapsed": true
   },
   "outputs": [],
   "source": []
  },
  {
   "cell_type": "code",
   "execution_count": null,
   "metadata": {
    "collapsed": true
   },
   "outputs": [],
   "source": []
  },
  {
   "cell_type": "code",
   "execution_count": 52,
   "metadata": {
    "collapsed": false
   },
   "outputs": [
    {
     "ename": "TypeError",
     "evalue": "invalid file:          price  bedrooms  bathrooms  floors  zipcode Desired Bedrooms  \\\n0       221900         3          1     1.0    98178                3   \n1       538000         3          2     2.0    98125                2   \n2       180000         2          1     1.0    98028                4   \n3       604000         4          3     1.0    98136                1   \n4       510000         3          2     1.0    98074                3   \n5      1225000         4          4     1.0    98053                1   \n6       257500         3          2     2.0    98003                1   \n7       291850         3          1     1.0    98198                2   \n8       229500         3          1     1.0    98146                1   \n9       323000         3          2     2.0    98038                1   \n10      662500         3          2     1.0    98007                1   \n11      468000         2          1     1.0    98115                2   \n12      310000         3          1     1.5    98028                1   \n13      400000         3          1     1.0    98074                1   \n14      530000         5          2     1.5    98107                1   \n15      650000         4          3     2.0    98126                2   \n16      395000         3          2     2.0    98019                1   \n17      485000         4          1     1.5    98103                2   \n18      189000         2          1     1.0    98002                1   \n19      230000         3          1     1.0    98003                1   \n20      385000         4          1     1.0    98133                2   \n21     2000000         3          2     1.0    98040                3   \n22      285000         5          2     2.0    98092                1   \n23      252700         2          1     1.0    98030                1   \n24      329000         3          2     2.0    98030                1   \n25      233000         3          2     1.5    98002                3   \n26      937000         3          1     2.0    98119                1   \n27      667000         3          1     1.5    98112                1   \n28      438000         3          1     1.0    98115                1   \n29      719000         4          2     2.0    98052                1   \n...        ...       ...        ...     ...      ...              ...   \n21583   399950         2          1     2.0    98102              NaN   \n21584   380000         3          2     2.0    98116              NaN   \n21585   270000         3          2     2.0    98042              NaN   \n21586   505000         2          2     3.0    98107              NaN   \n21587   385000         3          2     3.0    98125              NaN   \n21588   414500         2          1     2.0    98117              NaN   \n21589   347500         3          2     2.0    98038              NaN   \n21590  1222500         4          3     1.5    98074              NaN   \n21591   572000         4          2     2.0    98178              NaN   \n21592   475000         3          2     3.0    98103              NaN   \n21593  1088000         5          3     2.0    98056              NaN   \n21594   350000         4          2     2.0    98042              NaN   \n21595   520000         2          2     3.0    98103              NaN   \n21596   679950         5          2     2.0    98059              NaN   \n21597  1575000         4          3     2.0    98040              NaN   \n21598   541800         4          2     2.0    98001              NaN   \n21599   810000         4          3     2.0    98053              NaN   \n21600  1537000         5          3     2.0    98004              NaN   \n21601   467000         3          2     3.0    98125              NaN   \n21602   224000         3          1     1.0    98010              NaN   \n21603   507250         3          2     2.0    98065              NaN   \n21604   429000         3          2     3.0    98144              NaN   \n21605   610685         4          2     2.0    98056              NaN   \n21606  1007500         4          3     2.0    98136              NaN   \n21607   475000         3          2     2.0    98116              NaN   \n21608   360000         3          2     3.0    98103              NaN   \n21609   400000         4          2     2.0    98146              NaN   \n21610   402101         2          0     2.0    98144              NaN   \n21611   400000         3          2     2.0    98027              NaN   \n21612   325000         2          0     2.0    98144              NaN   \n\n      Desired Floors Desired Price Desired bathrooms Desired zipcode  \n0                  1       250,000                 1           98177  \n1                  2       200,000                 2           98099  \n2                  1       300,000                 3           98111  \n3                  2       400,000                 4           98067  \n4                  2       300,000                 2           98111  \n5                  2       400,000                 3           98111  \n6                  2       300,000                 1           98177  \n7                  2       300,000                 2           98099  \n8                  2       400,000                 3           98111  \n9                  2       300,000                 1           98111  \n10                 2       300,000                 2           98099  \n11                 2       300,000                 2           98067  \n12                 2       300,000                 3           98067  \n13                 1       200,000                 3           98111  \n14                 2       400,000                 3           98067  \n15                 1       300,000                 3           98111  \n16                 2       400,000                 3           98099  \n17                 1       400,000                 3           98111  \n18                 1       400,000                 3           98099  \n19                 1       400,000                 3           98111  \n20                 2       300,000                 3           98111  \n21                 2       200,000                 3           98111  \n22                 1       300,000                 4           98099  \n23                 2       300,000                 3           98111  \n24                 1       300,000                 1           98099  \n25                 2       300,000                 4           98111  \n26                 2       400,000                 3           98111  \n27                 2       250,000                 1           98111  \n28                 2       300,000                 1           98099  \n29                 2       400,000                 3           98111  \n...              ...           ...               ...             ...  \n21583            NaN           NaN               NaN             NaN  \n21584            NaN           NaN               NaN             NaN  \n21585            NaN           NaN               NaN             NaN  \n21586            NaN           NaN               NaN             NaN  \n21587            NaN           NaN               NaN             NaN  \n21588            NaN           NaN               NaN             NaN  \n21589            NaN           NaN               NaN             NaN  \n21590            NaN           NaN               NaN             NaN  \n21591            NaN           NaN               NaN             NaN  \n21592            NaN           NaN               NaN             NaN  \n21593            NaN           NaN               NaN             NaN  \n21594            NaN           NaN               NaN             NaN  \n21595            NaN           NaN               NaN             NaN  \n21596            NaN           NaN               NaN             NaN  \n21597            NaN           NaN               NaN             NaN  \n21598            NaN           NaN               NaN             NaN  \n21599            NaN           NaN               NaN             NaN  \n21600            NaN           NaN               NaN             NaN  \n21601            NaN           NaN               NaN             NaN  \n21602            NaN           NaN               NaN             NaN  \n21603            NaN           NaN               NaN             NaN  \n21604            NaN           NaN               NaN             NaN  \n21605            NaN           NaN               NaN             NaN  \n21606            NaN           NaN               NaN             NaN  \n21607            NaN           NaN               NaN             NaN  \n21608            NaN           NaN               NaN             NaN  \n21609            NaN           NaN               NaN             NaN  \n21610            NaN           NaN               NaN             NaN  \n21611            NaN           NaN               NaN             NaN  \n21612            NaN           NaN               NaN             NaN  \n\n[21613 rows x 10 columns]",
     "output_type": "error",
     "traceback": [
      "\u001b[1;31m---------------------------------------------------------------------------\u001b[0m",
      "\u001b[1;31mTypeError\u001b[0m                                 Traceback (most recent call last)",
      "\u001b[1;32m<ipython-input-52-f21886f1c603>\u001b[0m in \u001b[0;36m<module>\u001b[1;34m()\u001b[0m\n\u001b[0;32m     34\u001b[0m \u001b[1;32mimport\u001b[0m \u001b[0mcsv\u001b[0m\u001b[1;33m\u001b[0m\u001b[0m\n\u001b[0;32m     35\u001b[0m \u001b[1;33m\u001b[0m\u001b[0m\n\u001b[1;32m---> 36\u001b[1;33m \u001b[1;32mwith\u001b[0m \u001b[0mopen\u001b[0m\u001b[1;33m(\u001b[0m\u001b[0mhome_list\u001b[0m\u001b[1;33m,\u001b[0m \u001b[1;34m\"rb\"\u001b[0m\u001b[1;33m)\u001b[0m \u001b[1;32mas\u001b[0m \u001b[0minputfile\u001b[0m\u001b[1;33m:\u001b[0m\u001b[1;33m\u001b[0m\u001b[0m\n\u001b[0m\u001b[0;32m     37\u001b[0m     \u001b[0mreader\u001b[0m \u001b[1;33m=\u001b[0m \u001b[0mcsv\u001b[0m\u001b[1;33m.\u001b[0m\u001b[0mreader\u001b[0m\u001b[1;33m(\u001b[0m\u001b[0minputfile\u001b[0m\u001b[1;33m)\u001b[0m\u001b[1;33m\u001b[0m\u001b[0m\n\u001b[0;32m     38\u001b[0m     \u001b[0minputm\u001b[0m \u001b[1;33m=\u001b[0m \u001b[0mlist\u001b[0m\u001b[1;33m(\u001b[0m\u001b[0mreader\u001b[0m\u001b[1;33m)\u001b[0m\u001b[1;33m\u001b[0m\u001b[0m\n",
      "\u001b[1;31mTypeError\u001b[0m: invalid file:          price  bedrooms  bathrooms  floors  zipcode Desired Bedrooms  \\\n0       221900         3          1     1.0    98178                3   \n1       538000         3          2     2.0    98125                2   \n2       180000         2          1     1.0    98028                4   \n3       604000         4          3     1.0    98136                1   \n4       510000         3          2     1.0    98074                3   \n5      1225000         4          4     1.0    98053                1   \n6       257500         3          2     2.0    98003                1   \n7       291850         3          1     1.0    98198                2   \n8       229500         3          1     1.0    98146                1   \n9       323000         3          2     2.0    98038                1   \n10      662500         3          2     1.0    98007                1   \n11      468000         2          1     1.0    98115                2   \n12      310000         3          1     1.5    98028                1   \n13      400000         3          1     1.0    98074                1   \n14      530000         5          2     1.5    98107                1   \n15      650000         4          3     2.0    98126                2   \n16      395000         3          2     2.0    98019                1   \n17      485000         4          1     1.5    98103                2   \n18      189000         2          1     1.0    98002                1   \n19      230000         3          1     1.0    98003                1   \n20      385000         4          1     1.0    98133                2   \n21     2000000         3          2     1.0    98040                3   \n22      285000         5          2     2.0    98092                1   \n23      252700         2          1     1.0    98030                1   \n24      329000         3          2     2.0    98030                1   \n25      233000         3          2     1.5    98002                3   \n26      937000         3          1     2.0    98119                1   \n27      667000         3          1     1.5    98112                1   \n28      438000         3          1     1.0    98115                1   \n29      719000         4          2     2.0    98052                1   \n...        ...       ...        ...     ...      ...              ...   \n21583   399950         2          1     2.0    98102              NaN   \n21584   380000         3          2     2.0    98116              NaN   \n21585   270000         3          2     2.0    98042              NaN   \n21586   505000         2          2     3.0    98107              NaN   \n21587   385000         3          2     3.0    98125              NaN   \n21588   414500         2          1     2.0    98117              NaN   \n21589   347500         3          2     2.0    98038              NaN   \n21590  1222500         4          3     1.5    98074              NaN   \n21591   572000         4          2     2.0    98178              NaN   \n21592   475000         3          2     3.0    98103              NaN   \n21593  1088000         5          3     2.0    98056              NaN   \n21594   350000         4          2     2.0    98042              NaN   \n21595   520000         2          2     3.0    98103              NaN   \n21596   679950         5          2     2.0    98059              NaN   \n21597  1575000         4          3     2.0    98040              NaN   \n21598   541800         4          2     2.0    98001              NaN   \n21599   810000         4          3     2.0    98053              NaN   \n21600  1537000         5          3     2.0    98004              NaN   \n21601   467000         3          2     3.0    98125              NaN   \n21602   224000         3          1     1.0    98010              NaN   \n21603   507250         3          2     2.0    98065              NaN   \n21604   429000         3          2     3.0    98144              NaN   \n21605   610685         4          2     2.0    98056              NaN   \n21606  1007500         4          3     2.0    98136              NaN   \n21607   475000         3          2     2.0    98116              NaN   \n21608   360000         3          2     3.0    98103              NaN   \n21609   400000         4          2     2.0    98146              NaN   \n21610   402101         2          0     2.0    98144              NaN   \n21611   400000         3          2     2.0    98027              NaN   \n21612   325000         2          0     2.0    98144              NaN   \n\n      Desired Floors Desired Price Desired bathrooms Desired zipcode  \n0                  1       250,000                 1           98177  \n1                  2       200,000                 2           98099  \n2                  1       300,000                 3           98111  \n3                  2       400,000                 4           98067  \n4                  2       300,000                 2           98111  \n5                  2       400,000                 3           98111  \n6                  2       300,000                 1           98177  \n7                  2       300,000                 2           98099  \n8                  2       400,000                 3           98111  \n9                  2       300,000                 1           98111  \n10                 2       300,000                 2           98099  \n11                 2       300,000                 2           98067  \n12                 2       300,000                 3           98067  \n13                 1       200,000                 3           98111  \n14                 2       400,000                 3           98067  \n15                 1       300,000                 3           98111  \n16                 2       400,000                 3           98099  \n17                 1       400,000                 3           98111  \n18                 1       400,000                 3           98099  \n19                 1       400,000                 3           98111  \n20                 2       300,000                 3           98111  \n21                 2       200,000                 3           98111  \n22                 1       300,000                 4           98099  \n23                 2       300,000                 3           98111  \n24                 1       300,000                 1           98099  \n25                 2       300,000                 4           98111  \n26                 2       400,000                 3           98111  \n27                 2       250,000                 1           98111  \n28                 2       300,000                 1           98099  \n29                 2       400,000                 3           98111  \n...              ...           ...               ...             ...  \n21583            NaN           NaN               NaN             NaN  \n21584            NaN           NaN               NaN             NaN  \n21585            NaN           NaN               NaN             NaN  \n21586            NaN           NaN               NaN             NaN  \n21587            NaN           NaN               NaN             NaN  \n21588            NaN           NaN               NaN             NaN  \n21589            NaN           NaN               NaN             NaN  \n21590            NaN           NaN               NaN             NaN  \n21591            NaN           NaN               NaN             NaN  \n21592            NaN           NaN               NaN             NaN  \n21593            NaN           NaN               NaN             NaN  \n21594            NaN           NaN               NaN             NaN  \n21595            NaN           NaN               NaN             NaN  \n21596            NaN           NaN               NaN             NaN  \n21597            NaN           NaN               NaN             NaN  \n21598            NaN           NaN               NaN             NaN  \n21599            NaN           NaN               NaN             NaN  \n21600            NaN           NaN               NaN             NaN  \n21601            NaN           NaN               NaN             NaN  \n21602            NaN           NaN               NaN             NaN  \n21603            NaN           NaN               NaN             NaN  \n21604            NaN           NaN               NaN             NaN  \n21605            NaN           NaN               NaN             NaN  \n21606            NaN           NaN               NaN             NaN  \n21607            NaN           NaN               NaN             NaN  \n21608            NaN           NaN               NaN             NaN  \n21609            NaN           NaN               NaN             NaN  \n21610            NaN           NaN               NaN             NaN  \n21611            NaN           NaN               NaN             NaN  \n21612            NaN           NaN               NaN             NaN  \n\n[21613 rows x 10 columns]"
     ]
    }
   ],
   "source": [
    "# Importing packages\n",
    "import numpy as np\n",
    "import pandas as pd\n",
    "\n",
    "# Creating lists of desired results\n",
    "desired_price=['250,000','200,000','300,000','400,000']\n",
    "desired_bedrooms=['3','2','4','1']\n",
    "desired_bathrooms=['1','2','3','4']\n",
    "desired_floors=['1','2','1','2']\n",
    "desired_zipcode=['98177','98099','98111','98067']\n",
    "#rating=[' ',' ',' ',' ']\n",
    "\n",
    "# Setting random values from the lists\n",
    "for i in range(1,101):\n",
    "    desired_price.append(np.random.choice(desired_price))\n",
    "    desired_bedrooms.append(np.random.choice(desired_bedrooms))\n",
    "    desired_bathrooms.append(np.random.choice(desired_bathrooms))\n",
    "    desired_floors.append(np.random.choice(desired_floors))\n",
    "    desired_zipcode.append(np.random.choice(desired_zipcode))\n",
    "    #rating.append(np.random.choice(rating))\n",
    "    \n",
    "# Creating calculation function\n",
    "\n",
    "\n",
    "# Saving the results into a dataframe of random values\n",
    "df=pd.DataFrame({'Desired Price':desired_price,'Desired Bedrooms':desired_bedrooms,\n",
    "                 'Desired bathrooms':desired_bathrooms,'Desired Floors':desired_floors,\n",
    "                 'Desired zipcode':desired_zipcode})\n",
    "\n",
    "# Joining the two dataframes together\n",
    "home_list = d.join(df)\n",
    "\n",
    "#Adding csv file to a list\n",
    "import csv\n",
    "\n",
    "with open(home_list, \"rb\") as inputfile:\n",
    "    reader = csv.reader(inputfile)\n",
    "    inputm = list(reader)\n",
    "    \n",
    "print(inputm)\n",
    "\n",
    "# Add CSV file to a list\n",
    "#new_home_list = list(home_list)\n",
    "\n",
    "#print(new_home_list)"
   ]
  },
  {
   "cell_type": "code",
   "execution_count": null,
   "metadata": {
    "collapsed": true
   },
   "outputs": [],
   "source": []
  },
  {
   "cell_type": "code",
   "execution_count": null,
   "metadata": {
    "collapsed": true
   },
   "outputs": [],
   "source": []
  },
  {
   "cell_type": "code",
   "execution_count": 46,
   "metadata": {
    "collapsed": false
   },
   "outputs": [
    {
     "data": {
      "text/plain": [
       "'price'"
      ]
     },
     "execution_count": 46,
     "metadata": {},
     "output_type": "execute_result"
    }
   ],
   "source": [
    "new_home_list[0]"
   ]
  },
  {
   "cell_type": "code",
   "execution_count": 47,
   "metadata": {
    "collapsed": false
   },
   "outputs": [
    {
     "data": {
      "text/plain": [
       "'Desired Bedrooms'"
      ]
     },
     "execution_count": 47,
     "metadata": {},
     "output_type": "execute_result"
    }
   ],
   "source": [
    "new_home_list[5]"
   ]
  },
  {
   "cell_type": "code",
   "execution_count": 48,
   "metadata": {
    "collapsed": false
   },
   "outputs": [
    {
     "data": {
      "text/plain": [
       "'Desired zipcode'"
      ]
     },
     "execution_count": 48,
     "metadata": {},
     "output_type": "execute_result"
    }
   ],
   "source": [
    "new_home_list[9]"
   ]
  },
  {
   "cell_type": "code",
   "execution_count": 49,
   "metadata": {
    "collapsed": false
   },
   "outputs": [
    {
     "name": "stdout",
     "output_type": "stream",
     "text": [
      "['price', 'bedrooms', 'bathrooms', 'floors', 'zipcode', 'Desired Bedrooms', 'Desired Floors', 'Desired Price', 'Desired bathrooms', 'Desired zipcode']\n"
     ]
    }
   ],
   "source": [
    "print(new_home_list)"
   ]
  },
  {
   "cell_type": "markdown",
   "metadata": {
    "collapsed": true
   },
   "source": [
    "## Testing calculations"
   ]
  },
  {
   "cell_type": "code",
   "execution_count": 1,
   "metadata": {
    "collapsed": false
   },
   "outputs": [
    {
     "name": "stdout",
     "output_type": "stream",
     "text": [
      "Please enter prefered price of apartment: 500000\n",
      "Please enter prefered number of bedrooms: 2\n",
      "Please enter prefered number of bathrooms: 1\n",
      "Please enter prefered floor to live on: 1960\n",
      "hi\n",
      "[20000, 0, 0, -4, 134000, 1, 1, 27, 50000, 0, 1, -11]\n",
      "204015\n",
      "[520000, 2, 1, 1956, 19996, 154025, 204015]\n",
      "low\n",
      "[20000, 0, 0, -4]\n",
      "19996\n",
      "[520000, 2, 1, 1956, 19996, 154025, 204015, 19996]\n",
      "hello\n",
      "19996\n",
      "134029\n",
      "49990\n"
     ]
    }
   ],
   "source": [
    "import numpy as np\n",
    "\n",
    "# Creating a dummy list of house attributes\n",
    "a = [520000, 2, 1, 1956]\n",
    "b = [634000, 3, 2, 1987]\n",
    "c = [550000, 2, 2, 1949]\n",
    "\n",
    "# Create a list of lists\n",
    "all_lists = [a,b,c]\n",
    "\n",
    "#for element in all_lists:\n",
    "#    print(element)\n",
    "\n",
    "# Create user input\n",
    "price = int(input(\"Please enter prefered price of apartment: \"))\n",
    "bedrooms = int(input(\"Please enter prefered number of bedrooms: \"))\n",
    "bathrooms = int(input(\"Please enter prefered number of bathrooms: \"))\n",
    "year = int(input(\"Please enter prefered floor to live on: \"))\n",
    "\n",
    "# Store user input into a list\n",
    "d = [price,bedrooms,bathrooms,year]\n",
    "\n",
    "results = []\n",
    "\n",
    "total_price = 0\n",
    "total_room = 0\n",
    "total_bath = 0\n",
    "total_year = 0\n",
    "\n",
    "for i in all_lists:\n",
    "    total_price = i[0] - d[0]\n",
    "    total_room = i[1] - d[1]\n",
    "    total_bath = i[2] - d[2]\n",
    "    total_year = i[3] - d[3]\n",
    "    \n",
    "    results.append(total_price)\n",
    "    results.append(total_room)\n",
    "    results.append(total_bath)\n",
    "    results.append(total_year)\n",
    "    sum_results = sum(results)\n",
    "    a.append(sum_results)\n",
    "    \n",
    "print('hi')\n",
    "print(results)\n",
    "print(sum_results)\n",
    "print(a)\n",
    "print('low')\n",
    "    \n",
    "\n",
    "\n",
    "\n",
    "#results = []\n",
    "\n",
    "#for test in all_lists:\n",
    "    \n",
    "    # sum for different variables\n",
    "    #total_price = 0\n",
    "    #total_room = 0\n",
    "    #total_bath = 0\n",
    "    #total_year = 0\n",
    "    \n",
    "    #for measurment in test:\n",
    "        #total_price = d[0] - measurment\n",
    "        #total_room = d[1] - measurment\n",
    "        #total_bath = d[2] - measurment\n",
    "        #total_year = d[3] - measurment\n",
    "        \n",
    "    \n",
    "    #results.append(total_price)\n",
    "    #results.append(total_room)\n",
    "    #results.append(total_bath)\n",
    "    #results.append(total_year)\n",
    "#print(results)\n",
    "#print('wazzup')\n",
    "\n",
    "\n",
    "\n",
    "# for loop to get calculation between user input and house attributes\n",
    "#i = 0\n",
    "k = 0\n",
    "store_result = []\n",
    "for i in range(len(a)):\n",
    "    if i <= 3:\n",
    "        result = np.subtract(a[i],d[i])\n",
    "        store_result.append(result)\n",
    "        i += 1\n",
    "print(store_result)\n",
    "final_result = sum(store_result)\n",
    "print(final_result)\n",
    "\n",
    "a.append(final_result)\n",
    "print(a)\n",
    "\n",
    "#######Testing looping through list of lists######################\n",
    "#test_list = []\n",
    "#for m in range(len(all_lists)):\n",
    "#    if m <= len(all_lists):\n",
    " #       test_calc = np.subtract(a[m],d[m])\n",
    "        \n",
    "    \n",
    "\n",
    "#n = 0\n",
    "#for i in range(len(all_lists)):\n",
    "    #d = a - d1 \n",
    "    #print(d)\n",
    "#for var in all_lists:\n",
    " #       for var1 in a:\n",
    "#            print(a[0] - price)\n",
    "\n",
    "print('hello')\n",
    "\n",
    "#d = [price,bedrooms,bathrooms,floor]\n",
    "#print(d)\n",
    "\n",
    "res_price1 = a[0] - d[0]\n",
    "res_room1 = a[1] - d[1]\n",
    "res_bath1 = a[2] - d[2]\n",
    "res_year1 = a[3] - d[3]\n",
    "\n",
    "total_one = res_price1 + res_room1 + res_bath1 + res_year1\n",
    "\n",
    "res_price2 = b[0] - d[0]\n",
    "res_room2 = b[1] - d[1]\n",
    "res_bath2 = b[2] - d[2]\n",
    "res_year2 = b[3] - d[3]\n",
    "\n",
    "total_two = res_price2 + res_room2 + res_bath2 + res_year2\n",
    "\n",
    "res_price3 = c[0] - d[0]\n",
    "res_room3 = c[1] - d[1]\n",
    "res_bath3 = c[2] - d[2]\n",
    "res_year3 = c[3] - d[3]\n",
    "\n",
    "total_three = res_price3 + res_room3 + res_bath3 + res_year3\n",
    "\n",
    "\n",
    "print(total_one)\n",
    "print(total_two)\n",
    "print(total_three)"
   ]
  },
  {
   "cell_type": "code",
   "execution_count": null,
   "metadata": {
    "collapsed": true
   },
   "outputs": [],
   "source": []
  }
 ],
 "metadata": {
  "kernelspec": {
   "display_name": "Python 3",
   "language": "python",
   "name": "python3"
  },
  "language_info": {
   "codemirror_mode": {
    "name": "ipython",
    "version": 3
   },
   "file_extension": ".py",
   "mimetype": "text/x-python",
   "name": "python",
   "nbconvert_exporter": "python",
   "pygments_lexer": "ipython3",
   "version": "3.5.1"
  }
 },
 "nbformat": 4,
 "nbformat_minor": 0
}
