{
 "cells": [
  {
   "cell_type": "markdown",
   "metadata": {},
   "source": [
    "## <center>Fourth Year Project</center>\n",
    "#### <center>An examination into Recommendation Systems for property data sets</center>\n",
    "### <center>Paudie Healy t00183027</center>"
   ]
  },
  {
   "cell_type": "markdown",
   "metadata": {},
   "source": [
    "#### Introduction\n",
    "The idea behind this project is to find the perfect home for any user that connects to the system. Each user is asked to enter their prefered details for their ideal home **(price, rooms, bathrooms, floors, zipcode)** *For this project I am using these variable, it is open to add more variables. \n",
    "The user input is important as it is needed to create a rating for each home. Datasets for books, music and films come with user ratings, it is very rare for a person to rate a home so an algorithm to create a rating is needed.\n",
    "\n",
    "The data set I am using for this project is a housing dataset from property listings in India."
   ]
  },
  {
   "cell_type": "markdown",
   "metadata": {},
   "source": [
    "### Importing packages"
   ]
  },
  {
   "cell_type": "code",
   "execution_count": 1,
   "metadata": {
    "collapsed": true
   },
   "outputs": [],
   "source": [
    "import numpy as ap\n",
    "import pandas as pd\n",
    "import matplotlib.pyplot as plt\n",
    "import mpl_toolkits\n",
    "%matplotlib inline"
   ]
  },
  {
   "cell_type": "markdown",
   "metadata": {},
   "source": [
    "### Reading a csv file from a local file and storing the details in the variable data"
   ]
  },
  {
   "cell_type": "code",
   "execution_count": 2,
   "metadata": {
    "collapsed": true
   },
   "outputs": [],
   "source": [
    "data = pd.read_csv(\"C:/datasets/kc_house_data.csv\")"
   ]
  },
  {
   "cell_type": "markdown",
   "metadata": {},
   "source": [
    "#### Reading the data stored in data, head() function will list the first 5 from the csv file"
   ]
  },
  {
   "cell_type": "code",
   "execution_count": 3,
   "metadata": {
    "collapsed": false
   },
   "outputs": [
    {
     "data": {
      "text/html": [
       "<div>\n",
       "<table border=\"1\" class=\"dataframe\">\n",
       "  <thead>\n",
       "    <tr style=\"text-align: right;\">\n",
       "      <th></th>\n",
       "      <th>id</th>\n",
       "      <th>date</th>\n",
       "      <th>price</th>\n",
       "      <th>bedrooms</th>\n",
       "      <th>bathrooms</th>\n",
       "      <th>sqft_living</th>\n",
       "      <th>sqft_lot</th>\n",
       "      <th>floors</th>\n",
       "      <th>waterfront</th>\n",
       "      <th>view</th>\n",
       "      <th>...</th>\n",
       "      <th>grade</th>\n",
       "      <th>sqft_above</th>\n",
       "      <th>sqft_basement</th>\n",
       "      <th>yr_built</th>\n",
       "      <th>yr_renovated</th>\n",
       "      <th>zipcode</th>\n",
       "      <th>lat</th>\n",
       "      <th>long</th>\n",
       "      <th>sqft_living15</th>\n",
       "      <th>sqft_lot15</th>\n",
       "    </tr>\n",
       "  </thead>\n",
       "  <tbody>\n",
       "    <tr>\n",
       "      <th>0</th>\n",
       "      <td>7129300520</td>\n",
       "      <td>20141013T000000</td>\n",
       "      <td>221900</td>\n",
       "      <td>3</td>\n",
       "      <td>1.00</td>\n",
       "      <td>1180</td>\n",
       "      <td>5650</td>\n",
       "      <td>1</td>\n",
       "      <td>0</td>\n",
       "      <td>0</td>\n",
       "      <td>...</td>\n",
       "      <td>7</td>\n",
       "      <td>1180</td>\n",
       "      <td>0</td>\n",
       "      <td>1955</td>\n",
       "      <td>0</td>\n",
       "      <td>98178</td>\n",
       "      <td>47.5112</td>\n",
       "      <td>-122.257</td>\n",
       "      <td>1340</td>\n",
       "      <td>5650</td>\n",
       "    </tr>\n",
       "    <tr>\n",
       "      <th>1</th>\n",
       "      <td>6414100192</td>\n",
       "      <td>20141209T000000</td>\n",
       "      <td>538000</td>\n",
       "      <td>3</td>\n",
       "      <td>2.25</td>\n",
       "      <td>2570</td>\n",
       "      <td>7242</td>\n",
       "      <td>2</td>\n",
       "      <td>0</td>\n",
       "      <td>0</td>\n",
       "      <td>...</td>\n",
       "      <td>7</td>\n",
       "      <td>2170</td>\n",
       "      <td>400</td>\n",
       "      <td>1951</td>\n",
       "      <td>1991</td>\n",
       "      <td>98125</td>\n",
       "      <td>47.7210</td>\n",
       "      <td>-122.319</td>\n",
       "      <td>1690</td>\n",
       "      <td>7639</td>\n",
       "    </tr>\n",
       "    <tr>\n",
       "      <th>2</th>\n",
       "      <td>5631500400</td>\n",
       "      <td>20150225T000000</td>\n",
       "      <td>180000</td>\n",
       "      <td>2</td>\n",
       "      <td>1.00</td>\n",
       "      <td>770</td>\n",
       "      <td>10000</td>\n",
       "      <td>1</td>\n",
       "      <td>0</td>\n",
       "      <td>0</td>\n",
       "      <td>...</td>\n",
       "      <td>6</td>\n",
       "      <td>770</td>\n",
       "      <td>0</td>\n",
       "      <td>1933</td>\n",
       "      <td>0</td>\n",
       "      <td>98028</td>\n",
       "      <td>47.7379</td>\n",
       "      <td>-122.233</td>\n",
       "      <td>2720</td>\n",
       "      <td>8062</td>\n",
       "    </tr>\n",
       "    <tr>\n",
       "      <th>3</th>\n",
       "      <td>2487200875</td>\n",
       "      <td>20141209T000000</td>\n",
       "      <td>604000</td>\n",
       "      <td>4</td>\n",
       "      <td>3.00</td>\n",
       "      <td>1960</td>\n",
       "      <td>5000</td>\n",
       "      <td>1</td>\n",
       "      <td>0</td>\n",
       "      <td>0</td>\n",
       "      <td>...</td>\n",
       "      <td>7</td>\n",
       "      <td>1050</td>\n",
       "      <td>910</td>\n",
       "      <td>1965</td>\n",
       "      <td>0</td>\n",
       "      <td>98136</td>\n",
       "      <td>47.5208</td>\n",
       "      <td>-122.393</td>\n",
       "      <td>1360</td>\n",
       "      <td>5000</td>\n",
       "    </tr>\n",
       "    <tr>\n",
       "      <th>4</th>\n",
       "      <td>1954400510</td>\n",
       "      <td>20150218T000000</td>\n",
       "      <td>510000</td>\n",
       "      <td>3</td>\n",
       "      <td>2.00</td>\n",
       "      <td>1680</td>\n",
       "      <td>8080</td>\n",
       "      <td>1</td>\n",
       "      <td>0</td>\n",
       "      <td>0</td>\n",
       "      <td>...</td>\n",
       "      <td>8</td>\n",
       "      <td>1680</td>\n",
       "      <td>0</td>\n",
       "      <td>1987</td>\n",
       "      <td>0</td>\n",
       "      <td>98074</td>\n",
       "      <td>47.6168</td>\n",
       "      <td>-122.045</td>\n",
       "      <td>1800</td>\n",
       "      <td>7503</td>\n",
       "    </tr>\n",
       "  </tbody>\n",
       "</table>\n",
       "<p>5 rows × 21 columns</p>\n",
       "</div>"
      ],
      "text/plain": [
       "           id             date   price  bedrooms  bathrooms  sqft_living  \\\n",
       "0  7129300520  20141013T000000  221900         3       1.00         1180   \n",
       "1  6414100192  20141209T000000  538000         3       2.25         2570   \n",
       "2  5631500400  20150225T000000  180000         2       1.00          770   \n",
       "3  2487200875  20141209T000000  604000         4       3.00         1960   \n",
       "4  1954400510  20150218T000000  510000         3       2.00         1680   \n",
       "\n",
       "   sqft_lot  floors  waterfront  view     ...      grade  sqft_above  \\\n",
       "0      5650       1           0     0     ...          7        1180   \n",
       "1      7242       2           0     0     ...          7        2170   \n",
       "2     10000       1           0     0     ...          6         770   \n",
       "3      5000       1           0     0     ...          7        1050   \n",
       "4      8080       1           0     0     ...          8        1680   \n",
       "\n",
       "   sqft_basement  yr_built  yr_renovated  zipcode      lat     long  \\\n",
       "0              0      1955             0    98178  47.5112 -122.257   \n",
       "1            400      1951          1991    98125  47.7210 -122.319   \n",
       "2              0      1933             0    98028  47.7379 -122.233   \n",
       "3            910      1965             0    98136  47.5208 -122.393   \n",
       "4              0      1987             0    98074  47.6168 -122.045   \n",
       "\n",
       "   sqft_living15  sqft_lot15  \n",
       "0           1340        5650  \n",
       "1           1690        7639  \n",
       "2           2720        8062  \n",
       "3           1360        5000  \n",
       "4           1800        7503  \n",
       "\n",
       "[5 rows x 21 columns]"
      ]
     },
     "execution_count": 3,
     "metadata": {},
     "output_type": "execute_result"
    }
   ],
   "source": [
    "data.head()"
   ]
  },
  {
   "cell_type": "markdown",
   "metadata": {},
   "source": [
    "#### Deleting columns from the dataset, (del variableName['columnName'] )\n",
    "For this project I am deleting columns that are rarely asked for by the user, If the user would like any of the columns added to the algorithm for a rating it can be added."
   ]
  },
  {
   "cell_type": "code",
   "execution_count": 4,
   "metadata": {
    "collapsed": false
   },
   "outputs": [],
   "source": [
    "del data['id']\n",
    "del data['date']\n",
    "del data['sqft_lot']\n",
    "del data['waterfront']\n",
    "del data['sqft_above']\n",
    "del data['sqft_basement']\n",
    "del data['sqft_living15']\n",
    "del data['sqft_lot15']\n",
    "del data['view']"
   ]
  },
  {
   "cell_type": "markdown",
   "metadata": {},
   "source": [
    "### Check deletion\n",
    "When a large number of columns are deleted, checking the dataframe to make sure it was completed."
   ]
  },
  {
   "cell_type": "code",
   "execution_count": 5,
   "metadata": {
    "collapsed": false
   },
   "outputs": [
    {
     "data": {
      "text/html": [
       "<div>\n",
       "<table border=\"1\" class=\"dataframe\">\n",
       "  <thead>\n",
       "    <tr style=\"text-align: right;\">\n",
       "      <th></th>\n",
       "      <th>price</th>\n",
       "      <th>bedrooms</th>\n",
       "      <th>bathrooms</th>\n",
       "      <th>sqft_living</th>\n",
       "      <th>floors</th>\n",
       "      <th>condition</th>\n",
       "      <th>grade</th>\n",
       "      <th>yr_built</th>\n",
       "      <th>yr_renovated</th>\n",
       "      <th>zipcode</th>\n",
       "      <th>lat</th>\n",
       "      <th>long</th>\n",
       "    </tr>\n",
       "  </thead>\n",
       "  <tbody>\n",
       "    <tr>\n",
       "      <th>0</th>\n",
       "      <td>221900</td>\n",
       "      <td>3</td>\n",
       "      <td>1.00</td>\n",
       "      <td>1180</td>\n",
       "      <td>1</td>\n",
       "      <td>3</td>\n",
       "      <td>7</td>\n",
       "      <td>1955</td>\n",
       "      <td>0</td>\n",
       "      <td>98178</td>\n",
       "      <td>47.5112</td>\n",
       "      <td>-122.257</td>\n",
       "    </tr>\n",
       "    <tr>\n",
       "      <th>1</th>\n",
       "      <td>538000</td>\n",
       "      <td>3</td>\n",
       "      <td>2.25</td>\n",
       "      <td>2570</td>\n",
       "      <td>2</td>\n",
       "      <td>3</td>\n",
       "      <td>7</td>\n",
       "      <td>1951</td>\n",
       "      <td>1991</td>\n",
       "      <td>98125</td>\n",
       "      <td>47.7210</td>\n",
       "      <td>-122.319</td>\n",
       "    </tr>\n",
       "    <tr>\n",
       "      <th>2</th>\n",
       "      <td>180000</td>\n",
       "      <td>2</td>\n",
       "      <td>1.00</td>\n",
       "      <td>770</td>\n",
       "      <td>1</td>\n",
       "      <td>3</td>\n",
       "      <td>6</td>\n",
       "      <td>1933</td>\n",
       "      <td>0</td>\n",
       "      <td>98028</td>\n",
       "      <td>47.7379</td>\n",
       "      <td>-122.233</td>\n",
       "    </tr>\n",
       "    <tr>\n",
       "      <th>3</th>\n",
       "      <td>604000</td>\n",
       "      <td>4</td>\n",
       "      <td>3.00</td>\n",
       "      <td>1960</td>\n",
       "      <td>1</td>\n",
       "      <td>5</td>\n",
       "      <td>7</td>\n",
       "      <td>1965</td>\n",
       "      <td>0</td>\n",
       "      <td>98136</td>\n",
       "      <td>47.5208</td>\n",
       "      <td>-122.393</td>\n",
       "    </tr>\n",
       "    <tr>\n",
       "      <th>4</th>\n",
       "      <td>510000</td>\n",
       "      <td>3</td>\n",
       "      <td>2.00</td>\n",
       "      <td>1680</td>\n",
       "      <td>1</td>\n",
       "      <td>3</td>\n",
       "      <td>8</td>\n",
       "      <td>1987</td>\n",
       "      <td>0</td>\n",
       "      <td>98074</td>\n",
       "      <td>47.6168</td>\n",
       "      <td>-122.045</td>\n",
       "    </tr>\n",
       "  </tbody>\n",
       "</table>\n",
       "</div>"
      ],
      "text/plain": [
       "    price  bedrooms  bathrooms  sqft_living  floors  condition  grade  \\\n",
       "0  221900         3       1.00         1180       1          3      7   \n",
       "1  538000         3       2.25         2570       2          3      7   \n",
       "2  180000         2       1.00          770       1          3      6   \n",
       "3  604000         4       3.00         1960       1          5      7   \n",
       "4  510000         3       2.00         1680       1          3      8   \n",
       "\n",
       "   yr_built  yr_renovated  zipcode      lat     long  \n",
       "0      1955             0    98178  47.5112 -122.257  \n",
       "1      1951          1991    98125  47.7210 -122.319  \n",
       "2      1933             0    98028  47.7379 -122.233  \n",
       "3      1965             0    98136  47.5208 -122.393  \n",
       "4      1987             0    98074  47.6168 -122.045  "
      ]
     },
     "execution_count": 5,
     "metadata": {},
     "output_type": "execute_result"
    }
   ],
   "source": [
    "data.head(5)"
   ]
  },
  {
   "cell_type": "markdown",
   "metadata": {},
   "source": [
    "### Trial with random data and columns\n",
    "This section was used to test with dummy columns and data, testing purposes only.\n",
    "1. Imported packages for numpy and pandas\n",
    "2. Created variables with 4 random values\n",
    "3. Used a for loop to loop through each created variable and added one of the random values\n",
    "4. Created the dataframe with its columns and rows of data"
   ]
  },
  {
   "cell_type": "code",
   "execution_count": 6,
   "metadata": {
    "collapsed": false
   },
   "outputs": [
    {
     "data": {
      "text/html": [
       "<div>\n",
       "<table border=\"1\" class=\"dataframe\">\n",
       "  <thead>\n",
       "    <tr style=\"text-align: right;\">\n",
       "      <th></th>\n",
       "      <th>Actual latitude</th>\n",
       "      <th>Actual longitude</th>\n",
       "      <th>Actual price</th>\n",
       "      <th>Actual rooms</th>\n",
       "      <th>Desired latitude</th>\n",
       "      <th>Desired longitude</th>\n",
       "      <th>Desired price</th>\n",
       "      <th>Desired rooms</th>\n",
       "      <th>Ratings</th>\n",
       "    </tr>\n",
       "  </thead>\n",
       "  <tbody>\n",
       "    <tr>\n",
       "      <th>0</th>\n",
       "      <td>47.5111</td>\n",
       "      <td>-122.334</td>\n",
       "      <td>200,000</td>\n",
       "      <td>2</td>\n",
       "      <td>47.5112</td>\n",
       "      <td>-122.333</td>\n",
       "      <td>250,000</td>\n",
       "      <td>3</td>\n",
       "      <td>0</td>\n",
       "    </tr>\n",
       "    <tr>\n",
       "      <th>1</th>\n",
       "      <td>47.7346</td>\n",
       "      <td>-122.077</td>\n",
       "      <td>300,000</td>\n",
       "      <td>3</td>\n",
       "      <td>47.7346</td>\n",
       "      <td>-122.076</td>\n",
       "      <td>200,000</td>\n",
       "      <td>2</td>\n",
       "      <td>1</td>\n",
       "    </tr>\n",
       "    <tr>\n",
       "      <th>2</th>\n",
       "      <td>47.3333</td>\n",
       "      <td>-122.333</td>\n",
       "      <td>400,000</td>\n",
       "      <td>4</td>\n",
       "      <td>47.6567</td>\n",
       "      <td>-122.543</td>\n",
       "      <td>300,000</td>\n",
       "      <td>4</td>\n",
       "      <td>3</td>\n",
       "    </tr>\n",
       "    <tr>\n",
       "      <th>3</th>\n",
       "      <td>47.764</td>\n",
       "      <td>-122.543</td>\n",
       "      <td>350,000</td>\n",
       "      <td>1</td>\n",
       "      <td>47.1124</td>\n",
       "      <td>-122.456</td>\n",
       "      <td>400,000</td>\n",
       "      <td>1</td>\n",
       "      <td>5</td>\n",
       "    </tr>\n",
       "    <tr>\n",
       "      <th>4</th>\n",
       "      <td>47.3333</td>\n",
       "      <td>-122.543</td>\n",
       "      <td>400,000</td>\n",
       "      <td>3</td>\n",
       "      <td>47.1124</td>\n",
       "      <td>-122.543</td>\n",
       "      <td>250,000</td>\n",
       "      <td>3</td>\n",
       "      <td>5</td>\n",
       "    </tr>\n",
       "  </tbody>\n",
       "</table>\n",
       "</div>"
      ],
      "text/plain": [
       "  Actual latitude Actual longitude Actual price Actual rooms Desired latitude  \\\n",
       "0         47.5111         -122.334      200,000            2          47.5112   \n",
       "1         47.7346         -122.077      300,000            3          47.7346   \n",
       "2         47.3333         -122.333      400,000            4          47.6567   \n",
       "3          47.764         -122.543      350,000            1          47.1124   \n",
       "4         47.3333         -122.543      400,000            3          47.1124   \n",
       "\n",
       "  Desired longitude Desired price Desired rooms Ratings  \n",
       "0          -122.333       250,000             3       0  \n",
       "1          -122.076       200,000             2       1  \n",
       "2          -122.543       300,000             4       3  \n",
       "3          -122.456       400,000             1       5  \n",
       "4          -122.543       250,000             3       5  "
      ]
     },
     "execution_count": 6,
     "metadata": {},
     "output_type": "execute_result"
    }
   ],
   "source": [
    "#1.\n",
    "import numpy as np\n",
    "import pandas as pd\n",
    "\n",
    "#No.2\n",
    "desired_price=['250,000','200,000','300,000','400,000']\n",
    "actual_price=['200,000','300,000','400,000','350,000']\n",
    "desired_location_lat=['47.5112','47.7346','47.6567','47.1124']\n",
    "actual_location_lat=['47.5111','47.7346','47.3333','47.764']\n",
    "desired_location_lon=['-122.333','-122.076','-122.543','-122.456']\n",
    "actual_location_lon=['-122.334','-122.077','-122.333','-122.543']\n",
    "desired_rooms=['3','2','4','1']\n",
    "actual_rooms=['2','3','4','1']\n",
    "ratings=['0','1','3','5']\n",
    "\n",
    "#No.3\n",
    "for i in range(1,101):\n",
    "    desired_location_lat.append(np.random.choice(desired_location_lat))\n",
    "    actual_location_lat.append(np.random.choice(actual_location_lat))\n",
    "    desired_location_lon.append(np.random.choice(desired_location_lon))\n",
    "    actual_location_lon.append(np.random.choice(actual_location_lon))\n",
    "    desired_price.append(np.random.choice(desired_price))\n",
    "    actual_price.append(np.random.choice(actual_price))\n",
    "    desired_rooms.append(np.random.choice(desired_rooms))\n",
    "    actual_rooms.append(np.random.choice(actual_rooms))\n",
    "    ratings.append(np.random.choice(ratings))\n",
    "    \n",
    "#No.4\n",
    "df=pd.DataFrame({'Desired latitude':desired_location_lat,'Actual latitude':actual_location_lat,\n",
    "                 'Desired longitude':desired_location_lon,'Actual longitude':actual_location_lon,\n",
    "                 'Desired price':desired_price,'Actual price':actual_price,\n",
    "                 'Desired rooms':desired_rooms,'Actual rooms':actual_rooms,\n",
    "                 'Ratings':ratings})\n",
    "df.head()   \n"
   ]
  },
  {
   "cell_type": "code",
   "execution_count": 7,
   "metadata": {
    "collapsed": false
   },
   "outputs": [
    {
     "data": {
      "text/html": [
       "<div>\n",
       "<table border=\"1\" class=\"dataframe\">\n",
       "  <thead>\n",
       "    <tr style=\"text-align: right;\">\n",
       "      <th></th>\n",
       "      <th>Actual latitude</th>\n",
       "      <th>Actual longitude</th>\n",
       "      <th>Actual price</th>\n",
       "      <th>Actual rooms</th>\n",
       "      <th>Desired latitude</th>\n",
       "      <th>Desired longitude</th>\n",
       "      <th>Desired price</th>\n",
       "      <th>Desired rooms</th>\n",
       "      <th>Ratings</th>\n",
       "    </tr>\n",
       "  </thead>\n",
       "  <tbody>\n",
       "    <tr>\n",
       "      <th>99</th>\n",
       "      <td>47.5111</td>\n",
       "      <td>-122.543</td>\n",
       "      <td>350,000</td>\n",
       "      <td>2</td>\n",
       "      <td>47.5112</td>\n",
       "      <td>-122.076</td>\n",
       "      <td>300,000</td>\n",
       "      <td>4</td>\n",
       "      <td>5</td>\n",
       "    </tr>\n",
       "    <tr>\n",
       "      <th>100</th>\n",
       "      <td>47.764</td>\n",
       "      <td>-122.333</td>\n",
       "      <td>400,000</td>\n",
       "      <td>3</td>\n",
       "      <td>47.1124</td>\n",
       "      <td>-122.543</td>\n",
       "      <td>300,000</td>\n",
       "      <td>3</td>\n",
       "      <td>5</td>\n",
       "    </tr>\n",
       "    <tr>\n",
       "      <th>101</th>\n",
       "      <td>47.7346</td>\n",
       "      <td>-122.334</td>\n",
       "      <td>300,000</td>\n",
       "      <td>3</td>\n",
       "      <td>47.5112</td>\n",
       "      <td>-122.543</td>\n",
       "      <td>400,000</td>\n",
       "      <td>2</td>\n",
       "      <td>5</td>\n",
       "    </tr>\n",
       "    <tr>\n",
       "      <th>102</th>\n",
       "      <td>47.7346</td>\n",
       "      <td>-122.077</td>\n",
       "      <td>400,000</td>\n",
       "      <td>3</td>\n",
       "      <td>47.1124</td>\n",
       "      <td>-122.543</td>\n",
       "      <td>250,000</td>\n",
       "      <td>3</td>\n",
       "      <td>3</td>\n",
       "    </tr>\n",
       "    <tr>\n",
       "      <th>103</th>\n",
       "      <td>47.3333</td>\n",
       "      <td>-122.334</td>\n",
       "      <td>400,000</td>\n",
       "      <td>3</td>\n",
       "      <td>47.1124</td>\n",
       "      <td>-122.543</td>\n",
       "      <td>250,000</td>\n",
       "      <td>3</td>\n",
       "      <td>5</td>\n",
       "    </tr>\n",
       "  </tbody>\n",
       "</table>\n",
       "</div>"
      ],
      "text/plain": [
       "    Actual latitude Actual longitude Actual price Actual rooms  \\\n",
       "99          47.5111         -122.543      350,000            2   \n",
       "100          47.764         -122.333      400,000            3   \n",
       "101         47.7346         -122.334      300,000            3   \n",
       "102         47.7346         -122.077      400,000            3   \n",
       "103         47.3333         -122.334      400,000            3   \n",
       "\n",
       "    Desired latitude Desired longitude Desired price Desired rooms Ratings  \n",
       "99           47.5112          -122.076       300,000             4       5  \n",
       "100          47.1124          -122.543       300,000             3       5  \n",
       "101          47.5112          -122.543       400,000             2       5  \n",
       "102          47.1124          -122.543       250,000             3       3  \n",
       "103          47.1124          -122.543       250,000             3       5  "
      ]
     },
     "execution_count": 7,
     "metadata": {},
     "output_type": "execute_result"
    }
   ],
   "source": [
    "df.tail()"
   ]
  },
  {
   "cell_type": "markdown",
   "metadata": {
    "collapsed": true
   },
   "source": [
    "### Testing with user input to get results"
   ]
  },
  {
   "cell_type": "code",
   "execution_count": 8,
   "metadata": {
    "collapsed": false
   },
   "outputs": [
    {
     "name": "stdout",
     "output_type": "stream",
     "text": [
      "Please enter max number of bedrooms: 5\n",
      "Please enter min number of bedrooms: 4\n",
      "Please enter min number of floors: 2\n",
      "Please enter max number of floors: 2\n",
      "Please enter min year for house built: 1930\n",
      "Please enter max year for house built: 1990\n",
      "Please enter min price of house: 400000\n",
      "Please enter max price of house: 550000\n"
     ]
    }
   ],
   "source": [
    "import csv\n",
    "import numpy as ap\n",
    "import pandas as pd\n",
    "\n",
    "data = pd.read_csv(\"C:/datasets/kc_house_data.csv\")\n",
    "\n",
    "bedroomMin = input(\"Please enter max number of bedrooms: \")\n",
    "bedroomMax = input(\"Please enter min number of bedrooms: \")\n",
    "floorsMin = input(\"Please enter min number of floors: \")\n",
    "floorsMax = input(\"Please enter max number of floors: \")\n",
    "yearBuiltMin = input(\"Please enter min year for house built: \")\n",
    "yearBuiltMax = input(\"Please enter max year for house built: \")\n",
    "priceMin = input(\"Please enter min price of house: \")\n",
    "priceMax = input(\"Please enter max price of house: \")\n",
    "\n",
    "#price = input(\"Please enter your desired price: \")\n",
    "#bedrooms = input(\"Please enter your desired bedrooms: \")\n",
    "#yearBuilt = input(\"Please enter your desired year built: \")\n",
    "\n",
    "#def desiredInputs(price, bedrooms, yearBuilt):\n",
    "    #if(price - price == 0 and bedrooms - bedrooms == 0 and yearBuilt - yearBuilt == 0):\n",
    "        #desiredResults = 100\n",
    "        #print('found')\n",
    "\n",
    "with open(\"C:/datasets/kc_house_data.csv\") as csvfile:\n",
    "    reader = csv.DictReader(csvfile)\n",
    "    for row in reader:\n",
    "        if(row['bedrooms'] >= bedroomMin and row['bedrooms'] <= bedroomMax and row['floors'] >= floorsMin \n",
    "           and row['floors'] <= floorsMax and row['yr_built'] >= yearBuiltMin and row['yr_built'] <= yearBuiltMax\n",
    "           and row['price'] >= priceMin and row['price'] <= priceMax):\n",
    "            \n",
    "            \n",
    "            \n",
    "            print (row['price'], row['bedrooms'], row['floors'], row['yr_built'])\n",
    "            \n",
    "            \n",
    "            #print row[1]\n",
    "            #print (\"we have a match\".join(row))\n",
    "            #print (\" \".join(row))\n",
    "            #print (\"House price %d, number of bedrooms %d, number of floors %d, Year %d.\") % (price, bedrooms, floors, yr_built)\n",
    "            \n",
    "        #else:\n",
    "            #print (\"We could not find a house\")"
   ]
  },
  {
   "cell_type": "markdown",
   "metadata": {},
   "source": [
    "### Creating data ratings for 4 users\n",
    "1. Read csv file for the 4 users\n",
    "2. Delete columns not needed for rating algorithm\n",
    "3. Adding dataframs to a list\n",
    "4. Compare user preferences with each list for each user\n",
    "5. Pass results back to a CSV file"
   ]
  },
  {
   "cell_type": "code",
   "execution_count": 1,
   "metadata": {
    "collapsed": true
   },
   "outputs": [],
   "source": [
    "# No.1\n",
    "import csv\n",
    "import numpy as ap\n",
    "import pandas as pd\n",
    "\n",
    "u1 = pd.read_csv(\"C:/datasets/kc_house_data.csv\")\n",
    "u2 = pd.read_csv(\"C:/datasets/kc_house_data.csv\")\n",
    "u3 = pd.read_csv(\"C:/datasets/kc_house_data.csv\")\n",
    "u4 = pd.read_csv(\"C:/datasets/kc_house_data.csv\")\n"
   ]
  },
  {
   "cell_type": "code",
   "execution_count": 2,
   "metadata": {
    "collapsed": false
   },
   "outputs": [],
   "source": [
    "# No.2\n",
    "\n",
    "# deleting columns for user 1\n",
    "del u1['id']\n",
    "del u1['date']\n",
    "del u1['sqft_living']\n",
    "del u1['sqft_lot']\n",
    "del u1['waterfront']\n",
    "del u1['view']\n",
    "del u1['condition']\n",
    "del u1['grade']\n",
    "del u1['sqft_above']\n",
    "del u1['sqft_basement']\n",
    "del u1['yr_built']\n",
    "del u1['yr_renovated']\n",
    "del u1['sqft_living15']\n",
    "del u1['sqft_lot15']\n",
    "\n",
    "# deleting columns for user 2\n",
    "del u2['id']\n",
    "del u2['date']\n",
    "del u2['sqft_living']\n",
    "del u2['sqft_lot']\n",
    "del u2['waterfront']\n",
    "del u2['view']\n",
    "del u2['condition']\n",
    "del u2['grade']\n",
    "del u2['sqft_above']\n",
    "del u2['sqft_basement']\n",
    "del u2['yr_built']\n",
    "del u2['yr_renovated']\n",
    "del u2['sqft_living15']\n",
    "del u2['sqft_lot15']\n",
    "\n",
    "# deleting columns for user 3\n",
    "del u3['id']\n",
    "del u3['date']\n",
    "del u3['sqft_living']\n",
    "del u3['sqft_lot']\n",
    "del u3['waterfront']\n",
    "del u3['view']\n",
    "del u3['condition']\n",
    "del u3['grade']\n",
    "del u3['sqft_above']\n",
    "del u3['sqft_basement']\n",
    "del u3['yr_built']\n",
    "del u3['yr_renovated']\n",
    "del u3['sqft_living15']\n",
    "del u3['sqft_lot15']\n",
    "\n",
    "# deleting columns for user 4\n",
    "del u4['id']\n",
    "del u4['date']\n",
    "del u4['sqft_living']\n",
    "del u4['sqft_lot']\n",
    "del u4['waterfront']\n",
    "del u4['view']\n",
    "del u4['condition']\n",
    "del u4['grade']\n",
    "del u4['sqft_above']\n",
    "del u4['sqft_basement']\n",
    "del u4['yr_built']\n",
    "del u4['yr_renovated']\n",
    "del u4['sqft_living15']\n",
    "del u4['sqft_lot15']"
   ]
  },
  {
   "cell_type": "code",
   "execution_count": 3,
   "metadata": {
    "collapsed": false
   },
   "outputs": [
    {
     "data": {
      "text/html": [
       "<div>\n",
       "<table border=\"1\" class=\"dataframe\">\n",
       "  <thead>\n",
       "    <tr style=\"text-align: right;\">\n",
       "      <th></th>\n",
       "      <th>price</th>\n",
       "      <th>bedrooms</th>\n",
       "      <th>bathrooms</th>\n",
       "      <th>floors</th>\n",
       "      <th>zipcode</th>\n",
       "      <th>lat</th>\n",
       "      <th>long</th>\n",
       "    </tr>\n",
       "  </thead>\n",
       "  <tbody>\n",
       "    <tr>\n",
       "      <th>0</th>\n",
       "      <td>221900</td>\n",
       "      <td>3</td>\n",
       "      <td>1.00</td>\n",
       "      <td>1</td>\n",
       "      <td>98178</td>\n",
       "      <td>47.5112</td>\n",
       "      <td>-122.257</td>\n",
       "    </tr>\n",
       "    <tr>\n",
       "      <th>1</th>\n",
       "      <td>538000</td>\n",
       "      <td>3</td>\n",
       "      <td>2.25</td>\n",
       "      <td>2</td>\n",
       "      <td>98125</td>\n",
       "      <td>47.7210</td>\n",
       "      <td>-122.319</td>\n",
       "    </tr>\n",
       "  </tbody>\n",
       "</table>\n",
       "</div>"
      ],
      "text/plain": [
       "    price  bedrooms  bathrooms  floors  zipcode      lat     long\n",
       "0  221900         3       1.00       1    98178  47.5112 -122.257\n",
       "1  538000         3       2.25       2    98125  47.7210 -122.319"
      ]
     },
     "execution_count": 3,
     "metadata": {},
     "output_type": "execute_result"
    }
   ],
   "source": [
    "u1.head(2)"
   ]
  },
  {
   "cell_type": "code",
   "execution_count": 4,
   "metadata": {
    "collapsed": false
   },
   "outputs": [
    {
     "data": {
      "text/html": [
       "<div>\n",
       "<table border=\"1\" class=\"dataframe\">\n",
       "  <thead>\n",
       "    <tr style=\"text-align: right;\">\n",
       "      <th></th>\n",
       "      <th>price</th>\n",
       "      <th>bedrooms</th>\n",
       "      <th>bathrooms</th>\n",
       "      <th>floors</th>\n",
       "      <th>zipcode</th>\n",
       "      <th>lat</th>\n",
       "      <th>long</th>\n",
       "    </tr>\n",
       "  </thead>\n",
       "  <tbody>\n",
       "    <tr>\n",
       "      <th>0</th>\n",
       "      <td>221900</td>\n",
       "      <td>3</td>\n",
       "      <td>1.00</td>\n",
       "      <td>1</td>\n",
       "      <td>98178</td>\n",
       "      <td>47.5112</td>\n",
       "      <td>-122.257</td>\n",
       "    </tr>\n",
       "    <tr>\n",
       "      <th>1</th>\n",
       "      <td>538000</td>\n",
       "      <td>3</td>\n",
       "      <td>2.25</td>\n",
       "      <td>2</td>\n",
       "      <td>98125</td>\n",
       "      <td>47.7210</td>\n",
       "      <td>-122.319</td>\n",
       "    </tr>\n",
       "  </tbody>\n",
       "</table>\n",
       "</div>"
      ],
      "text/plain": [
       "    price  bedrooms  bathrooms  floors  zipcode      lat     long\n",
       "0  221900         3       1.00       1    98178  47.5112 -122.257\n",
       "1  538000         3       2.25       2    98125  47.7210 -122.319"
      ]
     },
     "execution_count": 4,
     "metadata": {},
     "output_type": "execute_result"
    }
   ],
   "source": [
    "u2.head(2)\n"
   ]
  },
  {
   "cell_type": "code",
   "execution_count": 5,
   "metadata": {
    "collapsed": false
   },
   "outputs": [
    {
     "data": {
      "text/html": [
       "<div>\n",
       "<table border=\"1\" class=\"dataframe\">\n",
       "  <thead>\n",
       "    <tr style=\"text-align: right;\">\n",
       "      <th></th>\n",
       "      <th>price</th>\n",
       "      <th>bedrooms</th>\n",
       "      <th>bathrooms</th>\n",
       "      <th>floors</th>\n",
       "      <th>zipcode</th>\n",
       "      <th>lat</th>\n",
       "      <th>long</th>\n",
       "    </tr>\n",
       "  </thead>\n",
       "  <tbody>\n",
       "    <tr>\n",
       "      <th>0</th>\n",
       "      <td>221900</td>\n",
       "      <td>3</td>\n",
       "      <td>1.00</td>\n",
       "      <td>1</td>\n",
       "      <td>98178</td>\n",
       "      <td>47.5112</td>\n",
       "      <td>-122.257</td>\n",
       "    </tr>\n",
       "    <tr>\n",
       "      <th>1</th>\n",
       "      <td>538000</td>\n",
       "      <td>3</td>\n",
       "      <td>2.25</td>\n",
       "      <td>2</td>\n",
       "      <td>98125</td>\n",
       "      <td>47.7210</td>\n",
       "      <td>-122.319</td>\n",
       "    </tr>\n",
       "  </tbody>\n",
       "</table>\n",
       "</div>"
      ],
      "text/plain": [
       "    price  bedrooms  bathrooms  floors  zipcode      lat     long\n",
       "0  221900         3       1.00       1    98178  47.5112 -122.257\n",
       "1  538000         3       2.25       2    98125  47.7210 -122.319"
      ]
     },
     "execution_count": 5,
     "metadata": {},
     "output_type": "execute_result"
    }
   ],
   "source": [
    "u3.head(2)\n"
   ]
  },
  {
   "cell_type": "code",
   "execution_count": 6,
   "metadata": {
    "collapsed": false
   },
   "outputs": [
    {
     "data": {
      "text/html": [
       "<div>\n",
       "<table border=\"1\" class=\"dataframe\">\n",
       "  <thead>\n",
       "    <tr style=\"text-align: right;\">\n",
       "      <th></th>\n",
       "      <th>price</th>\n",
       "      <th>bedrooms</th>\n",
       "      <th>bathrooms</th>\n",
       "      <th>floors</th>\n",
       "      <th>zipcode</th>\n",
       "      <th>lat</th>\n",
       "      <th>long</th>\n",
       "    </tr>\n",
       "  </thead>\n",
       "  <tbody>\n",
       "    <tr>\n",
       "      <th>0</th>\n",
       "      <td>221900</td>\n",
       "      <td>3</td>\n",
       "      <td>1.00</td>\n",
       "      <td>1</td>\n",
       "      <td>98178</td>\n",
       "      <td>47.5112</td>\n",
       "      <td>-122.257</td>\n",
       "    </tr>\n",
       "    <tr>\n",
       "      <th>1</th>\n",
       "      <td>538000</td>\n",
       "      <td>3</td>\n",
       "      <td>2.25</td>\n",
       "      <td>2</td>\n",
       "      <td>98125</td>\n",
       "      <td>47.7210</td>\n",
       "      <td>-122.319</td>\n",
       "    </tr>\n",
       "  </tbody>\n",
       "</table>\n",
       "</div>"
      ],
      "text/plain": [
       "    price  bedrooms  bathrooms  floors  zipcode      lat     long\n",
       "0  221900         3       1.00       1    98178  47.5112 -122.257\n",
       "1  538000         3       2.25       2    98125  47.7210 -122.319"
      ]
     },
     "execution_count": 6,
     "metadata": {},
     "output_type": "execute_result"
    }
   ],
   "source": [
    "u4.head(2)"
   ]
  },
  {
   "cell_type": "code",
   "execution_count": 7,
   "metadata": {
    "collapsed": false
   },
   "outputs": [],
   "source": [
    "# Converting floats to an int\n",
    "#d['bathrooms'] = d.bathrooms.astype(int)"
   ]
  },
  {
   "cell_type": "markdown",
   "metadata": {},
   "source": [
    "### Dataframes to a list"
   ]
  },
  {
   "cell_type": "code",
   "execution_count": 8,
   "metadata": {
    "collapsed": false
   },
   "outputs": [],
   "source": [
    "# No.3\n",
    "\n",
    "#import csv\n",
    "\n",
    "#with open(d, \"rm\") as f:\n",
    "    #reader = csv.reader(f)\n",
    "    #d = list(reader)\n",
    "    \n",
    "# DATAFRAME TO LIST\n",
    "home1 = u1.values.tolist()\n",
    "home2 = u2.values.tolist()\n",
    "home3 = u3.values.tolist()\n",
    "home4 = u4.values.tolist()\n",
    "\n",
    "\n",
    "#print(d)"
   ]
  },
  {
   "cell_type": "code",
   "execution_count": 9,
   "metadata": {
    "collapsed": false
   },
   "outputs": [],
   "source": [
    "#home = list(map(int, home))"
   ]
  },
  {
   "cell_type": "markdown",
   "metadata": {
    "collapsed": true
   },
   "source": [
    "## Creating the ratings for User 1"
   ]
  },
  {
   "cell_type": "code",
   "execution_count": 10,
   "metadata": {
    "collapsed": false
   },
   "outputs": [
    {
     "name": "stdout",
     "output_type": "stream",
     "text": [
      "Please enter prefered price of apartment: 300000\n",
      "Please enter prefered number of bedrooms: 3\n",
      "Please enter prefered number of bathrooms: 2\n",
      "Please enter prefered number of floors: 2\n",
      "Please enter prefered zipcode 98111\n"
     ]
    }
   ],
   "source": [
    "price = int(input(\"Please enter prefered price of apartment: \"))\n",
    "bedrooms = int(input(\"Please enter prefered number of bedrooms: \"))\n",
    "bathrooms = int(input(\"Please enter prefered number of bathrooms: \"))\n",
    "floors = int(input(\"Please enter prefered number of floors: \"))\n",
    "zipcode = int(input(\"Please enter prefered zipcode \"))\n",
    "\n",
    "# Store user input into a list\n",
    "new_cust = [price,bedrooms,bathrooms,floors,zipcode]\n",
    "\n",
    "# Variables used to store totals\n",
    "total_price = 0\n",
    "total_room = 0\n",
    "total_bath = 0\n",
    "total_floor = 0\n",
    "total_zip = 0\n",
    "\n",
    "# Empty list to store a list of results of totals\n",
    "results = []\n",
    "\n",
    "# m and n used to increment through a list\n",
    "m = 0\n",
    "n = 4\n",
    "\n",
    "# Empty list to store the sum of values in a list\n",
    "sum_results = []\n",
    "\n",
    "price_rating = 5\n",
    "room_rating = 5\n",
    "bath_rating = 5\n",
    "floor_rating = 5\n",
    "zip_rating = 5\n",
    "\n",
    "# loop through a list to get a value from the list of houses and the new customer\n",
    "for i in home1:\n",
    "    total_price = ((i[0] - new_cust[0]) / 10000 * (.5))\n",
    "    if(total_price <= 0):\n",
    "        final_price_rate = 5\n",
    "    else:\n",
    "        final_price_rate = price_rating - total_price\n",
    "        \n",
    "    #rating_priced = 10 - total_price\n",
    "    \n",
    "    total_room = i[1] - new_cust[1]\n",
    "    if(total_room == 0):\n",
    "        final_room_rate = 5\n",
    "    else:\n",
    "        final_room_rate = room_rating - total_room\n",
    "        \n",
    "    total_bath = i[2] - new_cust[2]\n",
    "    if(total_bath == 0):\n",
    "        final_bath_rate = 5\n",
    "    else:\n",
    "        final_bath_rate = bath_rating - total_bath\n",
    "        \n",
    "    total_floor = i[3] - new_cust[3]\n",
    "    if(total_floor == 0):\n",
    "        final_year_rate = 5\n",
    "    else:\n",
    "        final_floor_rate = floor_rating - total_floor\n",
    "             \n",
    "    total_zip = ((i[4] - new_cust[4]) / 10 * (.5))\n",
    "    if(total_zip == 0):\n",
    "        final_zip_rate = 5\n",
    "    else:\n",
    "        final_zip_rate = zip_rating - total_zip\n",
    "    \n",
    "    #print('hip')    \n",
    "    #print(final_price_rate)\n",
    "    #print(final_room_rate)\n",
    "    #print(final_bath_rate)\n",
    "    #print(final_year_rate)\n",
    "    #print(final_zip_rate)\n",
    "    #print('hop')\n",
    "    \n",
    "    #print(rating_priced)\n",
    "    # append results onto home list\n",
    "    # for multiple values extend is used\n",
    "    results.extend((total_price,total_room,total_bath,total_floor,total_zip))\n",
    "    #results.append(total_price)\n",
    "    #results.append(total_room)\n",
    "    #results.append(total_bath)\n",
    "    #results.append(total_year)\n",
    "    \n",
    "    #sum_results = sum(results[m:n])\n",
    "    sum_results.append(sum(results[m:n]))\n",
    "    \n",
    "    m += 4\n",
    "    n += 4\n",
    "    \n",
    "#new_result1 = []\n",
    "#new_result2 = []\n",
    "\n",
    "v = 0\n",
    "for j in home1:\n",
    "    j.append(sum_results[v])\n",
    "    #j.append(new_cust[0])\n",
    "    #j.append(new_cust[1])\n",
    "    #j.append(new_cust[2])\n",
    "    #j.append(new_cust[3])\n",
    "    #j.append(new_cust[4])\n",
    "    \n",
    "    #new_result1.append(j)\n",
    "    #new_result1.insert(-1,sum_results[v])\n",
    "    v += 1\n",
    "    #for t in sum_results:\n",
    "        #new_result1.append(t)\n",
    "        \n",
    "    #new_result2 = new_result1.append(sum_results)\n",
    "\n",
    "#print(home)\n",
    "#print(new_result2)\n"
   ]
  },
  {
   "cell_type": "markdown",
   "metadata": {
    "collapsed": true
   },
   "source": [
    "### Creating the ratings for user 2"
   ]
  },
  {
   "cell_type": "code",
   "execution_count": 11,
   "metadata": {
    "collapsed": false
   },
   "outputs": [
    {
     "name": "stdout",
     "output_type": "stream",
     "text": [
      "Please enter prefered price of apartment: 500000\n",
      "Please enter prefered number of bedrooms: 4\n",
      "Please enter prefered number of bathrooms: 3\n",
      "Please enter prefered number of floors: 2\n",
      "Please enter prefered zipcode 98212\n"
     ]
    }
   ],
   "source": [
    "price = int(input(\"Please enter prefered price of apartment: \"))\n",
    "bedrooms = int(input(\"Please enter prefered number of bedrooms: \"))\n",
    "bathrooms = int(input(\"Please enter prefered number of bathrooms: \"))\n",
    "floors = int(input(\"Please enter prefered number of floors: \"))\n",
    "zipcode = int(input(\"Please enter prefered zipcode \"))\n",
    "\n",
    "# Store user input into a list\n",
    "new_cust = [price,bedrooms,bathrooms,floors,zipcode]\n",
    "\n",
    "# Variables used to store totals\n",
    "total_price = 0\n",
    "total_room = 0\n",
    "total_bath = 0\n",
    "total_floor = 0\n",
    "total_zip = 0\n",
    "\n",
    "# Empty list to store a list of results of totals\n",
    "results = []\n",
    "\n",
    "# m and n used to increment through a list\n",
    "m = 0\n",
    "n = 4\n",
    "\n",
    "# Empty list to store the sum of values in a list\n",
    "sum_results = []\n",
    "\n",
    "price_rating = 5\n",
    "room_rating = 5\n",
    "bath_rating = 5\n",
    "floor_rating = 5\n",
    "zip_rating = 5\n",
    "\n",
    "# loop through a list to get a value from the list of houses and the new customer\n",
    "for i in home2:\n",
    "    total_price = ((i[0] - new_cust[0]) / 10000 * (.5))\n",
    "    if(total_price <= 0):\n",
    "        final_price_rate = 5\n",
    "    else:\n",
    "        final_price_rate = price_rating - total_price\n",
    "        \n",
    "    #rating_priced = 10 - total_price\n",
    "    \n",
    "    total_room = i[1] - new_cust[1]\n",
    "    if(total_room == 0):\n",
    "        final_room_rate = 5\n",
    "    else:\n",
    "        final_room_rate = room_rating - total_room\n",
    "        \n",
    "    total_bath = i[2] - new_cust[2]\n",
    "    if(total_bath == 0):\n",
    "        final_bath_rate = 5\n",
    "    else:\n",
    "        final_bath_rate = bath_rating - total_bath\n",
    "        \n",
    "    total_floor = i[3] - new_cust[3]\n",
    "    if(total_floor == 0):\n",
    "        final_floor_rate = 5\n",
    "    else:\n",
    "        final_floor_rate = floor_rating - total_floor\n",
    "             \n",
    "    total_zip = ((i[4] - new_cust[4])  / 10 * (.5))\n",
    "    if(total_zip == 0):\n",
    "        final_zip_rate = 5\n",
    "    else:\n",
    "        final_zip_rate = zip_rating - total_zip\n",
    "    \n",
    "    #print('hip')    \n",
    "    #print(final_price_rate)\n",
    "    #print(final_room_rate)\n",
    "    #print(final_bath_rate)\n",
    "    #print(final_year_rate)\n",
    "    #print(final_zip_rate)\n",
    "    #print('hop')\n",
    "    \n",
    "    #print(rating_priced)\n",
    "    # append results onto home list\n",
    "    # for multiple values extend is used\n",
    "    results.extend((total_price,total_room,total_bath,total_floor,total_zip))\n",
    "    #results.append(total_price)\n",
    "    #results.append(total_room)\n",
    "    #results.append(total_bath)\n",
    "    #results.append(total_year)\n",
    "    \n",
    "    #sum_results = sum(results[m:n])\n",
    "    sum_results.append(sum(results[m:n]))\n",
    "    \n",
    "    m += 4\n",
    "    n += 4\n",
    "    \n",
    "#new_result1 = []\n",
    "#new_result2 = []\n",
    "\n",
    "v = 0\n",
    "for j in home2:\n",
    "    j.append(sum_results[v])\n",
    "    #j.append(new_cust[0])\n",
    "    #j.append(new_cust[1])\n",
    "    #j.append(new_cust[2])\n",
    "    #j.append(new_cust[3])\n",
    "    #j.append(new_cust[4])\n",
    "    \n",
    "    #new_result1.append(j)\n",
    "    #new_result1.insert(-1,sum_results[v])\n",
    "    v += 1\n",
    "    #for t in sum_results:\n",
    "        #new_result1.append(t)\n",
    "        \n",
    "    #new_result2 = new_result1.append(sum_results)\n",
    "\n",
    "#print(home)\n",
    "#print(new_result2)\n"
   ]
  },
  {
   "cell_type": "markdown",
   "metadata": {
    "collapsed": false
   },
   "source": [
    "### Creating the ratings for user 3"
   ]
  },
  {
   "cell_type": "code",
   "execution_count": 12,
   "metadata": {
    "collapsed": false
   },
   "outputs": [
    {
     "name": "stdout",
     "output_type": "stream",
     "text": [
      "Please enter prefered price of apartment: 450000\n",
      "Please enter prefered number of bedrooms: 3\n",
      "Please enter prefered number of bathrooms: 1\n",
      "Please enter prefered number of floors: 1\n",
      "Please enter prefered zipcode 98222\n"
     ]
    }
   ],
   "source": [
    "price = int(input(\"Please enter prefered price of apartment: \"))\n",
    "bedrooms = int(input(\"Please enter prefered number of bedrooms: \"))\n",
    "bathrooms = int(input(\"Please enter prefered number of bathrooms: \"))\n",
    "floors = int(input(\"Please enter prefered number of floors: \"))\n",
    "zipcode = int(input(\"Please enter prefered zipcode \"))\n",
    "\n",
    "# Store user input into a list\n",
    "new_cust = [price,bedrooms,bathrooms,floors,zipcode]\n",
    "\n",
    "# Variables used to store totals\n",
    "total_price = 0\n",
    "total_room = 0\n",
    "total_bath = 0\n",
    "total_floor = 0\n",
    "total_zip = 0\n",
    "\n",
    "# Empty list to store a list of results of totals\n",
    "results = []\n",
    "\n",
    "# m and n used to increment through a list\n",
    "m = 0\n",
    "n = 4\n",
    "\n",
    "# Empty list to store the sum of values in a list\n",
    "sum_results = []\n",
    "\n",
    "price_rating = 5\n",
    "room_rating = 5\n",
    "bath_rating = 5\n",
    "floor_rating = 5\n",
    "zip_rating = 5\n",
    "\n",
    "# loop through a list to get a value from the list of houses and the new customer\n",
    "for i in home3:\n",
    "    total_price = ((i[0] - new_cust[0]) / 10000 * (.5))\n",
    "    if(total_price <= 0):\n",
    "        final_price_rate = 5\n",
    "    else:\n",
    "        final_price_rate = price_rating - total_price\n",
    "        \n",
    "    #rating_priced = 10 - total_price\n",
    "    \n",
    "    total_room = i[1] - new_cust[1]\n",
    "    if(total_room == 0):\n",
    "        final_room_rate = 5\n",
    "    else:\n",
    "        final_room_rate = room_rating - total_room\n",
    "        \n",
    "    total_bath = i[2] - new_cust[2]\n",
    "    if(total_bath == 0):\n",
    "        final_bath_rate = 5\n",
    "    else:\n",
    "        final_bath_rate = bath_rating - total_bath\n",
    "        \n",
    "    total_floor = i[3] - new_cust[3]\n",
    "    if(total_floor == 0):\n",
    "        final_floor_rate = 5\n",
    "    else:\n",
    "        final_floor_rate = floor_rating - total_floor\n",
    "    \n",
    "    total_zip = ((i[4] - new_cust[4]) / 10 * (.5))\n",
    "    if(total_zip == 0):\n",
    "        final_zip_rate = 5\n",
    "    else:\n",
    "        final_zip_rate = zip_rating - total_zip\n",
    "    \n",
    "    #print('hip')    \n",
    "    #print(final_price_rate)\n",
    "    #print(final_room_rate)\n",
    "    #print(final_bath_rate)\n",
    "    #print(final_year_rate)\n",
    "    #print(final_zip_rate)\n",
    "    #print('hop')\n",
    "    \n",
    "    #print(rating_priced)\n",
    "    # append results onto home list\n",
    "    # for multiple values extend is used\n",
    "    results.extend((total_price,total_room,total_bath,total_floor,total_zip))\n",
    "    #results.append(total_price)\n",
    "    #results.append(total_room)\n",
    "    #results.append(total_bath)\n",
    "    #results.append(total_year)\n",
    "    \n",
    "    #sum_results = sum(results[m:n])\n",
    "    sum_results.append(sum(results[m:n]))\n",
    "    \n",
    "    m += 4\n",
    "    n += 4\n",
    "    \n",
    "#new_result1 = []\n",
    "#new_result2 = []\n",
    "\n",
    "v = 0\n",
    "for j in home3:\n",
    "    j.append(sum_results[v])\n",
    "    #j.append(new_cust[0])\n",
    "    #j.append(new_cust[1])\n",
    "    #j.append(new_cust[2])\n",
    "    #j.append(new_cust[3])\n",
    "    #j.append(new_cust[4])\n",
    "    \n",
    "    #new_result1.append(j)\n",
    "    #new_result1.insert(-1,sum_results[v])\n",
    "    v += 1\n",
    "    #for t in sum_results:\n",
    "        #new_result1.append(t)\n",
    "        \n",
    "    #new_result2 = new_result1.append(sum_results)\n",
    "\n",
    "#print(home)\n",
    "#print(new_result2)\n"
   ]
  },
  {
   "cell_type": "markdown",
   "metadata": {},
   "source": [
    "### Creating the ratings for user 4"
   ]
  },
  {
   "cell_type": "code",
   "execution_count": 13,
   "metadata": {
    "collapsed": false
   },
   "outputs": [
    {
     "name": "stdout",
     "output_type": "stream",
     "text": [
      "Please enter prefered price of apartment: 250000\n",
      "Please enter prefered number of bedrooms: 2\n",
      "Please enter prefered number of bathrooms: 1\n",
      "Please enter prefered number of floors: 1\n",
      "Please enter prefered zipcode 98141\n"
     ]
    }
   ],
   "source": [
    "price = int(input(\"Please enter prefered price of apartment: \"))\n",
    "bedrooms = int(input(\"Please enter prefered number of bedrooms: \"))\n",
    "bathrooms = int(input(\"Please enter prefered number of bathrooms: \"))\n",
    "floors = int(input(\"Please enter prefered number of floors: \"))\n",
    "zipcode = int(input(\"Please enter prefered zipcode \"))\n",
    "\n",
    "# Store user input into a list\n",
    "new_cust = [price,bedrooms,bathrooms,floors,zipcode]\n",
    "\n",
    "# Variables used to store totals\n",
    "total_price = 0\n",
    "total_room = 0\n",
    "total_bath = 0\n",
    "total_floor = 0\n",
    "total_zip = 0\n",
    "\n",
    "# Empty list to store a list of results of totals\n",
    "results = []\n",
    "\n",
    "# m and n used to increment through a list\n",
    "m = 0\n",
    "n = 4\n",
    "\n",
    "# Empty list to store the sum of values in a list\n",
    "sum_results = []\n",
    "\n",
    "price_rating = 5\n",
    "room_rating = 5\n",
    "bath_rating = 5\n",
    "floor_rating = 5\n",
    "zip_rating = 5\n",
    "\n",
    "# loop through a list to get a value from the list of houses and the new customer\n",
    "for i in home4:\n",
    "    total_price = ((i[0] - new_cust[0]) / 10000 * (.5))\n",
    "    if(total_price <= 0):\n",
    "        final_price_rate = 5\n",
    "    else:\n",
    "        final_price_rate = price_rating - total_price\n",
    "        \n",
    "    #rating_priced = 10 - total_price\n",
    "    \n",
    "    total_room = i[1] - new_cust[1]\n",
    "    if(total_room == 0):\n",
    "        final_room_rate = 5\n",
    "    else:\n",
    "        final_room_rate = room_rating - total_room\n",
    "        \n",
    "    total_bath = i[2] - new_cust[2]\n",
    "    if(total_bath == 0):\n",
    "        final_bath_rate = 5\n",
    "    else:\n",
    "        final_bath_rate = bath_rating - total_bath\n",
    "        \n",
    "    total_floor = i[3] - new_cust[3]\n",
    "    if(total_floor == 0):\n",
    "        final_floor_rate = 5\n",
    "    else:\n",
    "        final_floor_rate = floor_rating - total_floor\n",
    "             \n",
    "    total_zip = ((i[4] - new_cust[4]) / 10 * (.5))\n",
    "    if(total_zip == 0):\n",
    "        final_zip_rate = 5\n",
    "    else:\n",
    "        final_zip_rate = zip_rating - total_zip\n",
    "    \n",
    "    #print('hip')    \n",
    "    #print(final_price_rate)\n",
    "    #print(final_room_rate)\n",
    "    #print(final_bath_rate)\n",
    "    #print(final_year_rate)\n",
    "    #print(final_zip_rate)\n",
    "    #print('hop')\n",
    "    \n",
    "    #print(rating_priced)\n",
    "    # append results onto home list\n",
    "    # for multiple values extend is used\n",
    "    results.extend((total_price,total_room,total_bath,total_floor,total_zip))\n",
    "    #results.append(total_price)\n",
    "    #results.append(total_room)\n",
    "    #results.append(total_bath)\n",
    "    #results.append(total_year)\n",
    "    \n",
    "    #sum_results = sum(results[m:n])\n",
    "    sum_results.append(sum(results[m:n]))\n",
    "    \n",
    "    m += 4\n",
    "    n += 4\n",
    "    \n",
    "#new_result1 = []\n",
    "#new_result2 = []\n",
    "\n",
    "v = 0\n",
    "for j in home4:\n",
    "    j.append(sum_results[v])\n",
    "    #j.append(new_cust[0])\n",
    "    #j.append(new_cust[1])\n",
    "    #j.append(new_cust[2])\n",
    "    #j.append(new_cust[3])\n",
    "    #j.append(new_cust[4])\n",
    "    \n",
    "    #new_result1.append(j)\n",
    "    #new_result1.insert(-1,sum_results[v])\n",
    "    v += 1\n",
    "    #for t in sum_results:\n",
    "        #new_result1.append(t)\n",
    "        \n",
    "    #new_result2 = new_result1.append(sum_results)\n",
    "\n",
    "#print(home)\n",
    "#print(new_result2)\n"
   ]
  },
  {
   "cell_type": "markdown",
   "metadata": {},
   "source": [
    "### Create a CSV file for each user"
   ]
  },
  {
   "cell_type": "code",
   "execution_count": 14,
   "metadata": {
    "collapsed": false
   },
   "outputs": [],
   "source": [
    "# No.5\n",
    "import csv\n",
    "\n",
    "with open('user1.csv', 'w', newline='') as myNewFile:\n",
    "    a = csv.writer(myNewFile, delimiter=',')\n",
    "    a.writerows(home1)"
   ]
  },
  {
   "cell_type": "code",
   "execution_count": 15,
   "metadata": {
    "collapsed": true
   },
   "outputs": [],
   "source": [
    "dfp = pd.read_csv(\"C:/Users/paudie/4thYearProject/user1.csv\")"
   ]
  },
  {
   "cell_type": "code",
   "execution_count": 16,
   "metadata": {
    "collapsed": true
   },
   "outputs": [],
   "source": [
    "# No.5\n",
    "import csv\n",
    "\n",
    "with open('user2.csv', 'w', newline='') as myNewFile:\n",
    "    a = csv.writer(myNewFile, delimiter=',')\n",
    "    a.writerows(home2)"
   ]
  },
  {
   "cell_type": "code",
   "execution_count": 17,
   "metadata": {
    "collapsed": true
   },
   "outputs": [],
   "source": [
    "user2 = pd.read_csv(\"C:/Users/paudie/4thYearProject/user2.csv\")"
   ]
  },
  {
   "cell_type": "code",
   "execution_count": 18,
   "metadata": {
    "collapsed": true
   },
   "outputs": [],
   "source": [
    "# No.5\n",
    "import csv\n",
    "\n",
    "with open('user3.csv', 'w', newline='') as myNewFile:\n",
    "    a = csv.writer(myNewFile, delimiter=',')\n",
    "    a.writerows(home3)"
   ]
  },
  {
   "cell_type": "code",
   "execution_count": 19,
   "metadata": {
    "collapsed": true
   },
   "outputs": [],
   "source": [
    "user3 = pd.read_csv(\"C:/Users/paudie/4thYearProject/user3.csv\")"
   ]
  },
  {
   "cell_type": "code",
   "execution_count": 20,
   "metadata": {
    "collapsed": true
   },
   "outputs": [],
   "source": [
    "# No.5\n",
    "import csv\n",
    "\n",
    "with open('user4.csv', 'w', newline='') as myNewFile:\n",
    "    a = csv.writer(myNewFile, delimiter=',')\n",
    "    a.writerows(home4)"
   ]
  },
  {
   "cell_type": "code",
   "execution_count": 21,
   "metadata": {
    "collapsed": true
   },
   "outputs": [],
   "source": [
    "user4 = pd.read_csv(\"C:/Users/paudie/4thYearProject/user4.csv\")"
   ]
  },
  {
   "cell_type": "code",
   "execution_count": 22,
   "metadata": {
    "collapsed": false
   },
   "outputs": [],
   "source": [
    "dfp.columns = ['price','bedrooms','bathrooms','floors','zipcode','lat','long','rating']\n",
    "user2.columns = ['price','bedrooms','bathrooms','floors','zipcode','lat','long','rating']\n",
    "user3.columns = ['price','bedrooms','bathrooms','floors','zipcode','lat','long','rating']\n",
    "user4.columns = ['price','bedrooms','bathrooms','floors','zipcode','lat','long','rating']"
   ]
  },
  {
   "cell_type": "code",
   "execution_count": 23,
   "metadata": {
    "collapsed": false
   },
   "outputs": [
    {
     "data": {
      "text/html": [
       "<div>\n",
       "<table border=\"1\" class=\"dataframe\">\n",
       "  <thead>\n",
       "    <tr style=\"text-align: right;\">\n",
       "      <th></th>\n",
       "      <th>price</th>\n",
       "      <th>bedrooms</th>\n",
       "      <th>bathrooms</th>\n",
       "      <th>floors</th>\n",
       "      <th>zipcode</th>\n",
       "      <th>lat</th>\n",
       "      <th>long</th>\n",
       "      <th>rating</th>\n",
       "    </tr>\n",
       "  </thead>\n",
       "  <tbody>\n",
       "    <tr>\n",
       "      <th>0</th>\n",
       "      <td>538000</td>\n",
       "      <td>3</td>\n",
       "      <td>2.25</td>\n",
       "      <td>2</td>\n",
       "      <td>98125</td>\n",
       "      <td>47.7210</td>\n",
       "      <td>-122.319</td>\n",
       "      <td>15.50</td>\n",
       "    </tr>\n",
       "    <tr>\n",
       "      <th>1</th>\n",
       "      <td>180000</td>\n",
       "      <td>2</td>\n",
       "      <td>1.00</td>\n",
       "      <td>1</td>\n",
       "      <td>98028</td>\n",
       "      <td>47.7379</td>\n",
       "      <td>-122.233</td>\n",
       "      <td>-6.30</td>\n",
       "    </tr>\n",
       "    <tr>\n",
       "      <th>2</th>\n",
       "      <td>604000</td>\n",
       "      <td>4</td>\n",
       "      <td>3.00</td>\n",
       "      <td>1</td>\n",
       "      <td>98136</td>\n",
       "      <td>47.5208</td>\n",
       "      <td>-122.393</td>\n",
       "      <td>9.05</td>\n",
       "    </tr>\n",
       "    <tr>\n",
       "      <th>3</th>\n",
       "      <td>510000</td>\n",
       "      <td>3</td>\n",
       "      <td>2.00</td>\n",
       "      <td>1</td>\n",
       "      <td>98074</td>\n",
       "      <td>47.6168</td>\n",
       "      <td>-122.045</td>\n",
       "      <td>2.25</td>\n",
       "    </tr>\n",
       "    <tr>\n",
       "      <th>4</th>\n",
       "      <td>1225000</td>\n",
       "      <td>4</td>\n",
       "      <td>4.50</td>\n",
       "      <td>1</td>\n",
       "      <td>98053</td>\n",
       "      <td>47.6561</td>\n",
       "      <td>-122.005</td>\n",
       "      <td>9.50</td>\n",
       "    </tr>\n",
       "  </tbody>\n",
       "</table>\n",
       "</div>"
      ],
      "text/plain": [
       "     price  bedrooms  bathrooms  floors  zipcode      lat     long  rating\n",
       "0   538000         3       2.25       2    98125  47.7210 -122.319   15.50\n",
       "1   180000         2       1.00       1    98028  47.7379 -122.233   -6.30\n",
       "2   604000         4       3.00       1    98136  47.5208 -122.393    9.05\n",
       "3   510000         3       2.00       1    98074  47.6168 -122.045    2.25\n",
       "4  1225000         4       4.50       1    98053  47.6561 -122.005    9.50"
      ]
     },
     "execution_count": 23,
     "metadata": {},
     "output_type": "execute_result"
    }
   ],
   "source": [
    "dfp.head()"
   ]
  },
  {
   "cell_type": "code",
   "execution_count": 24,
   "metadata": {
    "collapsed": true
   },
   "outputs": [],
   "source": [
    "import numpy as np\n",
    "dfp['user'] = \"1\"\n",
    "user2['user'] = \"2\"\n",
    "user3['user'] = \"3\"\n",
    "user4['user'] = \"4\""
   ]
  },
  {
   "cell_type": "markdown",
   "metadata": {},
   "source": [
    "### Adding new user"
   ]
  },
  {
   "cell_type": "code",
   "execution_count": 25,
   "metadata": {
    "collapsed": true
   },
   "outputs": [],
   "source": [
    "new_user = pd.read_csv(\"C:/datasets/kc_house_data.csv\")"
   ]
  },
  {
   "cell_type": "code",
   "execution_count": 26,
   "metadata": {
    "collapsed": false
   },
   "outputs": [],
   "source": [
    "del new_user['id']\n",
    "del new_user['date']\n",
    "del new_user['sqft_living']\n",
    "del new_user['sqft_lot']\n",
    "del new_user['waterfront']\n",
    "del new_user['view']\n",
    "del new_user['condition']\n",
    "del new_user['grade']\n",
    "del new_user['sqft_above']\n",
    "del new_user['sqft_basement']\n",
    "del new_user['yr_built']\n",
    "del new_user['yr_renovated']\n",
    "del new_user['sqft_living15']\n",
    "del new_user['sqft_lot15']"
   ]
  },
  {
   "cell_type": "code",
   "execution_count": 27,
   "metadata": {
    "collapsed": false
   },
   "outputs": [
    {
     "data": {
      "text/html": [
       "<div>\n",
       "<table border=\"1\" class=\"dataframe\">\n",
       "  <thead>\n",
       "    <tr style=\"text-align: right;\">\n",
       "      <th></th>\n",
       "      <th>price</th>\n",
       "      <th>bedrooms</th>\n",
       "      <th>bathrooms</th>\n",
       "      <th>floors</th>\n",
       "      <th>zipcode</th>\n",
       "      <th>lat</th>\n",
       "      <th>long</th>\n",
       "    </tr>\n",
       "  </thead>\n",
       "  <tbody>\n",
       "    <tr>\n",
       "      <th>0</th>\n",
       "      <td>221900</td>\n",
       "      <td>3</td>\n",
       "      <td>1.00</td>\n",
       "      <td>1</td>\n",
       "      <td>98178</td>\n",
       "      <td>47.5112</td>\n",
       "      <td>-122.257</td>\n",
       "    </tr>\n",
       "    <tr>\n",
       "      <th>1</th>\n",
       "      <td>538000</td>\n",
       "      <td>3</td>\n",
       "      <td>2.25</td>\n",
       "      <td>2</td>\n",
       "      <td>98125</td>\n",
       "      <td>47.7210</td>\n",
       "      <td>-122.319</td>\n",
       "    </tr>\n",
       "    <tr>\n",
       "      <th>2</th>\n",
       "      <td>180000</td>\n",
       "      <td>2</td>\n",
       "      <td>1.00</td>\n",
       "      <td>1</td>\n",
       "      <td>98028</td>\n",
       "      <td>47.7379</td>\n",
       "      <td>-122.233</td>\n",
       "    </tr>\n",
       "    <tr>\n",
       "      <th>3</th>\n",
       "      <td>604000</td>\n",
       "      <td>4</td>\n",
       "      <td>3.00</td>\n",
       "      <td>1</td>\n",
       "      <td>98136</td>\n",
       "      <td>47.5208</td>\n",
       "      <td>-122.393</td>\n",
       "    </tr>\n",
       "    <tr>\n",
       "      <th>4</th>\n",
       "      <td>510000</td>\n",
       "      <td>3</td>\n",
       "      <td>2.00</td>\n",
       "      <td>1</td>\n",
       "      <td>98074</td>\n",
       "      <td>47.6168</td>\n",
       "      <td>-122.045</td>\n",
       "    </tr>\n",
       "  </tbody>\n",
       "</table>\n",
       "</div>"
      ],
      "text/plain": [
       "    price  bedrooms  bathrooms  floors  zipcode      lat     long\n",
       "0  221900         3       1.00       1    98178  47.5112 -122.257\n",
       "1  538000         3       2.25       2    98125  47.7210 -122.319\n",
       "2  180000         2       1.00       1    98028  47.7379 -122.233\n",
       "3  604000         4       3.00       1    98136  47.5208 -122.393\n",
       "4  510000         3       2.00       1    98074  47.6168 -122.045"
      ]
     },
     "execution_count": 27,
     "metadata": {},
     "output_type": "execute_result"
    }
   ],
   "source": [
    "new_user.head()"
   ]
  },
  {
   "cell_type": "code",
   "execution_count": 28,
   "metadata": {
    "collapsed": true
   },
   "outputs": [],
   "source": [
    "import numpy as np\n",
    "new_user['rating'] = np.random.randint(0,5, size=len(new_user))"
   ]
  },
  {
   "cell_type": "code",
   "execution_count": 29,
   "metadata": {
    "collapsed": true
   },
   "outputs": [],
   "source": [
    "new_user['user'] = \"5\""
   ]
  },
  {
   "cell_type": "code",
   "execution_count": 30,
   "metadata": {
    "collapsed": false
   },
   "outputs": [
    {
     "data": {
      "text/html": [
       "<div>\n",
       "<table border=\"1\" class=\"dataframe\">\n",
       "  <thead>\n",
       "    <tr style=\"text-align: right;\">\n",
       "      <th></th>\n",
       "      <th>price</th>\n",
       "      <th>bedrooms</th>\n",
       "      <th>bathrooms</th>\n",
       "      <th>floors</th>\n",
       "      <th>zipcode</th>\n",
       "      <th>lat</th>\n",
       "      <th>long</th>\n",
       "      <th>rating</th>\n",
       "      <th>user</th>\n",
       "    </tr>\n",
       "  </thead>\n",
       "  <tbody>\n",
       "    <tr>\n",
       "      <th>0</th>\n",
       "      <td>221900</td>\n",
       "      <td>3</td>\n",
       "      <td>1.00</td>\n",
       "      <td>1</td>\n",
       "      <td>98178</td>\n",
       "      <td>47.5112</td>\n",
       "      <td>-122.257</td>\n",
       "      <td>1</td>\n",
       "      <td>5</td>\n",
       "    </tr>\n",
       "    <tr>\n",
       "      <th>1</th>\n",
       "      <td>538000</td>\n",
       "      <td>3</td>\n",
       "      <td>2.25</td>\n",
       "      <td>2</td>\n",
       "      <td>98125</td>\n",
       "      <td>47.7210</td>\n",
       "      <td>-122.319</td>\n",
       "      <td>0</td>\n",
       "      <td>5</td>\n",
       "    </tr>\n",
       "    <tr>\n",
       "      <th>2</th>\n",
       "      <td>180000</td>\n",
       "      <td>2</td>\n",
       "      <td>1.00</td>\n",
       "      <td>1</td>\n",
       "      <td>98028</td>\n",
       "      <td>47.7379</td>\n",
       "      <td>-122.233</td>\n",
       "      <td>4</td>\n",
       "      <td>5</td>\n",
       "    </tr>\n",
       "    <tr>\n",
       "      <th>3</th>\n",
       "      <td>604000</td>\n",
       "      <td>4</td>\n",
       "      <td>3.00</td>\n",
       "      <td>1</td>\n",
       "      <td>98136</td>\n",
       "      <td>47.5208</td>\n",
       "      <td>-122.393</td>\n",
       "      <td>0</td>\n",
       "      <td>5</td>\n",
       "    </tr>\n",
       "    <tr>\n",
       "      <th>4</th>\n",
       "      <td>510000</td>\n",
       "      <td>3</td>\n",
       "      <td>2.00</td>\n",
       "      <td>1</td>\n",
       "      <td>98074</td>\n",
       "      <td>47.6168</td>\n",
       "      <td>-122.045</td>\n",
       "      <td>2</td>\n",
       "      <td>5</td>\n",
       "    </tr>\n",
       "  </tbody>\n",
       "</table>\n",
       "</div>"
      ],
      "text/plain": [
       "    price  bedrooms  bathrooms  floors  zipcode      lat     long  rating user\n",
       "0  221900         3       1.00       1    98178  47.5112 -122.257       1    5\n",
       "1  538000         3       2.25       2    98125  47.7210 -122.319       0    5\n",
       "2  180000         2       1.00       1    98028  47.7379 -122.233       4    5\n",
       "3  604000         4       3.00       1    98136  47.5208 -122.393       0    5\n",
       "4  510000         3       2.00       1    98074  47.6168 -122.045       2    5"
      ]
     },
     "execution_count": 30,
     "metadata": {},
     "output_type": "execute_result"
    }
   ],
   "source": [
    "new_user.head()"
   ]
  },
  {
   "cell_type": "markdown",
   "metadata": {},
   "source": [
    "### Replace 0,1, and 2 with with ratings for the new user"
   ]
  },
  {
   "cell_type": "code",
   "execution_count": 31,
   "metadata": {
    "collapsed": true
   },
   "outputs": [],
   "source": [
    "import numpy as np\n",
    "\n",
    "new_user['rating'] = new_user['rating'].astype(str)\n",
    "new_user['rating'] = new_user['rating'].str.replace('0$', '')"
   ]
  },
  {
   "cell_type": "code",
   "execution_count": 32,
   "metadata": {
    "collapsed": true
   },
   "outputs": [],
   "source": [
    "import numpy as np\n",
    "\n",
    "new_user['rating'] = new_user['rating'].astype(str)\n",
    "new_user['rating'] = new_user['rating'].str.replace('1$', '')"
   ]
  },
  {
   "cell_type": "code",
   "execution_count": 33,
   "metadata": {
    "collapsed": true
   },
   "outputs": [],
   "source": [
    "import numpy as np\n",
    "\n",
    "new_user['rating'] = new_user['rating'].astype(str)\n",
    "new_user['rating'] = new_user['rating'].str.replace('2$', '')"
   ]
  },
  {
   "cell_type": "code",
   "execution_count": 34,
   "metadata": {
    "collapsed": false
   },
   "outputs": [
    {
     "data": {
      "text/html": [
       "<div>\n",
       "<table border=\"1\" class=\"dataframe\">\n",
       "  <thead>\n",
       "    <tr style=\"text-align: right;\">\n",
       "      <th></th>\n",
       "      <th>price</th>\n",
       "      <th>bedrooms</th>\n",
       "      <th>bathrooms</th>\n",
       "      <th>floors</th>\n",
       "      <th>zipcode</th>\n",
       "      <th>lat</th>\n",
       "      <th>long</th>\n",
       "      <th>rating</th>\n",
       "      <th>user</th>\n",
       "    </tr>\n",
       "  </thead>\n",
       "  <tbody>\n",
       "    <tr>\n",
       "      <th>21608</th>\n",
       "      <td>360000</td>\n",
       "      <td>3</td>\n",
       "      <td>2.50</td>\n",
       "      <td>3</td>\n",
       "      <td>98103</td>\n",
       "      <td>47.6993</td>\n",
       "      <td>-122.346</td>\n",
       "      <td>4</td>\n",
       "      <td>5</td>\n",
       "    </tr>\n",
       "    <tr>\n",
       "      <th>21609</th>\n",
       "      <td>400000</td>\n",
       "      <td>4</td>\n",
       "      <td>2.50</td>\n",
       "      <td>2</td>\n",
       "      <td>98146</td>\n",
       "      <td>47.5107</td>\n",
       "      <td>-122.362</td>\n",
       "      <td></td>\n",
       "      <td>5</td>\n",
       "    </tr>\n",
       "    <tr>\n",
       "      <th>21610</th>\n",
       "      <td>402101</td>\n",
       "      <td>2</td>\n",
       "      <td>0.75</td>\n",
       "      <td>2</td>\n",
       "      <td>98144</td>\n",
       "      <td>47.5944</td>\n",
       "      <td>-122.299</td>\n",
       "      <td>4</td>\n",
       "      <td>5</td>\n",
       "    </tr>\n",
       "    <tr>\n",
       "      <th>21611</th>\n",
       "      <td>400000</td>\n",
       "      <td>3</td>\n",
       "      <td>2.50</td>\n",
       "      <td>2</td>\n",
       "      <td>98027</td>\n",
       "      <td>47.5345</td>\n",
       "      <td>-122.069</td>\n",
       "      <td></td>\n",
       "      <td>5</td>\n",
       "    </tr>\n",
       "    <tr>\n",
       "      <th>21612</th>\n",
       "      <td>325000</td>\n",
       "      <td>2</td>\n",
       "      <td>0.75</td>\n",
       "      <td>2</td>\n",
       "      <td>98144</td>\n",
       "      <td>47.5941</td>\n",
       "      <td>-122.299</td>\n",
       "      <td></td>\n",
       "      <td>5</td>\n",
       "    </tr>\n",
       "  </tbody>\n",
       "</table>\n",
       "</div>"
      ],
      "text/plain": [
       "        price  bedrooms  bathrooms  floors  zipcode      lat     long rating  \\\n",
       "21608  360000         3       2.50       3    98103  47.6993 -122.346      4   \n",
       "21609  400000         4       2.50       2    98146  47.5107 -122.362          \n",
       "21610  402101         2       0.75       2    98144  47.5944 -122.299      4   \n",
       "21611  400000         3       2.50       2    98027  47.5345 -122.069          \n",
       "21612  325000         2       0.75       2    98144  47.5941 -122.299          \n",
       "\n",
       "      user  \n",
       "21608    5  \n",
       "21609    5  \n",
       "21610    5  \n",
       "21611    5  \n",
       "21612    5  "
      ]
     },
     "execution_count": 34,
     "metadata": {},
     "output_type": "execute_result"
    }
   ],
   "source": [
    "new_user.tail()"
   ]
  },
  {
   "cell_type": "markdown",
   "metadata": {},
   "source": [
    "### Joining all dataframes together"
   ]
  },
  {
   "cell_type": "code",
   "execution_count": 35,
   "metadata": {
    "collapsed": false
   },
   "outputs": [],
   "source": [
    "first_join = dfp.append(user2, ignore_index=True)"
   ]
  },
  {
   "cell_type": "code",
   "execution_count": 36,
   "metadata": {
    "collapsed": false
   },
   "outputs": [
    {
     "data": {
      "text/html": [
       "<div>\n",
       "<table border=\"1\" class=\"dataframe\">\n",
       "  <thead>\n",
       "    <tr style=\"text-align: right;\">\n",
       "      <th></th>\n",
       "      <th>price</th>\n",
       "      <th>bedrooms</th>\n",
       "      <th>bathrooms</th>\n",
       "      <th>floors</th>\n",
       "      <th>zipcode</th>\n",
       "      <th>lat</th>\n",
       "      <th>long</th>\n",
       "      <th>rating</th>\n",
       "      <th>user</th>\n",
       "    </tr>\n",
       "  </thead>\n",
       "  <tbody>\n",
       "    <tr>\n",
       "      <th>43219</th>\n",
       "      <td>360000</td>\n",
       "      <td>3</td>\n",
       "      <td>2.50</td>\n",
       "      <td>3</td>\n",
       "      <td>98103</td>\n",
       "      <td>47.6993</td>\n",
       "      <td>-122.346</td>\n",
       "      <td>7.90</td>\n",
       "      <td>2</td>\n",
       "    </tr>\n",
       "    <tr>\n",
       "      <th>43220</th>\n",
       "      <td>400000</td>\n",
       "      <td>4</td>\n",
       "      <td>2.50</td>\n",
       "      <td>2</td>\n",
       "      <td>98146</td>\n",
       "      <td>47.5107</td>\n",
       "      <td>-122.362</td>\n",
       "      <td>-5.90</td>\n",
       "      <td>2</td>\n",
       "    </tr>\n",
       "    <tr>\n",
       "      <th>43221</th>\n",
       "      <td>402101</td>\n",
       "      <td>2</td>\n",
       "      <td>0.75</td>\n",
       "      <td>2</td>\n",
       "      <td>98144</td>\n",
       "      <td>47.5944</td>\n",
       "      <td>-122.299</td>\n",
       "      <td>88.25</td>\n",
       "      <td>2</td>\n",
       "    </tr>\n",
       "    <tr>\n",
       "      <th>43222</th>\n",
       "      <td>400000</td>\n",
       "      <td>3</td>\n",
       "      <td>2.50</td>\n",
       "      <td>2</td>\n",
       "      <td>98027</td>\n",
       "      <td>47.5345</td>\n",
       "      <td>-122.069</td>\n",
       "      <td>39.00</td>\n",
       "      <td>2</td>\n",
       "    </tr>\n",
       "    <tr>\n",
       "      <th>43223</th>\n",
       "      <td>325000</td>\n",
       "      <td>2</td>\n",
       "      <td>0.75</td>\n",
       "      <td>2</td>\n",
       "      <td>98144</td>\n",
       "      <td>47.5941</td>\n",
       "      <td>-122.299</td>\n",
       "      <td>-10.45</td>\n",
       "      <td>2</td>\n",
       "    </tr>\n",
       "  </tbody>\n",
       "</table>\n",
       "</div>"
      ],
      "text/plain": [
       "        price  bedrooms  bathrooms  floors  zipcode      lat     long  rating  \\\n",
       "43219  360000         3       2.50       3    98103  47.6993 -122.346    7.90   \n",
       "43220  400000         4       2.50       2    98146  47.5107 -122.362   -5.90   \n",
       "43221  402101         2       0.75       2    98144  47.5944 -122.299   88.25   \n",
       "43222  400000         3       2.50       2    98027  47.5345 -122.069   39.00   \n",
       "43223  325000         2       0.75       2    98144  47.5941 -122.299  -10.45   \n",
       "\n",
       "      user  \n",
       "43219    2  \n",
       "43220    2  \n",
       "43221    2  \n",
       "43222    2  \n",
       "43223    2  "
      ]
     },
     "execution_count": 36,
     "metadata": {},
     "output_type": "execute_result"
    }
   ],
   "source": [
    "first_join.tail()"
   ]
  },
  {
   "cell_type": "code",
   "execution_count": 37,
   "metadata": {
    "collapsed": false
   },
   "outputs": [],
   "source": [
    "second_join = first_join.append(user3, ignore_index=True)"
   ]
  },
  {
   "cell_type": "code",
   "execution_count": 38,
   "metadata": {
    "collapsed": false
   },
   "outputs": [
    {
     "data": {
      "text/html": [
       "<div>\n",
       "<table border=\"1\" class=\"dataframe\">\n",
       "  <thead>\n",
       "    <tr style=\"text-align: right;\">\n",
       "      <th></th>\n",
       "      <th>price</th>\n",
       "      <th>bedrooms</th>\n",
       "      <th>bathrooms</th>\n",
       "      <th>floors</th>\n",
       "      <th>zipcode</th>\n",
       "      <th>lat</th>\n",
       "      <th>long</th>\n",
       "      <th>rating</th>\n",
       "      <th>user</th>\n",
       "    </tr>\n",
       "  </thead>\n",
       "  <tbody>\n",
       "    <tr>\n",
       "      <th>64831</th>\n",
       "      <td>360000</td>\n",
       "      <td>3</td>\n",
       "      <td>2.50</td>\n",
       "      <td>3</td>\n",
       "      <td>98103</td>\n",
       "      <td>47.6993</td>\n",
       "      <td>-122.346</td>\n",
       "      <td>12.90</td>\n",
       "      <td>3</td>\n",
       "    </tr>\n",
       "    <tr>\n",
       "      <th>64832</th>\n",
       "      <td>400000</td>\n",
       "      <td>4</td>\n",
       "      <td>2.50</td>\n",
       "      <td>2</td>\n",
       "      <td>98146</td>\n",
       "      <td>47.5107</td>\n",
       "      <td>-122.362</td>\n",
       "      <td>-2.40</td>\n",
       "      <td>3</td>\n",
       "    </tr>\n",
       "    <tr>\n",
       "      <th>64833</th>\n",
       "      <td>402101</td>\n",
       "      <td>2</td>\n",
       "      <td>0.75</td>\n",
       "      <td>2</td>\n",
       "      <td>98144</td>\n",
       "      <td>47.5944</td>\n",
       "      <td>-122.299</td>\n",
       "      <td>94.75</td>\n",
       "      <td>3</td>\n",
       "    </tr>\n",
       "    <tr>\n",
       "      <th>64834</th>\n",
       "      <td>400000</td>\n",
       "      <td>3</td>\n",
       "      <td>2.50</td>\n",
       "      <td>2</td>\n",
       "      <td>98027</td>\n",
       "      <td>47.5345</td>\n",
       "      <td>-122.069</td>\n",
       "      <td>44.00</td>\n",
       "      <td>3</td>\n",
       "    </tr>\n",
       "    <tr>\n",
       "      <th>64835</th>\n",
       "      <td>325000</td>\n",
       "      <td>2</td>\n",
       "      <td>0.75</td>\n",
       "      <td>2</td>\n",
       "      <td>98144</td>\n",
       "      <td>47.5941</td>\n",
       "      <td>-122.299</td>\n",
       "      <td>-6.45</td>\n",
       "      <td>3</td>\n",
       "    </tr>\n",
       "  </tbody>\n",
       "</table>\n",
       "</div>"
      ],
      "text/plain": [
       "        price  bedrooms  bathrooms  floors  zipcode      lat     long  rating  \\\n",
       "64831  360000         3       2.50       3    98103  47.6993 -122.346   12.90   \n",
       "64832  400000         4       2.50       2    98146  47.5107 -122.362   -2.40   \n",
       "64833  402101         2       0.75       2    98144  47.5944 -122.299   94.75   \n",
       "64834  400000         3       2.50       2    98027  47.5345 -122.069   44.00   \n",
       "64835  325000         2       0.75       2    98144  47.5941 -122.299   -6.45   \n",
       "\n",
       "      user  \n",
       "64831    3  \n",
       "64832    3  \n",
       "64833    3  \n",
       "64834    3  \n",
       "64835    3  "
      ]
     },
     "execution_count": 38,
     "metadata": {},
     "output_type": "execute_result"
    }
   ],
   "source": [
    "second_join.tail()"
   ]
  },
  {
   "cell_type": "code",
   "execution_count": 39,
   "metadata": {
    "collapsed": true
   },
   "outputs": [],
   "source": [
    "third_join = second_join.append(user4, ignore_index=True)"
   ]
  },
  {
   "cell_type": "code",
   "execution_count": 40,
   "metadata": {
    "collapsed": false
   },
   "outputs": [
    {
     "data": {
      "text/html": [
       "<div>\n",
       "<table border=\"1\" class=\"dataframe\">\n",
       "  <thead>\n",
       "    <tr style=\"text-align: right;\">\n",
       "      <th></th>\n",
       "      <th>price</th>\n",
       "      <th>bedrooms</th>\n",
       "      <th>bathrooms</th>\n",
       "      <th>floors</th>\n",
       "      <th>zipcode</th>\n",
       "      <th>lat</th>\n",
       "      <th>long</th>\n",
       "      <th>rating</th>\n",
       "      <th>user</th>\n",
       "    </tr>\n",
       "  </thead>\n",
       "  <tbody>\n",
       "    <tr>\n",
       "      <th>86443</th>\n",
       "      <td>360000</td>\n",
       "      <td>3</td>\n",
       "      <td>2.50</td>\n",
       "      <td>3</td>\n",
       "      <td>98103</td>\n",
       "      <td>47.6993</td>\n",
       "      <td>-122.346</td>\n",
       "      <td>26.95</td>\n",
       "      <td>4</td>\n",
       "    </tr>\n",
       "    <tr>\n",
       "      <th>86444</th>\n",
       "      <td>400000</td>\n",
       "      <td>4</td>\n",
       "      <td>2.50</td>\n",
       "      <td>2</td>\n",
       "      <td>98146</td>\n",
       "      <td>47.5107</td>\n",
       "      <td>-122.362</td>\n",
       "      <td>2.65</td>\n",
       "      <td>4</td>\n",
       "    </tr>\n",
       "    <tr>\n",
       "      <th>86445</th>\n",
       "      <td>402101</td>\n",
       "      <td>2</td>\n",
       "      <td>0.75</td>\n",
       "      <td>2</td>\n",
       "      <td>98144</td>\n",
       "      <td>47.5944</td>\n",
       "      <td>-122.299</td>\n",
       "      <td>105.75</td>\n",
       "      <td>4</td>\n",
       "    </tr>\n",
       "    <tr>\n",
       "      <th>86446</th>\n",
       "      <td>400000</td>\n",
       "      <td>3</td>\n",
       "      <td>2.50</td>\n",
       "      <td>2</td>\n",
       "      <td>98027</td>\n",
       "      <td>47.5345</td>\n",
       "      <td>-122.069</td>\n",
       "      <td>59.05</td>\n",
       "      <td>4</td>\n",
       "    </tr>\n",
       "    <tr>\n",
       "      <th>86447</th>\n",
       "      <td>325000</td>\n",
       "      <td>2</td>\n",
       "      <td>0.75</td>\n",
       "      <td>2</td>\n",
       "      <td>98144</td>\n",
       "      <td>47.5941</td>\n",
       "      <td>-122.299</td>\n",
       "      <td>8.60</td>\n",
       "      <td>4</td>\n",
       "    </tr>\n",
       "  </tbody>\n",
       "</table>\n",
       "</div>"
      ],
      "text/plain": [
       "        price  bedrooms  bathrooms  floors  zipcode      lat     long  rating  \\\n",
       "86443  360000         3       2.50       3    98103  47.6993 -122.346   26.95   \n",
       "86444  400000         4       2.50       2    98146  47.5107 -122.362    2.65   \n",
       "86445  402101         2       0.75       2    98144  47.5944 -122.299  105.75   \n",
       "86446  400000         3       2.50       2    98027  47.5345 -122.069   59.05   \n",
       "86447  325000         2       0.75       2    98144  47.5941 -122.299    8.60   \n",
       "\n",
       "      user  \n",
       "86443    4  \n",
       "86444    4  \n",
       "86445    4  \n",
       "86446    4  \n",
       "86447    4  "
      ]
     },
     "execution_count": 40,
     "metadata": {},
     "output_type": "execute_result"
    }
   ],
   "source": [
    "third_join.tail()"
   ]
  },
  {
   "cell_type": "code",
   "execution_count": 41,
   "metadata": {
    "collapsed": true
   },
   "outputs": [],
   "source": [
    "all_users = third_join.append(new_user, ignore_index=True)"
   ]
  },
  {
   "cell_type": "code",
   "execution_count": 42,
   "metadata": {
    "collapsed": false
   },
   "outputs": [
    {
     "data": {
      "text/html": [
       "<div>\n",
       "<table border=\"1\" class=\"dataframe\">\n",
       "  <thead>\n",
       "    <tr style=\"text-align: right;\">\n",
       "      <th></th>\n",
       "      <th>price</th>\n",
       "      <th>bedrooms</th>\n",
       "      <th>bathrooms</th>\n",
       "      <th>floors</th>\n",
       "      <th>zipcode</th>\n",
       "      <th>lat</th>\n",
       "      <th>long</th>\n",
       "      <th>rating</th>\n",
       "      <th>user</th>\n",
       "    </tr>\n",
       "  </thead>\n",
       "  <tbody>\n",
       "    <tr>\n",
       "      <th>108056</th>\n",
       "      <td>360000</td>\n",
       "      <td>3</td>\n",
       "      <td>2.50</td>\n",
       "      <td>3</td>\n",
       "      <td>98103</td>\n",
       "      <td>47.6993</td>\n",
       "      <td>-122.346</td>\n",
       "      <td>4</td>\n",
       "      <td>5</td>\n",
       "    </tr>\n",
       "    <tr>\n",
       "      <th>108057</th>\n",
       "      <td>400000</td>\n",
       "      <td>4</td>\n",
       "      <td>2.50</td>\n",
       "      <td>2</td>\n",
       "      <td>98146</td>\n",
       "      <td>47.5107</td>\n",
       "      <td>-122.362</td>\n",
       "      <td></td>\n",
       "      <td>5</td>\n",
       "    </tr>\n",
       "    <tr>\n",
       "      <th>108058</th>\n",
       "      <td>402101</td>\n",
       "      <td>2</td>\n",
       "      <td>0.75</td>\n",
       "      <td>2</td>\n",
       "      <td>98144</td>\n",
       "      <td>47.5944</td>\n",
       "      <td>-122.299</td>\n",
       "      <td>4</td>\n",
       "      <td>5</td>\n",
       "    </tr>\n",
       "    <tr>\n",
       "      <th>108059</th>\n",
       "      <td>400000</td>\n",
       "      <td>3</td>\n",
       "      <td>2.50</td>\n",
       "      <td>2</td>\n",
       "      <td>98027</td>\n",
       "      <td>47.5345</td>\n",
       "      <td>-122.069</td>\n",
       "      <td></td>\n",
       "      <td>5</td>\n",
       "    </tr>\n",
       "    <tr>\n",
       "      <th>108060</th>\n",
       "      <td>325000</td>\n",
       "      <td>2</td>\n",
       "      <td>0.75</td>\n",
       "      <td>2</td>\n",
       "      <td>98144</td>\n",
       "      <td>47.5941</td>\n",
       "      <td>-122.299</td>\n",
       "      <td></td>\n",
       "      <td>5</td>\n",
       "    </tr>\n",
       "  </tbody>\n",
       "</table>\n",
       "</div>"
      ],
      "text/plain": [
       "         price  bedrooms  bathrooms  floors  zipcode      lat     long rating  \\\n",
       "108056  360000         3       2.50       3    98103  47.6993 -122.346      4   \n",
       "108057  400000         4       2.50       2    98146  47.5107 -122.362          \n",
       "108058  402101         2       0.75       2    98144  47.5944 -122.299      4   \n",
       "108059  400000         3       2.50       2    98027  47.5345 -122.069          \n",
       "108060  325000         2       0.75       2    98144  47.5941 -122.299          \n",
       "\n",
       "       user  \n",
       "108056    5  \n",
       "108057    5  \n",
       "108058    5  \n",
       "108059    5  \n",
       "108060    5  "
      ]
     },
     "execution_count": 42,
     "metadata": {},
     "output_type": "execute_result"
    }
   ],
   "source": [
    "all_users.tail()"
   ]
  },
  {
   "cell_type": "code",
   "execution_count": 275,
   "metadata": {
    "collapsed": false
   },
   "outputs": [],
   "source": [
    "#import pandas as pd\n",
    "\n",
    "#add_frames = [dfp,user2,user3,user4,new_user]\n",
    "\n",
    "#for df in add_frames:\n",
    "    #df.columns = ['price','bedrooms','bathrooms','floors','zipcode','lat','long','rating','user']\n",
    "    \n",
    "#pd.concat(add_frames).reset_index(drop=True)"
   ]
  },
  {
   "cell_type": "code",
   "execution_count": 276,
   "metadata": {
    "collapsed": false
   },
   "outputs": [],
   "source": [
    "#from itertools import zip_longest\n",
    "#import csv\n",
    "\n",
    "#with open('all_users.csv', 'w',) as f:\n",
    "    #w = csv.writer(f)\n",
    "    #w.writerow([\"price\",\"bedrooms\",\"bathrooms\",\"floors\",\"zipcode\",\"la\",\"long\",\"rating\",\"user\"])\n",
    "    #for i,j,k,l,m in zip_longest(dfp,user2,user3,user4,new_user):\n",
    "        #w.writerow([i,j,k,l,m])"
   ]
  },
  {
   "cell_type": "code",
   "execution_count": 224,
   "metadata": {
    "collapsed": true
   },
   "outputs": [],
   "source": [
    "# This will turn a column to a row\n",
    "\n",
    "#new_rating = dfp.transpose()\n",
    "#new_rating.head()"
   ]
  },
  {
   "cell_type": "code",
   "execution_count": 45,
   "metadata": {
    "collapsed": false
   },
   "outputs": [
    {
     "data": {
      "text/html": [
       "<div>\n",
       "<table border=\"1\" class=\"dataframe\">\n",
       "  <thead>\n",
       "    <tr style=\"text-align: right;\">\n",
       "      <th></th>\n",
       "      <th>price</th>\n",
       "      <th>bedrooms</th>\n",
       "      <th>bathrooms</th>\n",
       "      <th>floors</th>\n",
       "      <th>zipcode</th>\n",
       "      <th>lat</th>\n",
       "      <th>long</th>\n",
       "      <th>rating</th>\n",
       "      <th>user</th>\n",
       "    </tr>\n",
       "  </thead>\n",
       "  <tbody>\n",
       "    <tr>\n",
       "      <th>0</th>\n",
       "      <td>538000</td>\n",
       "      <td>3</td>\n",
       "      <td>2.25</td>\n",
       "      <td>2</td>\n",
       "      <td>98125</td>\n",
       "      <td>47.7210</td>\n",
       "      <td>-122.319</td>\n",
       "      <td>15.5</td>\n",
       "      <td>1</td>\n",
       "    </tr>\n",
       "    <tr>\n",
       "      <th>1</th>\n",
       "      <td>180000</td>\n",
       "      <td>2</td>\n",
       "      <td>1.00</td>\n",
       "      <td>1</td>\n",
       "      <td>98028</td>\n",
       "      <td>47.7379</td>\n",
       "      <td>-122.233</td>\n",
       "      <td>-6.3</td>\n",
       "      <td>1</td>\n",
       "    </tr>\n",
       "    <tr>\n",
       "      <th>2</th>\n",
       "      <td>604000</td>\n",
       "      <td>4</td>\n",
       "      <td>3.00</td>\n",
       "      <td>1</td>\n",
       "      <td>98136</td>\n",
       "      <td>47.5208</td>\n",
       "      <td>-122.393</td>\n",
       "      <td>9.05</td>\n",
       "      <td>1</td>\n",
       "    </tr>\n",
       "    <tr>\n",
       "      <th>3</th>\n",
       "      <td>510000</td>\n",
       "      <td>3</td>\n",
       "      <td>2.00</td>\n",
       "      <td>1</td>\n",
       "      <td>98074</td>\n",
       "      <td>47.6168</td>\n",
       "      <td>-122.045</td>\n",
       "      <td>2.25</td>\n",
       "      <td>1</td>\n",
       "    </tr>\n",
       "    <tr>\n",
       "      <th>4</th>\n",
       "      <td>1225000</td>\n",
       "      <td>4</td>\n",
       "      <td>4.50</td>\n",
       "      <td>1</td>\n",
       "      <td>98053</td>\n",
       "      <td>47.6561</td>\n",
       "      <td>-122.005</td>\n",
       "      <td>9.5</td>\n",
       "      <td>1</td>\n",
       "    </tr>\n",
       "  </tbody>\n",
       "</table>\n",
       "</div>"
      ],
      "text/plain": [
       "     price  bedrooms  bathrooms  floors  zipcode      lat     long rating user\n",
       "0   538000         3       2.25       2    98125  47.7210 -122.319   15.5    1\n",
       "1   180000         2       1.00       1    98028  47.7379 -122.233   -6.3    1\n",
       "2   604000         4       3.00       1    98136  47.5208 -122.393   9.05    1\n",
       "3   510000         3       2.00       1    98074  47.6168 -122.045   2.25    1\n",
       "4  1225000         4       4.50       1    98053  47.6561 -122.005    9.5    1"
      ]
     },
     "execution_count": 45,
     "metadata": {},
     "output_type": "execute_result"
    }
   ],
   "source": [
    "all_users.head()"
   ]
  },
  {
   "cell_type": "code",
   "execution_count": 46,
   "metadata": {
    "collapsed": false
   },
   "outputs": [
    {
     "data": {
      "text/html": [
       "<div>\n",
       "<table border=\"1\" class=\"dataframe\">\n",
       "  <thead>\n",
       "    <tr style=\"text-align: right;\">\n",
       "      <th></th>\n",
       "      <th>price</th>\n",
       "      <th>bedrooms</th>\n",
       "      <th>bathrooms</th>\n",
       "      <th>floors</th>\n",
       "      <th>zipcode</th>\n",
       "      <th>lat</th>\n",
       "      <th>long</th>\n",
       "      <th>rating</th>\n",
       "      <th>user</th>\n",
       "    </tr>\n",
       "  </thead>\n",
       "  <tbody>\n",
       "    <tr>\n",
       "      <th>108056</th>\n",
       "      <td>360000</td>\n",
       "      <td>3</td>\n",
       "      <td>2.50</td>\n",
       "      <td>3</td>\n",
       "      <td>98103</td>\n",
       "      <td>47.6993</td>\n",
       "      <td>-122.346</td>\n",
       "      <td>4</td>\n",
       "      <td>5</td>\n",
       "    </tr>\n",
       "    <tr>\n",
       "      <th>108057</th>\n",
       "      <td>400000</td>\n",
       "      <td>4</td>\n",
       "      <td>2.50</td>\n",
       "      <td>2</td>\n",
       "      <td>98146</td>\n",
       "      <td>47.5107</td>\n",
       "      <td>-122.362</td>\n",
       "      <td></td>\n",
       "      <td>5</td>\n",
       "    </tr>\n",
       "    <tr>\n",
       "      <th>108058</th>\n",
       "      <td>402101</td>\n",
       "      <td>2</td>\n",
       "      <td>0.75</td>\n",
       "      <td>2</td>\n",
       "      <td>98144</td>\n",
       "      <td>47.5944</td>\n",
       "      <td>-122.299</td>\n",
       "      <td>4</td>\n",
       "      <td>5</td>\n",
       "    </tr>\n",
       "    <tr>\n",
       "      <th>108059</th>\n",
       "      <td>400000</td>\n",
       "      <td>3</td>\n",
       "      <td>2.50</td>\n",
       "      <td>2</td>\n",
       "      <td>98027</td>\n",
       "      <td>47.5345</td>\n",
       "      <td>-122.069</td>\n",
       "      <td></td>\n",
       "      <td>5</td>\n",
       "    </tr>\n",
       "    <tr>\n",
       "      <th>108060</th>\n",
       "      <td>325000</td>\n",
       "      <td>2</td>\n",
       "      <td>0.75</td>\n",
       "      <td>2</td>\n",
       "      <td>98144</td>\n",
       "      <td>47.5941</td>\n",
       "      <td>-122.299</td>\n",
       "      <td></td>\n",
       "      <td>5</td>\n",
       "    </tr>\n",
       "  </tbody>\n",
       "</table>\n",
       "</div>"
      ],
      "text/plain": [
       "         price  bedrooms  bathrooms  floors  zipcode      lat     long rating  \\\n",
       "108056  360000         3       2.50       3    98103  47.6993 -122.346      4   \n",
       "108057  400000         4       2.50       2    98146  47.5107 -122.362          \n",
       "108058  402101         2       0.75       2    98144  47.5944 -122.299      4   \n",
       "108059  400000         3       2.50       2    98027  47.5345 -122.069          \n",
       "108060  325000         2       0.75       2    98144  47.5941 -122.299          \n",
       "\n",
       "       user  \n",
       "108056    5  \n",
       "108057    5  \n",
       "108058    5  \n",
       "108059    5  \n",
       "108060    5  "
      ]
     },
     "execution_count": 46,
     "metadata": {},
     "output_type": "execute_result"
    }
   ],
   "source": [
    "all_users.tail()"
   ]
  },
  {
   "cell_type": "code",
   "execution_count": null,
   "metadata": {
    "collapsed": true
   },
   "outputs": [],
   "source": []
  },
  {
   "cell_type": "code",
   "execution_count": 55,
   "metadata": {
    "collapsed": false
   },
   "outputs": [
    {
     "ename": "TypeError",
     "evalue": "'DataFrame' object is not callable",
     "output_type": "error",
     "traceback": [
      "\u001b[1;31m---------------------------------------------------------------------------\u001b[0m",
      "\u001b[1;31mTypeError\u001b[0m                                 Traceback (most recent call last)",
      "\u001b[1;32m<ipython-input-55-1cd0e63846ba>\u001b[0m in \u001b[0;36m<module>\u001b[1;34m()\u001b[0m\n\u001b[0;32m      1\u001b[0m \u001b[1;31m#import numpy as np\u001b[0m\u001b[1;33m\u001b[0m\u001b[1;33m\u001b[0m\u001b[0m\n\u001b[0;32m      2\u001b[0m \u001b[1;31m#all_users.loc[:, 'rating':'user']\u001b[0m\u001b[1;33m\u001b[0m\u001b[1;33m\u001b[0m\u001b[0m\n\u001b[1;32m----> 3\u001b[1;33m \u001b[0mtesting\u001b[0m \u001b[1;33m=\u001b[0m \u001b[0mall_users\u001b[0m\u001b[1;33m(\u001b[0m\u001b[0musecols\u001b[0m\u001b[1;33m=\u001b[0m\u001b[1;33m[\u001b[0m\u001b[1;36m0\u001b[0m\u001b[1;33m,\u001b[0m\u001b[1;36m1\u001b[0m\u001b[1;33m,\u001b[0m\u001b[1;36m2\u001b[0m\u001b[1;33m]\u001b[0m\u001b[1;33m,\u001b[0m \u001b[0mindex_col\u001b[0m\u001b[1;33m=\u001b[0m\u001b[1;36m0\u001b[0m\u001b[1;33m,\u001b[0m \u001b[0mnames\u001b[0m\u001b[1;33m=\u001b[0m\u001b[1;33m[\u001b[0m\u001b[1;34m'price'\u001b[0m\u001b[1;33m,\u001b[0m\u001b[1;34m'bedrooms'\u001b[0m\u001b[1;33m,\u001b[0m\u001b[1;34m'bathrooms'\u001b[0m\u001b[1;33m]\u001b[0m\u001b[1;33m)\u001b[0m\u001b[1;33m\u001b[0m\u001b[0m\n\u001b[0m",
      "\u001b[1;31mTypeError\u001b[0m: 'DataFrame' object is not callable"
     ]
    }
   ],
   "source": [
    "#import numpy as np\n",
    "all_users.loc[:, 'rating':'user']\n"
   ]
  },
  {
   "cell_type": "markdown",
   "metadata": {},
   "source": [
    "### A function to get the top 5 ratings for a particular user"
   ]
  },
  {
   "cell_type": "code",
   "execution_count": 43,
   "metadata": {
    "collapsed": true
   },
   "outputs": [],
   "source": [
    "def faveHomes(user,N):\n",
    "    userRatings = all_users[all_users[\"user\"]==user]\n",
    "    sortedRatings = pd.DataFrame.sort_values(userRatings,[\"rating\"],ascending=[0])[:N]\n",
    "    return sortedRatings"
   ]
  },
  {
   "cell_type": "code",
   "execution_count": 47,
   "metadata": {
    "collapsed": false
   },
   "outputs": [
    {
     "data": {
      "text/html": [
       "<div>\n",
       "<table border=\"1\" class=\"dataframe\">\n",
       "  <thead>\n",
       "    <tr style=\"text-align: right;\">\n",
       "      <th></th>\n",
       "      <th>price</th>\n",
       "      <th>bedrooms</th>\n",
       "      <th>bathrooms</th>\n",
       "      <th>floors</th>\n",
       "      <th>zipcode</th>\n",
       "      <th>lat</th>\n",
       "      <th>long</th>\n",
       "      <th>rating</th>\n",
       "      <th>user</th>\n",
       "    </tr>\n",
       "  </thead>\n",
       "  <tbody>\n",
       "  </tbody>\n",
       "</table>\n",
       "</div>"
      ],
      "text/plain": [
       "Empty DataFrame\n",
       "Columns: [price, bedrooms, bathrooms, floors, zipcode, lat, long, rating, user]\n",
       "Index: []"
      ]
     },
     "execution_count": 47,
     "metadata": {},
     "output_type": "execute_result"
    }
   ],
   "source": [
    "faveHomes(1,5)"
   ]
  },
  {
   "cell_type": "markdown",
   "metadata": {
    "collapsed": true
   },
   "source": [
    "### Recommendations\n",
    "1. Finding Home Recommendations\n",
    "    * Know what homes a user already likes\n",
    "    * Find the top homes for the user\n",
    "2. Choosing the right recommendatio algorithm to use:\n",
    "     * **Content based** Find products with \"similar\" attributes\n",
    "     * **Collaborative** Find products liked by \"similar\" users\n",
    "     * **Association Rules** Find \"complementary\" products"
   ]
  },
  {
   "cell_type": "markdown",
   "metadata": {},
   "source": [
    "#### Using Collaborative filtering\n",
    "1. First get the distance between users using Distance Metrics.\n",
    "    * Euclidean Distance\n",
    "    * Correlation Distance\n",
    "    * Hamming Distance"
   ]
  },
  {
   "cell_type": "markdown",
   "metadata": {},
   "source": [
    "#### Euclidean Distance"
   ]
  },
  {
   "cell_type": "markdown",
   "metadata": {},
   "source": [
    "#### Replacing some values with 0\n",
    "As my dataframe is completely populated I need to randomly remove values from the dataset to predict recommendations to a user.\n"
   ]
  },
  {
   "cell_type": "markdown",
   "metadata": {},
   "source": [
    "#### Randomly remove values from columns"
   ]
  },
  {
   "cell_type": "code",
   "execution_count": null,
   "metadata": {
    "collapsed": true
   },
   "outputs": [],
   "source": []
  },
  {
   "cell_type": "markdown",
   "metadata": {
    "collapsed": true
   },
   "source": [
    "#### Get recommendations "
   ]
  },
  {
   "cell_type": "code",
   "execution_count": null,
   "metadata": {
    "collapsed": true
   },
   "outputs": [],
   "source": [
    "def get_recs()"
   ]
  },
  {
   "cell_type": "code",
   "execution_count": null,
   "metadata": {
    "collapsed": true
   },
   "outputs": [],
   "source": []
  },
  {
   "cell_type": "code",
   "execution_count": 46,
   "metadata": {
    "collapsed": false
   },
   "outputs": [
    {
     "data": {
      "text/plain": [
       "'price'"
      ]
     },
     "execution_count": 46,
     "metadata": {},
     "output_type": "execute_result"
    }
   ],
   "source": [
    "new_home_list[0]"
   ]
  },
  {
   "cell_type": "code",
   "execution_count": 47,
   "metadata": {
    "collapsed": false
   },
   "outputs": [
    {
     "data": {
      "text/plain": [
       "'Desired Bedrooms'"
      ]
     },
     "execution_count": 47,
     "metadata": {},
     "output_type": "execute_result"
    }
   ],
   "source": [
    "new_home_list[5]"
   ]
  },
  {
   "cell_type": "code",
   "execution_count": 48,
   "metadata": {
    "collapsed": false
   },
   "outputs": [
    {
     "data": {
      "text/plain": [
       "'Desired zipcode'"
      ]
     },
     "execution_count": 48,
     "metadata": {},
     "output_type": "execute_result"
    }
   ],
   "source": [
    "new_home_list[9]"
   ]
  },
  {
   "cell_type": "code",
   "execution_count": 49,
   "metadata": {
    "collapsed": false
   },
   "outputs": [
    {
     "name": "stdout",
     "output_type": "stream",
     "text": [
      "['price', 'bedrooms', 'bathrooms', 'floors', 'zipcode', 'Desired Bedrooms', 'Desired Floors', 'Desired Price', 'Desired bathrooms', 'Desired zipcode']\n"
     ]
    }
   ],
   "source": [
    "print(new_home_list)"
   ]
  },
  {
   "cell_type": "markdown",
   "metadata": {
    "collapsed": true
   },
   "source": [
    "## Testing calculations"
   ]
  },
  {
   "cell_type": "code",
   "execution_count": 3,
   "metadata": {
    "collapsed": false
   },
   "outputs": [
    {
     "name": "stdout",
     "output_type": "stream",
     "text": [
      "Please enter prefered price of apartment: 520000\n",
      "Please enter prefered number of bedrooms: 2\n",
      "Please enter prefered number of bathrooms: 1\n",
      "Please enter prefered floor to live on: 1960\n",
      "al\n",
      "[[520000, 2, 1, 1956, -4], [634000, 3, 2, 1987, 114029], [550000, 2, 2, 1949, 29990]]\n",
      "right\n",
      "hi\n",
      "[0, 0, 0, -4, 114000, 1, 1, 27, 30000, 0, 1, -11]\n",
      "[-4, 114029, 29990]\n",
      "[520000, 2, 1, 1956, -4]\n",
      "low\n",
      "[0, 0, 0, -4]\n",
      "-4\n",
      "[520000, 2, 1, 1956, -4, -4]\n",
      "hello\n",
      "-4\n",
      "114029\n",
      "29990\n"
     ]
    }
   ],
   "source": [
    "import numpy as np\n",
    "\n",
    "# Creating a dummy list of house attributes\n",
    "a = [520000, 2, 1, 1956]\n",
    "b = [634000, 3, 2, 1987]\n",
    "c = [550000, 2, 2, 1949]\n",
    "\n",
    "# Create a list of lists\n",
    "all_lists = [a,b,c]\n",
    "\n",
    "#for element in all_lists:\n",
    "#    print(element)\n",
    "\n",
    "# Create user input\n",
    "price = int(input(\"Please enter prefered price of apartment: \"))\n",
    "bedrooms = int(input(\"Please enter prefered number of bedrooms: \"))\n",
    "bathrooms = int(input(\"Please enter prefered number of bathrooms: \"))\n",
    "year = int(input(\"Please enter prefered floor to live on: \"))\n",
    "\n",
    "# Store user input into a list\n",
    "d = [price,bedrooms,bathrooms,year]\n",
    "\n",
    "# Empty list to store calculation i.e.(user preference price - actual price)\n",
    "results = []\n",
    "\n",
    "# variable to hold value of calculation\n",
    "total_price = 0\n",
    "total_room = 0\n",
    "total_bath = 0\n",
    "total_year = 0\n",
    "\n",
    "# used to loop over the 4th calculation of the list\n",
    "# m used as the starting point and n the number of movements through the list\n",
    "m = 0\n",
    "n = 4\n",
    "\n",
    "sum_results = []\n",
    "\n",
    "for i in all_lists:\n",
    "    total_price = i[0] - d[0]\n",
    "    total_room = i[1] - d[1]\n",
    "    total_bath = i[2] - d[2]\n",
    "    total_year = i[3] - d[3]\n",
    "    \n",
    "    results.append(total_price)\n",
    "    results.append(total_room)\n",
    "    results.append(total_bath)\n",
    "    results.append(total_year)\n",
    "    \n",
    "    #sum_results = sum(results[m:n])\n",
    "    sum_results.append(sum(results[m:n]))\n",
    "    \n",
    "    m += 4\n",
    "    n += 4\n",
    "    \n",
    "new_result1 = []\n",
    "#new_result2 = []\n",
    "\n",
    "v = 0\n",
    "for j in all_lists:\n",
    "    j.append(sum_results[v])\n",
    "    #new_result1.append(j)\n",
    "    #new_result1.insert(-1,sum_results[v])\n",
    "    v += 1\n",
    "    #for t in sum_results:\n",
    "        #new_result1.append(t)\n",
    "        \n",
    "    #new_result2 = new_result1.append(sum_results)\n",
    "\n",
    "print('al')\n",
    "print(all_lists)\n",
    "#print(new_result2)\n",
    "print('right')\n",
    "    \n",
    "    #j = 0\n",
    "    #test = all_lists[j].append(sum_results)\n",
    "    #j += 1\n",
    "    \n",
    "    #print(sum_results)\n",
    "#print(test)\n",
    "    \n",
    "    #add_on = 0\n",
    "    #k = 0\n",
    "    \n",
    "    #for j in results:\n",
    "        #add_on = results[k]\n",
    "        #k += 1\n",
    "    \n",
    "    #sum_results = sum(add_on)\n",
    "    #a.append(sum_results)\n",
    "    #sum_results = sum(results)\n",
    "    #a.append(sum_results)\n",
    "    \n",
    "print('hi')\n",
    "print(results)\n",
    "print(sum_results)\n",
    "print(a)\n",
    "print('low')\n",
    "    \n",
    "\n",
    "\n",
    "\n",
    "#results = []\n",
    "\n",
    "#for test in all_lists:\n",
    "    \n",
    "    # sum for different variables\n",
    "    #total_price = 0\n",
    "    #total_room = 0\n",
    "    #total_bath = 0\n",
    "    #total_year = 0\n",
    "    \n",
    "    #for measurment in test:\n",
    "        #total_price = d[0] - measurment\n",
    "        #total_room = d[1] - measurment\n",
    "        #total_bath = d[2] - measurment\n",
    "        #total_year = d[3] - measurment\n",
    "        \n",
    "    \n",
    "    #results.append(total_price)\n",
    "    #results.append(total_room)\n",
    "    #results.append(total_bath)\n",
    "    #results.append(total_year)\n",
    "#print(results)\n",
    "#print('wazzup')\n",
    "\n",
    "\n",
    "\n",
    "# for loop to get calculation between user input and house attributes\n",
    "#i = 0\n",
    "k = 0\n",
    "store_result = []\n",
    "for i in range(len(a)):\n",
    "    if i <= 3:\n",
    "        result = np.subtract(a[i],d[i])\n",
    "        store_result.append(result)\n",
    "        i += 1\n",
    "print(store_result)\n",
    "final_result = sum(store_result)\n",
    "print(final_result)\n",
    "\n",
    "a.append(final_result)\n",
    "print(a)\n",
    "\n",
    "#######Testing looping through list of lists######################\n",
    "#test_list = []\n",
    "#for m in range(len(all_lists)):\n",
    "#    if m <= len(all_lists):\n",
    " #       test_calc = np.subtract(a[m],d[m])\n",
    "        \n",
    "    \n",
    "\n",
    "#n = 0\n",
    "#for i in range(len(all_lists)):\n",
    "    #d = a - d1 \n",
    "    #print(d)\n",
    "#for var in all_lists:\n",
    " #       for var1 in a:\n",
    "#            print(a[0] - price)\n",
    "\n",
    "print('hello')\n",
    "\n",
    "#d = [price,bedrooms,bathrooms,floor]\n",
    "#print(d)\n",
    "\n",
    "res_price1 = a[0] - d[0]\n",
    "res_room1 = a[1] - d[1]\n",
    "res_bath1 = a[2] - d[2]\n",
    "res_year1 = a[3] - d[3]\n",
    "\n",
    "total_one = res_price1 + res_room1 + res_bath1 + res_year1\n",
    "\n",
    "res_price2 = b[0] - d[0]\n",
    "res_room2 = b[1] - d[1]\n",
    "res_bath2 = b[2] - d[2]\n",
    "res_year2 = b[3] - d[3]\n",
    "\n",
    "total_two = res_price2 + res_room2 + res_bath2 + res_year2\n",
    "\n",
    "res_price3 = c[0] - d[0]\n",
    "res_room3 = c[1] - d[1]\n",
    "res_bath3 = c[2] - d[2]\n",
    "res_year3 = c[3] - d[3]\n",
    "\n",
    "total_three = res_price3 + res_room3 + res_bath3 + res_year3\n",
    "\n",
    "\n",
    "print(total_one)\n",
    "print(total_two)\n",
    "print(total_three)"
   ]
  },
  {
   "cell_type": "markdown",
   "metadata": {
    "collapsed": true
   },
   "source": [
    "### Euclidean Distance Testing"
   ]
  },
  {
   "cell_type": "code",
   "execution_count": 53,
   "metadata": {
    "collapsed": true
   },
   "outputs": [],
   "source": [
    "from math import sqrt"
   ]
  },
  {
   "cell_type": "code",
   "execution_count": 54,
   "metadata": {
    "collapsed": true
   },
   "outputs": [],
   "source": [
    "plot1 = [1,3]\n",
    "plot2 = [2,5]"
   ]
  },
  {
   "cell_type": "code",
   "execution_count": 67,
   "metadata": {
    "collapsed": true
   },
   "outputs": [],
   "source": [
    "# This will only work with two featured dimensions\n",
    "euclidean_distance = sqrt((plot1[0] - plot2[0]) ** 2 + (plot1[1] - plot2[1]) ** 2)"
   ]
  },
  {
   "cell_type": "code",
   "execution_count": 68,
   "metadata": {
    "collapsed": false
   },
   "outputs": [
    {
     "name": "stdout",
     "output_type": "stream",
     "text": [
      "2.23606797749979\n"
     ]
    }
   ],
   "source": [
    "print(euclidean_distance)"
   ]
  },
  {
   "cell_type": "markdown",
   "metadata": {},
   "source": [
    "### KNN (K Nearest Neighbour)"
   ]
  },
  {
   "cell_type": "code",
   "execution_count": 57,
   "metadata": {
    "collapsed": true
   },
   "outputs": [],
   "source": [
    "import numpy as np\n",
    "from math import sqrt\n",
    "import matplotlib.pyplot as plt\n",
    "import warnings\n",
    "from matplotlib import style\n",
    "from collections import Counter\n",
    "style.use('fivethirtyeight')"
   ]
  },
  {
   "cell_type": "code",
   "execution_count": 58,
   "metadata": {
    "collapsed": true
   },
   "outputs": [],
   "source": [
    "dataset = {'k':[[1,2],[2,3],[3,1]], 'r':[[6,5],[7,7],[8,6]]}\n",
    "new_features = [5,7]"
   ]
  },
  {
   "cell_type": "code",
   "execution_count": 75,
   "metadata": {
    "collapsed": false
   },
   "outputs": [
    {
     "name": "stdout",
     "output_type": "stream",
     "text": [
      "[('r', 3)]\n",
      "r\n"
     ]
    }
   ],
   "source": [
    "def k_nearest_neighbour(data, predict, k=3):\n",
    "    if len(data) >= k:\n",
    "        warnings.warn('k is set to a value less than total voting groups!')\n",
    "    distances = []\n",
    "    for group in data:\n",
    "        for features in data[group]:\n",
    "            euclian_distance = np.linalg.norm(np.array(features)-np.array(predict))\n",
    "            distances.append([euclian_distance, group])\n",
    "            \n",
    "    votes = [i[1] for i in sorted(distances)[:k]]\n",
    "    print(Counter(votes).most_common(1))\n",
    "    vote_result = Counter(votes).most_common(1)[0][0]\n",
    "    \n",
    "    return vote_result\n",
    "        \n",
    "result = k_nearest_neighbour(dataset, new_features, k=3)\n",
    "print(result)"
   ]
  },
  {
   "cell_type": "code",
   "execution_count": 76,
   "metadata": {
    "collapsed": false
   },
   "outputs": [
    {
     "data": {
      "image/png": "[encoded data removed]",
      "text/plain": [
       "<matplotlib.figure.Figure at 0x22cd0aaa828>"
      ]
     },
     "metadata": {},
     "output_type": "display_data"
    }
   ],
   "source": [
    "[[plt.scatter(ii[0],ii[1], s=100, color=i) for ii in dataset[i]] for i in dataset]\n",
    "plt.scatter(new_features[0],new_features[1], color=result)\n",
    "plt.show()"
   ]
  },
  {
   "cell_type": "markdown",
   "metadata": {
    "collapsed": true
   },
   "source": []
  }
 ],
 "metadata": {
  "kernelspec": {
   "display_name": "Python 3",
   "language": "python",
   "name": "python3"
  },
  "language_info": {
   "codemirror_mode": {
    "name": "ipython",
    "version": 3
   },
   "file_extension": ".py",
   "mimetype": "text/x-python",
   "name": "python",
   "nbconvert_exporter": "python",
   "pygments_lexer": "ipython3",
   "version": "3.5.1"
  }
 },
 "nbformat": 4,
 "nbformat_minor": 0
}
